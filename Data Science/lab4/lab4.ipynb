{
 "cells": [
  {
   "cell_type": "code",
   "execution_count": 1,
   "metadata": {},
   "outputs": [],
   "source": [
    "import numpy as np\n",
    "import matplotlib.pyplot as plt\n",
    "import pandas as pd\n",
    "from sklearn.model_selection import KFold, train_test_split\n",
    "from sklearn.neighbors import KNeighborsClassifier\n",
    "from sklearn.decomposition import PCA\n",
    "from sklearn.tree import DecisionTreeClassifier, plot_tree"
   ]
  },
  {
   "cell_type": "code",
   "execution_count": 3,
   "metadata": {},
   "outputs": [
    {
     "data": {
      "text/plain": [
       "array([[ 1.41759037e-01,  2.14948819e-01,  6.04573297e-05, ...,\n",
       "         1.41364035e-01, -9.83800962e-01, -3.82663054e-01],\n",
       "       [ 1.11613558e-02,  8.20415339e-03,  4.27493778e-01, ...,\n",
       "         1.96961591e-01, -1.78390358e+00, -9.19815597e-01],\n",
       "       [-1.91608729e-01, -3.59341919e-01,  1.43894490e+00, ...,\n",
       "         2.07551602e-01, -6.65888201e-01, -1.18635720e+00],\n",
       "       ...,\n",
       "       [-5.66217868e-01, -6.88601941e-01,  7.32198720e-01, ...,\n",
       "        -7.04361781e-02,  3.06925421e+00, -7.16348724e-01],\n",
       "       [-1.03362010e+00, -1.03317638e+00, -7.99790014e-01, ...,\n",
       "        -1.11884723e+00, -6.79727762e-02, -7.40764749e-01],\n",
       "       [-8.75528167e-01, -9.33632656e-01, -1.09971883e-01, ...,\n",
       "        -7.53491866e-01,  1.28814463e+00, -7.02106043e-01]])"
      ]
     },
     "execution_count": 3,
     "metadata": {},
     "output_type": "execute_result"
    }
   ],
   "source": [
    "df = pd.read_csv('seeds_dataset.txt', sep='\\s+', header=None)\n",
    "y = np.array(df[7])\n",
    "df = (df-df.mean())/df.std()\n",
    "X = np.array(df.drop(columns=7))\n",
    "X"
   ]
  },
  {
   "cell_type": "code",
   "execution_count": 4,
   "metadata": {},
   "outputs": [],
   "source": [
    "seed = 42\n",
    "k_cross = 5\n",
    "k_neighbors = np.arange(1, 10)\n",
    "metrics = ['euclidean', 'manhattan', 'chebyshev', 'minkowski']"
   ]
  },
  {
   "cell_type": "code",
   "execution_count": 5,
   "metadata": {},
   "outputs": [],
   "source": [
    "pca = PCA(n_components=2)\n",
    "X_trans = pca.fit_transform(X)"
   ]
  },
  {
   "cell_type": "code",
   "execution_count": 6,
   "metadata": {},
   "outputs": [],
   "source": [
    "kf = KFold(n_splits=k_cross, shuffle=True, random_state=42)"
   ]
  },
  {
   "cell_type": "code",
   "execution_count": 8,
   "metadata": {},
   "outputs": [
    {
     "data": {
      "text/plain": [
       "array([[0., 0., 0., 0.],\n",
       "       [0., 0., 0., 0.],\n",
       "       [0., 0., 0., 0.],\n",
       "       [0., 0., 0., 0.],\n",
       "       [0., 0., 0., 0.],\n",
       "       [0., 0., 0., 0.],\n",
       "       [0., 0., 0., 0.],\n",
       "       [0., 0., 0., 0.],\n",
       "       [0., 0., 0., 0.]])"
      ]
     },
     "execution_count": 8,
     "metadata": {},
     "output_type": "execute_result"
    }
   ],
   "source": [
    "acc = np.zeros((len(k_neighbors), len(metrics)))\n",
    "acc"
   ]
  },
  {
   "cell_type": "code",
   "execution_count": 9,
   "metadata": {},
   "outputs": [
    {
     "data": {
      "text/plain": [
       "array([0., 0., 0., 0., 0.])"
      ]
     },
     "execution_count": 9,
     "metadata": {},
     "output_type": "execute_result"
    }
   ],
   "source": []
  },
  {
   "cell_type": "code",
   "execution_count": 19,
   "metadata": {},
   "outputs": [
    {
     "name": "stdout",
     "output_type": "stream",
     "text": [
      "1 neighbors, euclidean metric: 0.9285714285714285\n",
      "1 neighbors, manhattan metric: 0.9095238095238095\n",
      "1 neighbors, chebyshev metric: 0.9142857142857144\n",
      "1 neighbors, minkowski metric: 0.9285714285714285\n",
      "2 neighbors, euclidean metric: 0.8904761904761905\n",
      "2 neighbors, manhattan metric: 0.9047619047619048\n",
      "2 neighbors, chebyshev metric: 0.9142857142857143\n",
      "2 neighbors, minkowski metric: 0.8904761904761905\n",
      "3 neighbors, euclidean metric: 0.9238095238095237\n",
      "3 neighbors, manhattan metric: 0.9047619047619048\n",
      "3 neighbors, chebyshev metric: 0.9285714285714286\n",
      "3 neighbors, minkowski metric: 0.9238095238095237\n",
      "4 neighbors, euclidean metric: 0.9285714285714286\n",
      "4 neighbors, manhattan metric: 0.9285714285714286\n",
      "4 neighbors, chebyshev metric: 0.9142857142857143\n",
      "4 neighbors, minkowski metric: 0.9285714285714286\n",
      "5 neighbors, euclidean metric: 0.9190476190476191\n",
      "5 neighbors, manhattan metric: 0.9142857142857143\n",
      "5 neighbors, chebyshev metric: 0.9238095238095237\n",
      "5 neighbors, minkowski metric: 0.9190476190476191\n",
      "6 neighbors, euclidean metric: 0.9333333333333333\n",
      "6 neighbors, manhattan metric: 0.9238095238095239\n",
      "6 neighbors, chebyshev metric: 0.919047619047619\n",
      "6 neighbors, minkowski metric: 0.9333333333333333\n",
      "7 neighbors, euclidean metric: 0.9142857142857144\n",
      "7 neighbors, manhattan metric: 0.9047619047619048\n",
      "7 neighbors, chebyshev metric: 0.919047619047619\n",
      "7 neighbors, minkowski metric: 0.9142857142857144\n",
      "8 neighbors, euclidean metric: 0.9142857142857144\n",
      "8 neighbors, manhattan metric: 0.9142857142857144\n",
      "8 neighbors, chebyshev metric: 0.919047619047619\n",
      "8 neighbors, minkowski metric: 0.9142857142857144\n",
      "9 neighbors, euclidean metric: 0.9142857142857144\n",
      "9 neighbors, manhattan metric: 0.9142857142857143\n",
      "9 neighbors, chebyshev metric: 0.9238095238095239\n",
      "9 neighbors, minkowski metric: 0.9142857142857144\n"
     ]
    },
    {
     "data": {
      "image/png": "[encoded data removed]",
      "text/plain": [
       "<Figure size 1152x1152 with 8 Axes>"
      ]
     },
     "metadata": {
      "needs_background": "light"
     },
     "output_type": "display_data"
    }
   ],
   "source": [
    "for ik, k in enumerate(k_neighbors):\n",
    "  for im, metric in enumerate(metrics):\n",
    "    temp_acc = np.zeros(k_cross)\n",
    "    #this gonna store he accuracies o average for (metric, k_neighbors)\n",
    "    clf = KNeighborsClassifier(n_neighbors=k, metric=metric)\n",
    "    it = 0  #Bc I'm way too lazy to effectively use enumerate() on KFoldClassifier.split()\n",
    "    for train_index, test_index in kf.split(X):\n",
    "        clf.fit(X[train_index], y[train_index])\n",
    "        labels_pred = clf.predict(X[test_index])\n",
    "        temp_acc[it] = clf.score(X[test_index], y[test_index])\n",
    "        it += 1\n",
    "        if it >= 5:\n",
    "            break\n",
    "    \n",
    "    acc[ik, im] = np.mean(temp_acc)\n",
    "    print(f'{k} neighbors, {metric} metric: {acc[ik, im]}')\n",
    "\n",
    "acc_trans = np.zeros((len(k_neighbors), len(metrics)))\n",
    "\n",
    "for ik, k in enumerate(k_neighbors):\n",
    "  for im, metric in enumerate(metrics):\n",
    "    temp_acc = np.zeros(k_cross)\n",
    "    clf = KNeighborsClassifier(n_neighbors=k, metric=metric)\n",
    "    it = 0\n",
    "    for train_index, test_index in kf.split(X_trans):\n",
    "      clf.fit(X_trans[train_index], y[train_index])\n",
    "      labels_pred = clf.predict(X_trans[test_index])\n",
    "      temp_acc[it] = clf.score(X_trans[test_index], y[test_index])\n",
    "      it += 1\n",
    "      if it >= 5:\n",
    "        break\n",
    "    \n",
    "    acc_trans[ik, im] = np.mean(temp_acc)\n",
    "\n",
    "fig, axs = plt.subplots(len(metrics), 2, figsize=(16,16))\n",
    "\n",
    "for im, metric in enumerate(metrics):\n",
    "  axs[im,0].bar(k_neighbors, np.transpose(acc)[im])\n",
    "  axs[im,1].bar(k_neighbors, np.transpose(acc_trans)[im])\n",
    "  axs[im,0].set_title(metric)\n",
    "  axs[im,1].set_title(f'{metric} metric after PCA')\n",
    "\n",
    "\n"
   ]
  },
  {
   "cell_type": "code",
   "execution_count": null,
   "metadata": {},
   "outputs": [],
   "source": []
  }
 ],
 "metadata": {
  "interpreter": {
   "hash": "7291a5524c64a9319402c54d90fd0b8b2b91a575484079253f3cded2d983a680"
  },
  "kernelspec": {
   "display_name": "Python 3.9.12 ('datas')",
   "language": "python",
   "name": "python3"
  },
  "language_info": {
   "codemirror_mode": {
    "name": "ipython",
    "version": 3
   },
   "file_extension": ".py",
   "mimetype": "text/x-python",
   "name": "python",
   "nbconvert_exporter": "python",
   "pygments_lexer": "ipython3",
   "version": "3.9.12"
  },
  "orig_nbformat": 4
 },
 "nbformat": 4,
 "nbformat_minor": 2
}
