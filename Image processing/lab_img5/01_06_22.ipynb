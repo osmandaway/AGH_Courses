{
 "cells": [
  {
   "cell_type": "code",
   "execution_count": 1,
   "metadata": {},
   "outputs": [
    {
     "ename": "SyntaxError",
     "evalue": "invalid syntax (486960429.py, line 12)",
     "output_type": "error",
     "traceback": [
      "\u001b[1;36m  Input \u001b[1;32mIn [1]\u001b[1;36m\u001b[0m\n\u001b[1;33m    import Path from pathlib\u001b[0m\n\u001b[1;37m                ^\u001b[0m\n\u001b[1;31mSyntaxError\u001b[0m\u001b[1;31m:\u001b[0m invalid syntax\n"
     ]
    }
   ],
   "source": [
    "import numpy as np\n",
    "import pandas as pd\n",
    "from geopy.geocoders import Nominatim\n",
    "import geojson\n",
    "from shapely import geometry\n",
    "from sentinelsat import SentinelAPI\n",
    "from datetime import date\n",
    "import utm\n",
    "from ipyleaflet import Map, Marker, basemaps, basemap_to_tiles\n",
    "from ipyleaflet import Polygon as ipylPolygon\n",
    "from dotenv import dotenv_values\n",
    "import Path from pathlib"
   ]
  },
  {
   "cell_type": "code",
   "execution_count": 2,
   "metadata": {},
   "outputs": [
    {
     "ename": "NameError",
     "evalue": "name 'dotenv_values' is not defined",
     "output_type": "error",
     "traceback": [
      "\u001b[1;31m---------------------------------------------------------------------------\u001b[0m",
      "\u001b[1;31mNameError\u001b[0m                                 Traceback (most recent call last)",
      "\u001b[1;32mc:\\img_proc\\lab_img5\\01_06_22.ipynb Cell 2'\u001b[0m in \u001b[0;36m<cell line: 2>\u001b[1;34m()\u001b[0m\n\u001b[0;32m      <a href='vscode-notebook-cell:/c%3A/img_proc/lab_img5/01_06_22.ipynb#ch0000001?line=0'>1</a>\u001b[0m \u001b[39m## 3 secure login\u001b[39;00m\n\u001b[1;32m----> <a href='vscode-notebook-cell:/c%3A/img_proc/lab_img5/01_06_22.ipynb#ch0000001?line=1'>2</a>\u001b[0m conf\u001b[39m=\u001b[39m dotenv_values(\u001b[39m\"\u001b[39m\u001b[39mcompernicus.env\u001b[39m\u001b[39m\"\u001b[39m)\n\u001b[0;32m      <a href='vscode-notebook-cell:/c%3A/img_proc/lab_img5/01_06_22.ipynb#ch0000001?line=2'>3</a>\u001b[0m test_conf\u001b[39m=\u001b[39mdotenv_values(\u001b[39m\"\u001b[39m\u001b[39mcompernicus.env\u001b[39m\u001b[39m\"\u001b[39m)\n\u001b[0;32m      <a href='vscode-notebook-cell:/c%3A/img_proc/lab_img5/01_06_22.ipynb#ch0000001?line=3'>4</a>\u001b[0m test_conf\n",
      "\u001b[1;31mNameError\u001b[0m: name 'dotenv_values' is not defined"
     ]
    }
   ],
   "source": [
    "## 3 secure login\n",
    "conf= dotenv_values(\"compernicus.env\")\n",
    "test_conf=dotenv_values(\"compernicus.env\")\n",
    "test_conf\n",
    "conf=dotenv_values(\"compernicus.env\")"
   ]
  },
  {
   "cell_type": "code",
   "execution_count": null,
   "metadata": {},
   "outputs": [],
   "source": [
    "adress={'country':'France','city':'Rouffach'}\n",
    "geolocator=Nominatim(user_agent=\"osmandaway\")"
   ]
  },
  {
   "cell_type": "code",
   "execution_count": 3,
   "metadata": {},
   "outputs": [
    {
     "data": {
      "text/plain": [
       "geopy.location.Location"
      ]
     },
     "execution_count": 3,
     "metadata": {},
     "output_type": "execute_result"
    }
   ],
   "source": [
    "location=geolocator.geocode(adress)\n",
    "type(location)"
   ]
  },
  {
   "cell_type": "code",
   "execution_count": 4,
   "metadata": {},
   "outputs": [
    {
     "data": {
      "text/plain": [
       "'Rouffach, Thann-Guebwiller, Haut-Rhin, Grand Est, France métropolitaine, 68250, France'"
      ]
     },
     "execution_count": 4,
     "metadata": {},
     "output_type": "execute_result"
    }
   ],
   "source": [
    "location.address"
   ]
  },
  {
   "cell_type": "code",
   "execution_count": 5,
   "metadata": {},
   "outputs": [
    {
     "data": {
      "text/plain": [
       "(47.96852955, 7.305268542571866)"
      ]
     },
     "execution_count": 5,
     "metadata": {},
     "output_type": "execute_result"
    }
   ],
   "source": [
    "location.latitude, location.longitude"
   ]
  },
  {
   "cell_type": "code",
   "execution_count": 33,
   "metadata": {},
   "outputs": [
    {
     "data": {
      "application/vnd.jupyter.widget-view+json": {
       "model_id": "1ebb3751a1bc4bdea8beb602cf27dc83",
       "version_major": 2,
       "version_minor": 0
      },
      "text/plain": [
       "Map(center=[47.96852955, 7.305268542571866], controls=(ZoomControl(options=['position', 'zoom_in_text', 'zoom_…"
      ]
     },
     "metadata": {},
     "output_type": "display_data"
    }
   ],
   "source": [
    "latlon = (location.latitude, location.longitude)\n",
    "\n",
    "m = Map(\n",
    "    basemap=basemap_to_tiles(basemaps.Esri.WorldImagery),\n",
    "    center=(latlon[0], latlon[1]),\n",
    "    zoom=10\n",
    ")\n",
    "\n",
    "m.add_layer(Marker(location=latlon))\n",
    "m"
   ]
  },
  {
   "cell_type": "code",
   "execution_count": 7,
   "metadata": {},
   "outputs": [
    {
     "data": {
      "text/plain": [
       "(373505.67235979013, 5314192.1795177, 32, 'T')"
      ]
     },
     "execution_count": 7,
     "metadata": {},
     "output_type": "execute_result"
    }
   ],
   "source": [
    "utm.from_latlon(location.latitude,location.longitude)"
   ]
  },
  {
   "cell_type": "code",
   "execution_count": 8,
   "metadata": {},
   "outputs": [
    {
     "name": "stdout",
     "output_type": "stream",
     "text": [
      "373505.67 5314192.18\n"
     ]
    }
   ],
   "source": [
    "x,y, zone, zoneLetter= utm.from_latlon(location.latitude,location.longitude)\n",
    "x=round(x,2)\n",
    "y=round(y,2)\n",
    "print(x,y)"
   ]
  },
  {
   "cell_type": "code",
   "execution_count": 9,
   "metadata": {},
   "outputs": [
    {
     "data": {
      "text/plain": [
       "[(358505.67, 5329192.18),\n",
       " (388505.67, 5329192.18),\n",
       " (388505.67, 5299192.18),\n",
       " (358505.67, 5299192.18)]"
      ]
     },
     "execution_count": 9,
     "metadata": {},
     "output_type": "execute_result"
    }
   ],
   "source": [
    "offset= 15 * 1000\n",
    "\n",
    "upl = (x-offset, y+offset)  # upper left\n",
    "upr = (x+offset, y+offset)  # upper right\n",
    "dwr = (x+offset, y-offset)  # lower right\n",
    "dwl = (x-offset, y-offset)  # lower left\n",
    "\n",
    "utmCoord=[upl,upr,dwr,dwl]\n",
    "utmCoord"
   ]
  },
  {
   "cell_type": "code",
   "execution_count": 10,
   "metadata": {},
   "outputs": [
    {
     "name": "stdout",
     "output_type": "stream",
     "text": [
      "(358505.67, 5329192.18)\n",
      "(388505.67, 5329192.18)\n",
      "(388505.67, 5299192.18)\n",
      "(358505.67, 5299192.18)\n"
     ]
    }
   ],
   "source": [
    "for p in utmCoord:\n",
    "    print(p)"
   ]
  },
  {
   "cell_type": "code",
   "execution_count": 36,
   "metadata": {},
   "outputs": [
    {
     "name": "stdout",
     "output_type": "stream",
     "text": [
      "[[48.1002722, 7.0994558], [48.1062295, 7.5022523], [47.8364043, 7.5100359], [47.8305029, 7.1093301]]\n",
      "\n",
      " [[7.0994558, 48.1002722], [7.5022523, 48.1062295], [7.5100359, 47.8364043], [7.1093301, 47.8305029]]\n"
     ]
    }
   ],
   "source": [
    "geo1Coord=[] #latitude 50, longitude 19 for ipyleaf\n",
    "geo2Coord=[] # longitude 19, latitude 50 for download data\n",
    "for p in utmCoord:\n",
    "    lat,lon=utm.to_latlon(*p,zone,zoneLetter)\n",
    "    geo1Coord.append([round(lat,7),round(lon,7)])\n",
    "    geo2Coord.append([round(lon,7),round(lat,7)])\n",
    "print(f'{geo1Coord}\\n\\n {geo2Coord}')"
   ]
  },
  {
   "cell_type": "code",
   "execution_count": 12,
   "metadata": {},
   "outputs": [
    {
     "data": {
      "text/plain": [
       "array([[48.1002722,  7.0994558],\n",
       "       [48.1062295,  7.5022523],\n",
       "       [47.8364043,  7.5100359],\n",
       "       [47.8305029,  7.1093301]])"
      ]
     },
     "execution_count": 12,
     "metadata": {},
     "output_type": "execute_result"
    }
   ],
   "source": [
    "xx = np.array(geoCoord)\n",
    "xx"
   ]
  },
  {
   "cell_type": "code",
   "execution_count": 13,
   "metadata": {},
   "outputs": [
    {
     "name": "stderr",
     "output_type": "stream",
     "text": [
      "c:\\Anaconda\\envs\\sent\\lib\\site-packages\\IPython\\core\\interactiveshell.py:3398: ShapelyDeprecationWarning: The proxy geometries (through the 'asShape()', 'asPolygon()' or 'PolygonAdapter()' constructors) are deprecated and will be removed in Shapely 2.0. Use the 'shape()' function or the standard 'Polygon()' constructor instead.\n",
      "  exec(code_obj, self.user_global_ns, self.user_ns)\n"
     ]
    },
    {
     "data": {
      "image/svg+xml": "<svg xmlns=\"http://www.w3.org/2000/svg\" xmlns:xlink=\"http://www.w3.org/1999/xlink\" width=\"100.0\" height=\"100.0\" viewBox=\"47.814079696 7.083032596000001 0.3085730079999962 0.44342650799999905\" preserveAspectRatio=\"xMinYMin meet\"><g transform=\"matrix(1,0,0,-1,0,14.6094917)\"><path fill-rule=\"evenodd\" fill=\"#66cc99\" stroke=\"#555555\" stroke-width=\"0.008868530159999981\" opacity=\"0.6\" d=\"M 48.1002722,7.0994558 L 48.1062295,7.5022523 L 47.8364043,7.5100359 L 47.8305029,7.1093301 L 48.1002722,7.0994558 z\" /></g></svg>",
      "text/plain": [
       "<shapely.geometry.polygon.PolygonAdapter at 0x2baa83f6c50>"
      ]
     },
     "execution_count": 13,
     "metadata": {},
     "output_type": "execute_result"
    }
   ],
   "source": [
    "geoPolygon=geometry.asPolygon(geoCoord)\n",
    "geoPolygon"
   ]
  },
  {
   "cell_type": "code",
   "execution_count": 14,
   "metadata": {},
   "outputs": [
    {
     "name": "stdout",
     "output_type": "stream",
     "text": [
      "POLYGON ((48.1002722 7.0994558, 48.1062295 7.5022523, 47.8364043 7.5100359, 47.8305029 7.1093301, 48.1002722 7.0994558))\n"
     ]
    }
   ],
   "source": [
    "print(geoPolygon)"
   ]
  },
  {
   "cell_type": "code",
   "execution_count": 15,
   "metadata": {},
   "outputs": [
    {
     "data": {
      "text/plain": [
       "'POLYGON ((48.1002722 7.0994558, 48.1062295 7.5022523, 47.8364043 7.5100359, 47.8305029 7.1093301, 48.1002722 7.0994558))'"
      ]
     },
     "execution_count": 15,
     "metadata": {},
     "output_type": "execute_result"
    }
   ],
   "source": [
    "geoPolygon.wkt"
   ]
  },
  {
   "cell_type": "code",
   "execution_count": null,
   "metadata": {},
   "outputs": [],
   "source": []
  },
  {
   "cell_type": "markdown",
   "metadata": {},
   "source": [
    "# 4.5 Coords to goejson file"
   ]
  },
  {
   "cell_type": "code",
   "execution_count": 37,
   "metadata": {},
   "outputs": [
    {
     "ename": "NameError",
     "evalue": "name 'Path' is not defined",
     "output_type": "error",
     "traceback": [
      "\u001b[1;31m---------------------------------------------------------------------------\u001b[0m",
      "\u001b[1;31mNameError\u001b[0m                                 Traceback (most recent call last)",
      "\u001b[1;32mc:\\img_proc\\lab_img5\\01_06_22.ipynb Cell 19'\u001b[0m in \u001b[0;36m<cell line: 1>\u001b[1;34m()\u001b[0m\n\u001b[1;32m----> <a href='vscode-notebook-cell:/c%3A/img_proc/lab_img5/01_06_22.ipynb#ch0000034?line=0'>1</a>\u001b[0m path_json1\u001b[39m=\u001b[39mPath(\u001b[39m'\u001b[39m\u001b[39mdata/lat_lon.json\u001b[39m\u001b[39m'\u001b[39m)\n\u001b[0;32m      <a href='vscode-notebook-cell:/c%3A/img_proc/lab_img5/01_06_22.ipynb#ch0000034?line=1'>2</a>\u001b[0m path_json2\u001b[39m=\u001b[39mPath(\u001b[39m'\u001b[39m\u001b[39mdata/lon_lat.json\u001b[39m\u001b[39m'\u001b[39m)\n\u001b[0;32m      <a href='vscode-notebook-cell:/c%3A/img_proc/lab_img5/01_06_22.ipynb#ch0000034?line=2'>3</a>\u001b[0m path_utm\u001b[39m=\u001b[39mPath(\u001b[39m'\u001b[39m\u001b[39mdata/polygon_utm.json\u001b[39m\u001b[39m'\u001b[39m)\n",
      "\u001b[1;31mNameError\u001b[0m: name 'Path' is not defined"
     ]
    }
   ],
   "source": [
    "path_json1=Path('data/lat_lon.json')\n",
    "path_json2=Path('data/lon_lat.json')\n",
    "path_utm=Path('data/polygon_utm.json')\n"
   ]
  },
  {
   "cell_type": "code",
   "execution_count": 38,
   "metadata": {},
   "outputs": [
    {
     "data": {
      "text/plain": [
       "({\"coordinates\": [[48.100272, 7.099456], [48.10623, 7.502252], [47.836404, 7.510036], [47.830503, 7.10933]], \"type\": \"Polygon\"},\n",
       " {\"coordinates\": [[7.099456, 48.100272], [7.502252, 48.10623], [7.510036, 47.836404], [7.10933, 47.830503]], \"type\": \"Polygon\"})"
      ]
     },
     "execution_count": 38,
     "metadata": {},
     "output_type": "execute_result"
    }
   ],
   "source": [
    "lat_lon=geojson.Polygon(geo1Coord)\n",
    "lon_lat=geojson.Polygon(geo2Coord)\n",
    "lat_lon, lon_lat\n"
   ]
  },
  {
   "cell_type": "code",
   "execution_count": null,
   "metadata": {},
   "outputs": [],
   "source": [
    "data_utm=geojson.Polygon(utmCoord)\n",
    "data_utm"
   ]
  },
  {
   "cell_type": "code",
   "execution_count": null,
   "metadata": {},
   "outputs": [],
   "source": [
    "with open(path_json1, 'w') as f:\n",
    "    geojson.dump(lat_lon, f,indent=4)\n",
    "\n",
    "with open(path_json2, 'w') as f:\n",
    "    geojson.dump(lon_lat, f,indent=4)\n",
    "\n",
    "with open(path_utm, 'r') as f:\n",
    "    lat_lon_json = geojson.load(f)"
   ]
  },
  {
   "cell_type": "markdown",
   "metadata": {},
   "source": [
    "## APi"
   ]
  },
  {
   "cell_type": "code",
   "execution_count": 18,
   "metadata": {},
   "outputs": [],
   "source": [
    "api=SentinelAPI('osmandaway','Daway0123&*','https://scihub.copernicus.eu/dhus')"
   ]
  },
  {
   "cell_type": "code",
   "execution_count": 19,
   "metadata": {},
   "outputs": [],
   "source": [
    "products = api.query(geoPolygon,\n",
    "                    date=('20220501', '20220531'),\n",
    "                    platformname='Sentinel-2',\n",
    "                    cloudcoverpercentage=(0, 20)\n",
    "                    )"
   ]
  },
  {
   "cell_type": "code",
   "execution_count": 20,
   "metadata": {},
   "outputs": [
    {
     "data": {
      "text/html": [
       "<div>\n",
       "<style scoped>\n",
       "    .dataframe tbody tr th:only-of-type {\n",
       "        vertical-align: middle;\n",
       "    }\n",
       "\n",
       "    .dataframe tbody tr th {\n",
       "        vertical-align: top;\n",
       "    }\n",
       "\n",
       "    .dataframe thead th {\n",
       "        text-align: right;\n",
       "    }\n",
       "</style>\n",
       "<table border=\"1\" class=\"dataframe\">\n",
       "  <thead>\n",
       "    <tr style=\"text-align: right;\">\n",
       "      <th></th>\n",
       "      <th>title</th>\n",
       "      <th>link</th>\n",
       "      <th>link_alternative</th>\n",
       "      <th>link_icon</th>\n",
       "      <th>summary</th>\n",
       "      <th>ondemand</th>\n",
       "      <th>generationdate</th>\n",
       "      <th>beginposition</th>\n",
       "      <th>endposition</th>\n",
       "      <th>ingestiondate</th>\n",
       "      <th>...</th>\n",
       "      <th>platformserialidentifier</th>\n",
       "      <th>processinglevel</th>\n",
       "      <th>datastripidentifier</th>\n",
       "      <th>granuleidentifier</th>\n",
       "      <th>identifier</th>\n",
       "      <th>uuid</th>\n",
       "      <th>datatakesensingstart</th>\n",
       "      <th>sensoroperationalmode</th>\n",
       "      <th>tileid</th>\n",
       "      <th>hv_order_tileid</th>\n",
       "    </tr>\n",
       "  </thead>\n",
       "  <tbody>\n",
       "    <tr>\n",
       "      <th>f2991c4c-6d82-45d4-a136-ba9949c4423e</th>\n",
       "      <td>S2B_MSIL2A_20220529T070619_N0400_R106_T38NRP_2...</td>\n",
       "      <td>https://scihub.copernicus.eu/dhus/odata/v1/Pro...</td>\n",
       "      <td>https://scihub.copernicus.eu/dhus/odata/v1/Pro...</td>\n",
       "      <td>https://scihub.copernicus.eu/dhus/odata/v1/Pro...</td>\n",
       "      <td>Date: 2022-05-29T07:06:19.024Z, Instrument: MS...</td>\n",
       "      <td>false</td>\n",
       "      <td>2022-05-29 09:45:10</td>\n",
       "      <td>2022-05-29 07:06:19.024</td>\n",
       "      <td>2022-05-29 07:06:19.024</td>\n",
       "      <td>2022-05-29 11:56:16.109</td>\n",
       "      <td>...</td>\n",
       "      <td>Sentinel-2B</td>\n",
       "      <td>Level-2A</td>\n",
       "      <td>S2B_OPER_MSI_L2A_DS_2BPS_20220529T094510_S2022...</td>\n",
       "      <td>S2B_OPER_MSI_L2A_TL_2BPS_20220529T094510_A0273...</td>\n",
       "      <td>S2B_MSIL2A_20220529T070619_N0400_R106_T38NRP_2...</td>\n",
       "      <td>f2991c4c-6d82-45d4-a136-ba9949c4423e</td>\n",
       "      <td>NaT</td>\n",
       "      <td>NaN</td>\n",
       "      <td>NaN</td>\n",
       "      <td>NaN</td>\n",
       "    </tr>\n",
       "    <tr>\n",
       "      <th>889528c3-abba-47b4-8e87-4e61a132ed90</th>\n",
       "      <td>S2B_MSIL2A_20220529T070619_N0400_R106_T38NRN_2...</td>\n",
       "      <td>https://scihub.copernicus.eu/dhus/odata/v1/Pro...</td>\n",
       "      <td>https://scihub.copernicus.eu/dhus/odata/v1/Pro...</td>\n",
       "      <td>https://scihub.copernicus.eu/dhus/odata/v1/Pro...</td>\n",
       "      <td>Date: 2022-05-29T07:06:19.024Z, Instrument: MS...</td>\n",
       "      <td>false</td>\n",
       "      <td>2022-05-29 09:45:10</td>\n",
       "      <td>2022-05-29 07:06:19.024</td>\n",
       "      <td>2022-05-29 07:06:19.024</td>\n",
       "      <td>2022-05-29 11:52:28.652</td>\n",
       "      <td>...</td>\n",
       "      <td>Sentinel-2B</td>\n",
       "      <td>Level-2A</td>\n",
       "      <td>S2B_OPER_MSI_L2A_DS_2BPS_20220529T094510_S2022...</td>\n",
       "      <td>S2B_OPER_MSI_L2A_TL_2BPS_20220529T094510_A0273...</td>\n",
       "      <td>S2B_MSIL2A_20220529T070619_N0400_R106_T38NRN_2...</td>\n",
       "      <td>889528c3-abba-47b4-8e87-4e61a132ed90</td>\n",
       "      <td>NaT</td>\n",
       "      <td>NaN</td>\n",
       "      <td>NaN</td>\n",
       "      <td>NaN</td>\n",
       "    </tr>\n",
       "    <tr>\n",
       "      <th>346b0106-2dd0-4f30-8e5d-98a6b88df80f</th>\n",
       "      <td>S2B_MSIL1C_20220529T070619_N0400_R106_T38NRN_2...</td>\n",
       "      <td>https://scihub.copernicus.eu/dhus/odata/v1/Pro...</td>\n",
       "      <td>https://scihub.copernicus.eu/dhus/odata/v1/Pro...</td>\n",
       "      <td>https://scihub.copernicus.eu/dhus/odata/v1/Pro...</td>\n",
       "      <td>Date: 2022-05-29T07:06:19.024Z, Instrument: MS...</td>\n",
       "      <td>false</td>\n",
       "      <td>2022-05-29 09:16:21</td>\n",
       "      <td>2022-05-29 07:06:19.024</td>\n",
       "      <td>2022-05-29 07:06:19.024</td>\n",
       "      <td>2022-05-29 10:15:59.094</td>\n",
       "      <td>...</td>\n",
       "      <td>Sentinel-2B</td>\n",
       "      <td>Level-1C</td>\n",
       "      <td>S2B_OPER_MSI_L1C_DS_2BPS_20220529T091621_S2022...</td>\n",
       "      <td>S2B_OPER_MSI_L1C_TL_2BPS_20220529T091621_A0273...</td>\n",
       "      <td>S2B_MSIL1C_20220529T070619_N0400_R106_T38NRN_2...</td>\n",
       "      <td>346b0106-2dd0-4f30-8e5d-98a6b88df80f</td>\n",
       "      <td>2022-05-29 07:06:19.024</td>\n",
       "      <td>INS-NOBS</td>\n",
       "      <td>38NRN</td>\n",
       "      <td>NN38R</td>\n",
       "    </tr>\n",
       "    <tr>\n",
       "      <th>450fb7f7-7868-4889-b7c0-2f6b2daadadd</th>\n",
       "      <td>S2B_MSIL1C_20220529T070619_N0400_R106_T38NRP_2...</td>\n",
       "      <td>https://scihub.copernicus.eu/dhus/odata/v1/Pro...</td>\n",
       "      <td>https://scihub.copernicus.eu/dhus/odata/v1/Pro...</td>\n",
       "      <td>https://scihub.copernicus.eu/dhus/odata/v1/Pro...</td>\n",
       "      <td>Date: 2022-05-29T07:06:19.024Z, Instrument: MS...</td>\n",
       "      <td>false</td>\n",
       "      <td>2022-05-29 09:16:21</td>\n",
       "      <td>2022-05-29 07:06:19.024</td>\n",
       "      <td>2022-05-29 07:06:19.024</td>\n",
       "      <td>2022-05-29 10:15:22.181</td>\n",
       "      <td>...</td>\n",
       "      <td>Sentinel-2B</td>\n",
       "      <td>Level-1C</td>\n",
       "      <td>S2B_OPER_MSI_L1C_DS_2BPS_20220529T091621_S2022...</td>\n",
       "      <td>S2B_OPER_MSI_L1C_TL_2BPS_20220529T091621_A0273...</td>\n",
       "      <td>S2B_MSIL1C_20220529T070619_N0400_R106_T38NRP_2...</td>\n",
       "      <td>450fb7f7-7868-4889-b7c0-2f6b2daadadd</td>\n",
       "      <td>2022-05-29 07:06:19.024</td>\n",
       "      <td>INS-NOBS</td>\n",
       "      <td>38NRP</td>\n",
       "      <td>NP38R</td>\n",
       "    </tr>\n",
       "    <tr>\n",
       "      <th>055b1726-2662-4cc8-a6e5-9184becbd8d4</th>\n",
       "      <td>S2B_MSIL2A_20220526T065619_N0400_R063_T38NRP_2...</td>\n",
       "      <td>https://scihub.copernicus.eu/dhus/odata/v1/Pro...</td>\n",
       "      <td>https://scihub.copernicus.eu/dhus/odata/v1/Pro...</td>\n",
       "      <td>https://scihub.copernicus.eu/dhus/odata/v1/Pro...</td>\n",
       "      <td>Date: 2022-05-26T06:56:19.024Z, Instrument: MS...</td>\n",
       "      <td>false</td>\n",
       "      <td>2022-05-26 09:59:15</td>\n",
       "      <td>2022-05-26 06:56:19.024</td>\n",
       "      <td>2022-05-26 06:56:19.024</td>\n",
       "      <td>2022-05-26 14:04:23.345</td>\n",
       "      <td>...</td>\n",
       "      <td>Sentinel-2B</td>\n",
       "      <td>Level-2A</td>\n",
       "      <td>S2B_OPER_MSI_L2A_DS_2BPS_20220526T095915_S2022...</td>\n",
       "      <td>S2B_OPER_MSI_L2A_TL_2BPS_20220526T095915_A0272...</td>\n",
       "      <td>S2B_MSIL2A_20220526T065619_N0400_R063_T38NRP_2...</td>\n",
       "      <td>055b1726-2662-4cc8-a6e5-9184becbd8d4</td>\n",
       "      <td>NaT</td>\n",
       "      <td>NaN</td>\n",
       "      <td>NaN</td>\n",
       "      <td>NaN</td>\n",
       "    </tr>\n",
       "    <tr>\n",
       "      <th>496e7361-4aa0-4dc8-96bc-95ebc15aef99</th>\n",
       "      <td>S2A_MSIL2A_20220524T070631_N0400_R106_T38NRN_2...</td>\n",
       "      <td>https://scihub.copernicus.eu/dhus/odata/v1/Pro...</td>\n",
       "      <td>https://scihub.copernicus.eu/dhus/odata/v1/Pro...</td>\n",
       "      <td>https://scihub.copernicus.eu/dhus/odata/v1/Pro...</td>\n",
       "      <td>Date: 2022-05-24T07:06:31.024Z, Instrument: MS...</td>\n",
       "      <td>false</td>\n",
       "      <td>2022-05-24 12:48:19</td>\n",
       "      <td>2022-05-24 07:06:31.024</td>\n",
       "      <td>2022-05-24 07:06:31.024</td>\n",
       "      <td>2022-05-24 17:47:54.893</td>\n",
       "      <td>...</td>\n",
       "      <td>Sentinel-2A</td>\n",
       "      <td>Level-2A</td>\n",
       "      <td>S2A_OPER_MSI_L2A_DS_ATOS_20220524T124819_S2022...</td>\n",
       "      <td>S2A_OPER_MSI_L2A_TL_ATOS_20220524T124819_A0361...</td>\n",
       "      <td>S2A_MSIL2A_20220524T070631_N0400_R106_T38NRN_2...</td>\n",
       "      <td>496e7361-4aa0-4dc8-96bc-95ebc15aef99</td>\n",
       "      <td>NaT</td>\n",
       "      <td>NaN</td>\n",
       "      <td>NaN</td>\n",
       "      <td>NaN</td>\n",
       "    </tr>\n",
       "    <tr>\n",
       "      <th>5a719cb4-4093-424d-a2b6-be236785d52f</th>\n",
       "      <td>S2A_MSIL1C_20220524T070631_N0400_R106_T38NRN_2...</td>\n",
       "      <td>https://scihub.copernicus.eu/dhus/odata/v1/Pro...</td>\n",
       "      <td>https://scihub.copernicus.eu/dhus/odata/v1/Pro...</td>\n",
       "      <td>https://scihub.copernicus.eu/dhus/odata/v1/Pro...</td>\n",
       "      <td>Date: 2022-05-24T07:06:31.024Z, Instrument: MS...</td>\n",
       "      <td>false</td>\n",
       "      <td>2022-05-24 09:06:58</td>\n",
       "      <td>2022-05-24 07:06:31.024</td>\n",
       "      <td>2022-05-24 07:06:31.024</td>\n",
       "      <td>2022-05-24 15:50:29.459</td>\n",
       "      <td>...</td>\n",
       "      <td>Sentinel-2A</td>\n",
       "      <td>Level-1C</td>\n",
       "      <td>S2A_OPER_MSI_L1C_DS_ATOS_20220524T090658_S2022...</td>\n",
       "      <td>S2A_OPER_MSI_L1C_TL_ATOS_20220524T090658_A0361...</td>\n",
       "      <td>S2A_MSIL1C_20220524T070631_N0400_R106_T38NRN_2...</td>\n",
       "      <td>5a719cb4-4093-424d-a2b6-be236785d52f</td>\n",
       "      <td>2022-05-24 07:06:31.024</td>\n",
       "      <td>INS-NOBS</td>\n",
       "      <td>38NRN</td>\n",
       "      <td>NN38R</td>\n",
       "    </tr>\n",
       "    <tr>\n",
       "      <th>078754b0-8946-485c-a176-79a6f2bb6bb0</th>\n",
       "      <td>S2A_MSIL2A_20220521T065631_N0400_R063_T38NRN_2...</td>\n",
       "      <td>https://scihub.copernicus.eu/dhus/odata/v1/Pro...</td>\n",
       "      <td>https://scihub.copernicus.eu/dhus/odata/v1/Pro...</td>\n",
       "      <td>https://scihub.copernicus.eu/dhus/odata/v1/Pro...</td>\n",
       "      <td>Date: 2022-05-21T06:56:31.024Z, Instrument: MS...</td>\n",
       "      <td>false</td>\n",
       "      <td>2022-05-21 10:29:09</td>\n",
       "      <td>2022-05-21 06:56:31.024</td>\n",
       "      <td>2022-05-21 06:56:31.024</td>\n",
       "      <td>2022-05-21 11:31:46.679</td>\n",
       "      <td>...</td>\n",
       "      <td>Sentinel-2A</td>\n",
       "      <td>Level-2A</td>\n",
       "      <td>S2A_OPER_MSI_L2A_DS_ATOS_20220521T102909_S2022...</td>\n",
       "      <td>S2A_OPER_MSI_L2A_TL_ATOS_20220521T102909_A0360...</td>\n",
       "      <td>S2A_MSIL2A_20220521T065631_N0400_R063_T38NRN_2...</td>\n",
       "      <td>078754b0-8946-485c-a176-79a6f2bb6bb0</td>\n",
       "      <td>NaT</td>\n",
       "      <td>NaN</td>\n",
       "      <td>NaN</td>\n",
       "      <td>NaN</td>\n",
       "    </tr>\n",
       "    <tr>\n",
       "      <th>43b25f92-7995-4b9f-85b2-385ead27e392</th>\n",
       "      <td>S2A_MSIL2A_20220521T065631_N0400_R063_T38NRP_2...</td>\n",
       "      <td>https://scihub.copernicus.eu/dhus/odata/v1/Pro...</td>\n",
       "      <td>https://scihub.copernicus.eu/dhus/odata/v1/Pro...</td>\n",
       "      <td>https://scihub.copernicus.eu/dhus/odata/v1/Pro...</td>\n",
       "      <td>Date: 2022-05-21T06:56:31.024Z, Instrument: MS...</td>\n",
       "      <td>false</td>\n",
       "      <td>2022-05-21 10:29:09</td>\n",
       "      <td>2022-05-21 06:56:31.024</td>\n",
       "      <td>2022-05-21 06:56:31.024</td>\n",
       "      <td>2022-05-21 11:28:47.850</td>\n",
       "      <td>...</td>\n",
       "      <td>Sentinel-2A</td>\n",
       "      <td>Level-2A</td>\n",
       "      <td>S2A_OPER_MSI_L2A_DS_ATOS_20220521T102909_S2022...</td>\n",
       "      <td>S2A_OPER_MSI_L2A_TL_ATOS_20220521T102909_A0360...</td>\n",
       "      <td>S2A_MSIL2A_20220521T065631_N0400_R063_T38NRP_2...</td>\n",
       "      <td>43b25f92-7995-4b9f-85b2-385ead27e392</td>\n",
       "      <td>NaT</td>\n",
       "      <td>NaN</td>\n",
       "      <td>NaN</td>\n",
       "      <td>NaN</td>\n",
       "    </tr>\n",
       "    <tr>\n",
       "      <th>8dc431e0-a8eb-4055-8ee9-893190199375</th>\n",
       "      <td>S2A_MSIL1C_20220521T065631_N0400_R063_T38NRN_2...</td>\n",
       "      <td>https://scihub.copernicus.eu/dhus/odata/v1/Pro...</td>\n",
       "      <td>https://scihub.copernicus.eu/dhus/odata/v1/Pro...</td>\n",
       "      <td>https://scihub.copernicus.eu/dhus/odata/v1/Pro...</td>\n",
       "      <td>Date: 2022-05-21T06:56:31.024Z, Instrument: MS...</td>\n",
       "      <td>false</td>\n",
       "      <td>2022-05-21 09:27:53</td>\n",
       "      <td>2022-05-21 06:56:31.024</td>\n",
       "      <td>2022-05-21 06:56:31.024</td>\n",
       "      <td>2022-05-21 10:42:36.280</td>\n",
       "      <td>...</td>\n",
       "      <td>Sentinel-2A</td>\n",
       "      <td>Level-1C</td>\n",
       "      <td>S2A_OPER_MSI_L1C_DS_ATOS_20220521T092753_S2022...</td>\n",
       "      <td>S2A_OPER_MSI_L1C_TL_ATOS_20220521T092753_A0360...</td>\n",
       "      <td>S2A_MSIL1C_20220521T065631_N0400_R063_T38NRN_2...</td>\n",
       "      <td>8dc431e0-a8eb-4055-8ee9-893190199375</td>\n",
       "      <td>2022-05-21 06:56:31.024</td>\n",
       "      <td>INS-NOBS</td>\n",
       "      <td>38NRN</td>\n",
       "      <td>NN38R</td>\n",
       "    </tr>\n",
       "    <tr>\n",
       "      <th>1a666047-549d-4fb2-8bb5-362cb5498ac4</th>\n",
       "      <td>S2B_MSIL2A_20220519T070619_N0400_R106_T38NRN_2...</td>\n",
       "      <td>https://scihub.copernicus.eu/dhus/odata/v1/Pro...</td>\n",
       "      <td>https://scihub.copernicus.eu/dhus/odata/v1/Pro...</td>\n",
       "      <td>https://scihub.copernicus.eu/dhus/odata/v1/Pro...</td>\n",
       "      <td>Date: 2022-05-19T07:06:19.024Z, Instrument: MS...</td>\n",
       "      <td>false</td>\n",
       "      <td>2022-05-19 11:37:02</td>\n",
       "      <td>2022-05-19 07:06:19.024</td>\n",
       "      <td>2022-05-19 07:06:19.024</td>\n",
       "      <td>2022-05-19 15:55:31.499</td>\n",
       "      <td>...</td>\n",
       "      <td>Sentinel-2B</td>\n",
       "      <td>Level-2A</td>\n",
       "      <td>S2B_OPER_MSI_L2A_DS_2BPS_20220519T113702_S2022...</td>\n",
       "      <td>S2B_OPER_MSI_L2A_TL_2BPS_20220519T113702_A0271...</td>\n",
       "      <td>S2B_MSIL2A_20220519T070619_N0400_R106_T38NRN_2...</td>\n",
       "      <td>1a666047-549d-4fb2-8bb5-362cb5498ac4</td>\n",
       "      <td>NaT</td>\n",
       "      <td>NaN</td>\n",
       "      <td>NaN</td>\n",
       "      <td>NaN</td>\n",
       "    </tr>\n",
       "    <tr>\n",
       "      <th>6d9c1960-9c49-4f71-a8a1-78b54111badf</th>\n",
       "      <td>S2B_MSIL2A_20220519T070619_N0400_R106_T38NRP_2...</td>\n",
       "      <td>https://scihub.copernicus.eu/dhus/odata/v1/Pro...</td>\n",
       "      <td>https://scihub.copernicus.eu/dhus/odata/v1/Pro...</td>\n",
       "      <td>https://scihub.copernicus.eu/dhus/odata/v1/Pro...</td>\n",
       "      <td>Date: 2022-05-19T07:06:19.024Z, Instrument: MS...</td>\n",
       "      <td>false</td>\n",
       "      <td>2022-05-19 11:37:02</td>\n",
       "      <td>2022-05-19 07:06:19.024</td>\n",
       "      <td>2022-05-19 07:06:19.024</td>\n",
       "      <td>2022-05-19 15:50:26.892</td>\n",
       "      <td>...</td>\n",
       "      <td>Sentinel-2B</td>\n",
       "      <td>Level-2A</td>\n",
       "      <td>S2B_OPER_MSI_L2A_DS_2BPS_20220519T113702_S2022...</td>\n",
       "      <td>S2B_OPER_MSI_L2A_TL_2BPS_20220519T113702_A0271...</td>\n",
       "      <td>S2B_MSIL2A_20220519T070619_N0400_R106_T38NRP_2...</td>\n",
       "      <td>6d9c1960-9c49-4f71-a8a1-78b54111badf</td>\n",
       "      <td>NaT</td>\n",
       "      <td>NaN</td>\n",
       "      <td>NaN</td>\n",
       "      <td>NaN</td>\n",
       "    </tr>\n",
       "    <tr>\n",
       "      <th>c4fdf8a9-e408-41da-b12a-a60984f54e6c</th>\n",
       "      <td>S2B_MSIL1C_20220519T070619_N0400_R106_T38NRN_2...</td>\n",
       "      <td>https://scihub.copernicus.eu/dhus/odata/v1/Pro...</td>\n",
       "      <td>https://scihub.copernicus.eu/dhus/odata/v1/Pro...</td>\n",
       "      <td>https://scihub.copernicus.eu/dhus/odata/v1/Pro...</td>\n",
       "      <td>Date: 2022-05-19T07:06:19.024Z, Instrument: MS...</td>\n",
       "      <td>false</td>\n",
       "      <td>2022-05-19 11:07:26</td>\n",
       "      <td>2022-05-19 07:06:19.024</td>\n",
       "      <td>2022-05-19 07:06:19.024</td>\n",
       "      <td>2022-05-19 12:57:24.968</td>\n",
       "      <td>...</td>\n",
       "      <td>Sentinel-2B</td>\n",
       "      <td>Level-1C</td>\n",
       "      <td>S2B_OPER_MSI_L1C_DS_2BPS_20220519T110726_S2022...</td>\n",
       "      <td>S2B_OPER_MSI_L1C_TL_2BPS_20220519T110726_A0271...</td>\n",
       "      <td>S2B_MSIL1C_20220519T070619_N0400_R106_T38NRN_2...</td>\n",
       "      <td>c4fdf8a9-e408-41da-b12a-a60984f54e6c</td>\n",
       "      <td>2022-05-19 07:06:19.024</td>\n",
       "      <td>INS-NOBS</td>\n",
       "      <td>38NRN</td>\n",
       "      <td>NN38R</td>\n",
       "    </tr>\n",
       "    <tr>\n",
       "      <th>093cb9eb-2010-495c-8986-30159112692d</th>\n",
       "      <td>S2B_MSIL1C_20220519T070619_N0400_R106_T38NRP_2...</td>\n",
       "      <td>https://scihub.copernicus.eu/dhus/odata/v1/Pro...</td>\n",
       "      <td>https://scihub.copernicus.eu/dhus/odata/v1/Pro...</td>\n",
       "      <td>https://scihub.copernicus.eu/dhus/odata/v1/Pro...</td>\n",
       "      <td>Date: 2022-05-19T07:06:19.024Z, Instrument: MS...</td>\n",
       "      <td>false</td>\n",
       "      <td>2022-05-19 11:07:26</td>\n",
       "      <td>2022-05-19 07:06:19.024</td>\n",
       "      <td>2022-05-19 07:06:19.024</td>\n",
       "      <td>2022-05-19 12:48:25.408</td>\n",
       "      <td>...</td>\n",
       "      <td>Sentinel-2B</td>\n",
       "      <td>Level-1C</td>\n",
       "      <td>S2B_OPER_MSI_L1C_DS_2BPS_20220519T110726_S2022...</td>\n",
       "      <td>S2B_OPER_MSI_L1C_TL_2BPS_20220519T110726_A0271...</td>\n",
       "      <td>S2B_MSIL1C_20220519T070619_N0400_R106_T38NRP_2...</td>\n",
       "      <td>093cb9eb-2010-495c-8986-30159112692d</td>\n",
       "      <td>2022-05-19 07:06:19.024</td>\n",
       "      <td>INS-NOBS</td>\n",
       "      <td>38NRP</td>\n",
       "      <td>NP38R</td>\n",
       "    </tr>\n",
       "    <tr>\n",
       "      <th>c2fd024e-49b9-4c8e-9f84-be698a8ea2ce</th>\n",
       "      <td>S2B_MSIL2A_20220516T065619_N0400_R063_T38NRN_2...</td>\n",
       "      <td>https://scihub.copernicus.eu/dhus/odata/v1/Pro...</td>\n",
       "      <td>https://scihub.copernicus.eu/dhus/odata/v1/Pro...</td>\n",
       "      <td>https://scihub.copernicus.eu/dhus/odata/v1/Pro...</td>\n",
       "      <td>Date: 2022-05-16T06:56:19.024Z, Instrument: MS...</td>\n",
       "      <td>false</td>\n",
       "      <td>2022-05-16 10:09:37</td>\n",
       "      <td>2022-05-16 06:56:19.024</td>\n",
       "      <td>2022-05-16 06:56:19.024</td>\n",
       "      <td>2022-05-16 13:23:45.788</td>\n",
       "      <td>...</td>\n",
       "      <td>Sentinel-2B</td>\n",
       "      <td>Level-2A</td>\n",
       "      <td>S2B_OPER_MSI_L2A_DS_2BPS_20220516T100937_S2022...</td>\n",
       "      <td>S2B_OPER_MSI_L2A_TL_2BPS_20220516T100937_A0271...</td>\n",
       "      <td>S2B_MSIL2A_20220516T065619_N0400_R063_T38NRN_2...</td>\n",
       "      <td>c2fd024e-49b9-4c8e-9f84-be698a8ea2ce</td>\n",
       "      <td>NaT</td>\n",
       "      <td>NaN</td>\n",
       "      <td>NaN</td>\n",
       "      <td>NaN</td>\n",
       "    </tr>\n",
       "    <tr>\n",
       "      <th>f75ef4ec-8c9c-4dfb-a29f-fae5db92a5f1</th>\n",
       "      <td>S2B_MSIL2A_20220516T065619_N0400_R063_T38NRP_2...</td>\n",
       "      <td>https://scihub.copernicus.eu/dhus/odata/v1/Pro...</td>\n",
       "      <td>https://scihub.copernicus.eu/dhus/odata/v1/Pro...</td>\n",
       "      <td>https://scihub.copernicus.eu/dhus/odata/v1/Pro...</td>\n",
       "      <td>Date: 2022-05-16T06:56:19.024Z, Instrument: MS...</td>\n",
       "      <td>false</td>\n",
       "      <td>2022-05-16 10:09:37</td>\n",
       "      <td>2022-05-16 06:56:19.024</td>\n",
       "      <td>2022-05-16 06:56:19.024</td>\n",
       "      <td>2022-05-16 13:21:16.652</td>\n",
       "      <td>...</td>\n",
       "      <td>Sentinel-2B</td>\n",
       "      <td>Level-2A</td>\n",
       "      <td>S2B_OPER_MSI_L2A_DS_2BPS_20220516T100937_S2022...</td>\n",
       "      <td>S2B_OPER_MSI_L2A_TL_2BPS_20220516T100937_A0271...</td>\n",
       "      <td>S2B_MSIL2A_20220516T065619_N0400_R063_T38NRP_2...</td>\n",
       "      <td>f75ef4ec-8c9c-4dfb-a29f-fae5db92a5f1</td>\n",
       "      <td>NaT</td>\n",
       "      <td>NaN</td>\n",
       "      <td>NaN</td>\n",
       "      <td>NaN</td>\n",
       "    </tr>\n",
       "    <tr>\n",
       "      <th>1e71454c-11d7-4b71-9342-1946dad83959</th>\n",
       "      <td>S2B_MSIL1C_20220516T065619_N0400_R063_T38NRP_2...</td>\n",
       "      <td>https://scihub.copernicus.eu/dhus/odata/v1/Pro...</td>\n",
       "      <td>https://scihub.copernicus.eu/dhus/odata/v1/Pro...</td>\n",
       "      <td>https://scihub.copernicus.eu/dhus/odata/v1/Pro...</td>\n",
       "      <td>Date: 2022-05-16T06:56:19.024Z, Instrument: MS...</td>\n",
       "      <td>false</td>\n",
       "      <td>2022-05-16 09:15:32</td>\n",
       "      <td>2022-05-16 06:56:19.024</td>\n",
       "      <td>2022-05-16 06:56:19.024</td>\n",
       "      <td>2022-05-16 11:24:54.036</td>\n",
       "      <td>...</td>\n",
       "      <td>Sentinel-2B</td>\n",
       "      <td>Level-1C</td>\n",
       "      <td>S2B_OPER_MSI_L1C_DS_2BPS_20220516T091532_S2022...</td>\n",
       "      <td>S2B_OPER_MSI_L1C_TL_2BPS_20220516T091532_A0271...</td>\n",
       "      <td>S2B_MSIL1C_20220516T065619_N0400_R063_T38NRP_2...</td>\n",
       "      <td>1e71454c-11d7-4b71-9342-1946dad83959</td>\n",
       "      <td>2022-05-16 06:56:19.024</td>\n",
       "      <td>INS-NOBS</td>\n",
       "      <td>38NRP</td>\n",
       "      <td>NP38R</td>\n",
       "    </tr>\n",
       "    <tr>\n",
       "      <th>bbaa6cb7-a868-4fe7-bd0f-074c85e9a7d5</th>\n",
       "      <td>S2B_MSIL1C_20220516T065619_N0400_R063_T38NRN_2...</td>\n",
       "      <td>https://scihub.copernicus.eu/dhus/odata/v1/Pro...</td>\n",
       "      <td>https://scihub.copernicus.eu/dhus/odata/v1/Pro...</td>\n",
       "      <td>https://scihub.copernicus.eu/dhus/odata/v1/Pro...</td>\n",
       "      <td>Date: 2022-05-16T06:56:19.024Z, Instrument: MS...</td>\n",
       "      <td>false</td>\n",
       "      <td>2022-05-16 09:15:32</td>\n",
       "      <td>2022-05-16 06:56:19.024</td>\n",
       "      <td>2022-05-16 06:56:19.024</td>\n",
       "      <td>2022-05-16 11:24:16.696</td>\n",
       "      <td>...</td>\n",
       "      <td>Sentinel-2B</td>\n",
       "      <td>Level-1C</td>\n",
       "      <td>S2B_OPER_MSI_L1C_DS_2BPS_20220516T091532_S2022...</td>\n",
       "      <td>S2B_OPER_MSI_L1C_TL_2BPS_20220516T091532_A0271...</td>\n",
       "      <td>S2B_MSIL1C_20220516T065619_N0400_R063_T38NRN_2...</td>\n",
       "      <td>bbaa6cb7-a868-4fe7-bd0f-074c85e9a7d5</td>\n",
       "      <td>2022-05-16 06:56:19.024</td>\n",
       "      <td>INS-NOBS</td>\n",
       "      <td>38NRN</td>\n",
       "      <td>NN38R</td>\n",
       "    </tr>\n",
       "    <tr>\n",
       "      <th>51bc0ff2-8708-4928-a052-9268ac3d096e</th>\n",
       "      <td>S2B_MSIL1C_20220506T065619_N0400_R063_T38NRP_2...</td>\n",
       "      <td>https://scihub.copernicus.eu/dhus/odata/v1/Pro...</td>\n",
       "      <td>https://scihub.copernicus.eu/dhus/odata/v1/Pro...</td>\n",
       "      <td>https://scihub.copernicus.eu/dhus/odata/v1/Pro...</td>\n",
       "      <td>Date: 2022-05-06T06:56:19.024Z, Instrument: MS...</td>\n",
       "      <td>false</td>\n",
       "      <td>2022-05-06 09:12:23</td>\n",
       "      <td>2022-05-06 06:56:19.024</td>\n",
       "      <td>2022-05-06 06:56:19.024</td>\n",
       "      <td>2022-05-07 02:39:48.277</td>\n",
       "      <td>...</td>\n",
       "      <td>Sentinel-2B</td>\n",
       "      <td>Level-1C</td>\n",
       "      <td>S2B_OPER_MSI_L1C_DS_2BPS_20220506T091223_S2022...</td>\n",
       "      <td>S2B_OPER_MSI_L1C_TL_2BPS_20220506T091223_A0269...</td>\n",
       "      <td>S2B_MSIL1C_20220506T065619_N0400_R063_T38NRP_2...</td>\n",
       "      <td>51bc0ff2-8708-4928-a052-9268ac3d096e</td>\n",
       "      <td>2022-05-06 06:56:19.024</td>\n",
       "      <td>INS-NOBS</td>\n",
       "      <td>38NRP</td>\n",
       "      <td>NP38R</td>\n",
       "    </tr>\n",
       "    <tr>\n",
       "      <th>8d4591d2-b49a-4e05-ac3c-0cd1f8f5b06d</th>\n",
       "      <td>S2B_MSIL1C_20220506T065619_N0400_R063_T38NRN_2...</td>\n",
       "      <td>https://scihub.copernicus.eu/dhus/odata/v1/Pro...</td>\n",
       "      <td>https://scihub.copernicus.eu/dhus/odata/v1/Pro...</td>\n",
       "      <td>https://scihub.copernicus.eu/dhus/odata/v1/Pro...</td>\n",
       "      <td>Date: 2022-05-06T06:56:19.024Z, Instrument: MS...</td>\n",
       "      <td>false</td>\n",
       "      <td>2022-05-06 09:12:23</td>\n",
       "      <td>2022-05-06 06:56:19.024</td>\n",
       "      <td>2022-05-06 06:56:19.024</td>\n",
       "      <td>2022-05-07 02:16:31.177</td>\n",
       "      <td>...</td>\n",
       "      <td>Sentinel-2B</td>\n",
       "      <td>Level-1C</td>\n",
       "      <td>S2B_OPER_MSI_L1C_DS_2BPS_20220506T091223_S2022...</td>\n",
       "      <td>S2B_OPER_MSI_L1C_TL_2BPS_20220506T091223_A0269...</td>\n",
       "      <td>S2B_MSIL1C_20220506T065619_N0400_R063_T38NRN_2...</td>\n",
       "      <td>8d4591d2-b49a-4e05-ac3c-0cd1f8f5b06d</td>\n",
       "      <td>2022-05-06 06:56:19.024</td>\n",
       "      <td>INS-NOBS</td>\n",
       "      <td>38NRN</td>\n",
       "      <td>NN38R</td>\n",
       "    </tr>\n",
       "    <tr>\n",
       "      <th>6db12a37-0224-4e9c-b012-28b538e366a3</th>\n",
       "      <td>S2B_MSIL2A_20220506T065619_N0400_R063_T38NRN_2...</td>\n",
       "      <td>https://scihub.copernicus.eu/dhus/odata/v1/Pro...</td>\n",
       "      <td>https://scihub.copernicus.eu/dhus/odata/v1/Pro...</td>\n",
       "      <td>https://scihub.copernicus.eu/dhus/odata/v1/Pro...</td>\n",
       "      <td>Date: 2022-05-06T06:56:19.024Z, Instrument: MS...</td>\n",
       "      <td>false</td>\n",
       "      <td>2022-05-06 10:18:47</td>\n",
       "      <td>2022-05-06 06:56:19.024</td>\n",
       "      <td>2022-05-06 06:56:19.024</td>\n",
       "      <td>2022-05-06 22:01:44.512</td>\n",
       "      <td>...</td>\n",
       "      <td>Sentinel-2B</td>\n",
       "      <td>Level-2A</td>\n",
       "      <td>S2B_OPER_MSI_L2A_DS_2BPS_20220506T101847_S2022...</td>\n",
       "      <td>S2B_OPER_MSI_L2A_TL_2BPS_20220506T101847_A0269...</td>\n",
       "      <td>S2B_MSIL2A_20220506T065619_N0400_R063_T38NRN_2...</td>\n",
       "      <td>6db12a37-0224-4e9c-b012-28b538e366a3</td>\n",
       "      <td>NaT</td>\n",
       "      <td>NaN</td>\n",
       "      <td>NaN</td>\n",
       "      <td>NaN</td>\n",
       "    </tr>\n",
       "    <tr>\n",
       "      <th>678ae14f-377a-4daa-9999-00ab9f33c2ab</th>\n",
       "      <td>S2B_MSIL2A_20220506T065619_N0400_R063_T38NRP_2...</td>\n",
       "      <td>https://scihub.copernicus.eu/dhus/odata/v1/Pro...</td>\n",
       "      <td>https://scihub.copernicus.eu/dhus/odata/v1/Pro...</td>\n",
       "      <td>https://scihub.copernicus.eu/dhus/odata/v1/Pro...</td>\n",
       "      <td>Date: 2022-05-06T06:56:19.024Z, Instrument: MS...</td>\n",
       "      <td>false</td>\n",
       "      <td>2022-05-06 10:18:47</td>\n",
       "      <td>2022-05-06 06:56:19.024</td>\n",
       "      <td>2022-05-06 06:56:19.024</td>\n",
       "      <td>2022-05-06 22:00:31.420</td>\n",
       "      <td>...</td>\n",
       "      <td>Sentinel-2B</td>\n",
       "      <td>Level-2A</td>\n",
       "      <td>S2B_OPER_MSI_L2A_DS_2BPS_20220506T101847_S2022...</td>\n",
       "      <td>S2B_OPER_MSI_L2A_TL_2BPS_20220506T101847_A0269...</td>\n",
       "      <td>S2B_MSIL2A_20220506T065619_N0400_R063_T38NRP_2...</td>\n",
       "      <td>678ae14f-377a-4daa-9999-00ab9f33c2ab</td>\n",
       "      <td>NaT</td>\n",
       "      <td>NaN</td>\n",
       "      <td>NaN</td>\n",
       "      <td>NaN</td>\n",
       "    </tr>\n",
       "  </tbody>\n",
       "</table>\n",
       "<p>22 rows × 46 columns</p>\n",
       "</div>"
      ],
      "text/plain": [
       "                                                                                  title  \\\n",
       "f2991c4c-6d82-45d4-a136-ba9949c4423e  S2B_MSIL2A_20220529T070619_N0400_R106_T38NRP_2...   \n",
       "889528c3-abba-47b4-8e87-4e61a132ed90  S2B_MSIL2A_20220529T070619_N0400_R106_T38NRN_2...   \n",
       "346b0106-2dd0-4f30-8e5d-98a6b88df80f  S2B_MSIL1C_20220529T070619_N0400_R106_T38NRN_2...   \n",
       "450fb7f7-7868-4889-b7c0-2f6b2daadadd  S2B_MSIL1C_20220529T070619_N0400_R106_T38NRP_2...   \n",
       "055b1726-2662-4cc8-a6e5-9184becbd8d4  S2B_MSIL2A_20220526T065619_N0400_R063_T38NRP_2...   \n",
       "496e7361-4aa0-4dc8-96bc-95ebc15aef99  S2A_MSIL2A_20220524T070631_N0400_R106_T38NRN_2...   \n",
       "5a719cb4-4093-424d-a2b6-be236785d52f  S2A_MSIL1C_20220524T070631_N0400_R106_T38NRN_2...   \n",
       "078754b0-8946-485c-a176-79a6f2bb6bb0  S2A_MSIL2A_20220521T065631_N0400_R063_T38NRN_2...   \n",
       "43b25f92-7995-4b9f-85b2-385ead27e392  S2A_MSIL2A_20220521T065631_N0400_R063_T38NRP_2...   \n",
       "8dc431e0-a8eb-4055-8ee9-893190199375  S2A_MSIL1C_20220521T065631_N0400_R063_T38NRN_2...   \n",
       "1a666047-549d-4fb2-8bb5-362cb5498ac4  S2B_MSIL2A_20220519T070619_N0400_R106_T38NRN_2...   \n",
       "6d9c1960-9c49-4f71-a8a1-78b54111badf  S2B_MSIL2A_20220519T070619_N0400_R106_T38NRP_2...   \n",
       "c4fdf8a9-e408-41da-b12a-a60984f54e6c  S2B_MSIL1C_20220519T070619_N0400_R106_T38NRN_2...   \n",
       "093cb9eb-2010-495c-8986-30159112692d  S2B_MSIL1C_20220519T070619_N0400_R106_T38NRP_2...   \n",
       "c2fd024e-49b9-4c8e-9f84-be698a8ea2ce  S2B_MSIL2A_20220516T065619_N0400_R063_T38NRN_2...   \n",
       "f75ef4ec-8c9c-4dfb-a29f-fae5db92a5f1  S2B_MSIL2A_20220516T065619_N0400_R063_T38NRP_2...   \n",
       "1e71454c-11d7-4b71-9342-1946dad83959  S2B_MSIL1C_20220516T065619_N0400_R063_T38NRP_2...   \n",
       "bbaa6cb7-a868-4fe7-bd0f-074c85e9a7d5  S2B_MSIL1C_20220516T065619_N0400_R063_T38NRN_2...   \n",
       "51bc0ff2-8708-4928-a052-9268ac3d096e  S2B_MSIL1C_20220506T065619_N0400_R063_T38NRP_2...   \n",
       "8d4591d2-b49a-4e05-ac3c-0cd1f8f5b06d  S2B_MSIL1C_20220506T065619_N0400_R063_T38NRN_2...   \n",
       "6db12a37-0224-4e9c-b012-28b538e366a3  S2B_MSIL2A_20220506T065619_N0400_R063_T38NRN_2...   \n",
       "678ae14f-377a-4daa-9999-00ab9f33c2ab  S2B_MSIL2A_20220506T065619_N0400_R063_T38NRP_2...   \n",
       "\n",
       "                                                                                   link  \\\n",
       "f2991c4c-6d82-45d4-a136-ba9949c4423e  https://scihub.copernicus.eu/dhus/odata/v1/Pro...   \n",
       "889528c3-abba-47b4-8e87-4e61a132ed90  https://scihub.copernicus.eu/dhus/odata/v1/Pro...   \n",
       "346b0106-2dd0-4f30-8e5d-98a6b88df80f  https://scihub.copernicus.eu/dhus/odata/v1/Pro...   \n",
       "450fb7f7-7868-4889-b7c0-2f6b2daadadd  https://scihub.copernicus.eu/dhus/odata/v1/Pro...   \n",
       "055b1726-2662-4cc8-a6e5-9184becbd8d4  https://scihub.copernicus.eu/dhus/odata/v1/Pro...   \n",
       "496e7361-4aa0-4dc8-96bc-95ebc15aef99  https://scihub.copernicus.eu/dhus/odata/v1/Pro...   \n",
       "5a719cb4-4093-424d-a2b6-be236785d52f  https://scihub.copernicus.eu/dhus/odata/v1/Pro...   \n",
       "078754b0-8946-485c-a176-79a6f2bb6bb0  https://scihub.copernicus.eu/dhus/odata/v1/Pro...   \n",
       "43b25f92-7995-4b9f-85b2-385ead27e392  https://scihub.copernicus.eu/dhus/odata/v1/Pro...   \n",
       "8dc431e0-a8eb-4055-8ee9-893190199375  https://scihub.copernicus.eu/dhus/odata/v1/Pro...   \n",
       "1a666047-549d-4fb2-8bb5-362cb5498ac4  https://scihub.copernicus.eu/dhus/odata/v1/Pro...   \n",
       "6d9c1960-9c49-4f71-a8a1-78b54111badf  https://scihub.copernicus.eu/dhus/odata/v1/Pro...   \n",
       "c4fdf8a9-e408-41da-b12a-a60984f54e6c  https://scihub.copernicus.eu/dhus/odata/v1/Pro...   \n",
       "093cb9eb-2010-495c-8986-30159112692d  https://scihub.copernicus.eu/dhus/odata/v1/Pro...   \n",
       "c2fd024e-49b9-4c8e-9f84-be698a8ea2ce  https://scihub.copernicus.eu/dhus/odata/v1/Pro...   \n",
       "f75ef4ec-8c9c-4dfb-a29f-fae5db92a5f1  https://scihub.copernicus.eu/dhus/odata/v1/Pro...   \n",
       "1e71454c-11d7-4b71-9342-1946dad83959  https://scihub.copernicus.eu/dhus/odata/v1/Pro...   \n",
       "bbaa6cb7-a868-4fe7-bd0f-074c85e9a7d5  https://scihub.copernicus.eu/dhus/odata/v1/Pro...   \n",
       "51bc0ff2-8708-4928-a052-9268ac3d096e  https://scihub.copernicus.eu/dhus/odata/v1/Pro...   \n",
       "8d4591d2-b49a-4e05-ac3c-0cd1f8f5b06d  https://scihub.copernicus.eu/dhus/odata/v1/Pro...   \n",
       "6db12a37-0224-4e9c-b012-28b538e366a3  https://scihub.copernicus.eu/dhus/odata/v1/Pro...   \n",
       "678ae14f-377a-4daa-9999-00ab9f33c2ab  https://scihub.copernicus.eu/dhus/odata/v1/Pro...   \n",
       "\n",
       "                                                                       link_alternative  \\\n",
       "f2991c4c-6d82-45d4-a136-ba9949c4423e  https://scihub.copernicus.eu/dhus/odata/v1/Pro...   \n",
       "889528c3-abba-47b4-8e87-4e61a132ed90  https://scihub.copernicus.eu/dhus/odata/v1/Pro...   \n",
       "346b0106-2dd0-4f30-8e5d-98a6b88df80f  https://scihub.copernicus.eu/dhus/odata/v1/Pro...   \n",
       "450fb7f7-7868-4889-b7c0-2f6b2daadadd  https://scihub.copernicus.eu/dhus/odata/v1/Pro...   \n",
       "055b1726-2662-4cc8-a6e5-9184becbd8d4  https://scihub.copernicus.eu/dhus/odata/v1/Pro...   \n",
       "496e7361-4aa0-4dc8-96bc-95ebc15aef99  https://scihub.copernicus.eu/dhus/odata/v1/Pro...   \n",
       "5a719cb4-4093-424d-a2b6-be236785d52f  https://scihub.copernicus.eu/dhus/odata/v1/Pro...   \n",
       "078754b0-8946-485c-a176-79a6f2bb6bb0  https://scihub.copernicus.eu/dhus/odata/v1/Pro...   \n",
       "43b25f92-7995-4b9f-85b2-385ead27e392  https://scihub.copernicus.eu/dhus/odata/v1/Pro...   \n",
       "8dc431e0-a8eb-4055-8ee9-893190199375  https://scihub.copernicus.eu/dhus/odata/v1/Pro...   \n",
       "1a666047-549d-4fb2-8bb5-362cb5498ac4  https://scihub.copernicus.eu/dhus/odata/v1/Pro...   \n",
       "6d9c1960-9c49-4f71-a8a1-78b54111badf  https://scihub.copernicus.eu/dhus/odata/v1/Pro...   \n",
       "c4fdf8a9-e408-41da-b12a-a60984f54e6c  https://scihub.copernicus.eu/dhus/odata/v1/Pro...   \n",
       "093cb9eb-2010-495c-8986-30159112692d  https://scihub.copernicus.eu/dhus/odata/v1/Pro...   \n",
       "c2fd024e-49b9-4c8e-9f84-be698a8ea2ce  https://scihub.copernicus.eu/dhus/odata/v1/Pro...   \n",
       "f75ef4ec-8c9c-4dfb-a29f-fae5db92a5f1  https://scihub.copernicus.eu/dhus/odata/v1/Pro...   \n",
       "1e71454c-11d7-4b71-9342-1946dad83959  https://scihub.copernicus.eu/dhus/odata/v1/Pro...   \n",
       "bbaa6cb7-a868-4fe7-bd0f-074c85e9a7d5  https://scihub.copernicus.eu/dhus/odata/v1/Pro...   \n",
       "51bc0ff2-8708-4928-a052-9268ac3d096e  https://scihub.copernicus.eu/dhus/odata/v1/Pro...   \n",
       "8d4591d2-b49a-4e05-ac3c-0cd1f8f5b06d  https://scihub.copernicus.eu/dhus/odata/v1/Pro...   \n",
       "6db12a37-0224-4e9c-b012-28b538e366a3  https://scihub.copernicus.eu/dhus/odata/v1/Pro...   \n",
       "678ae14f-377a-4daa-9999-00ab9f33c2ab  https://scihub.copernicus.eu/dhus/odata/v1/Pro...   \n",
       "\n",
       "                                                                              link_icon  \\\n",
       "f2991c4c-6d82-45d4-a136-ba9949c4423e  https://scihub.copernicus.eu/dhus/odata/v1/Pro...   \n",
       "889528c3-abba-47b4-8e87-4e61a132ed90  https://scihub.copernicus.eu/dhus/odata/v1/Pro...   \n",
       "346b0106-2dd0-4f30-8e5d-98a6b88df80f  https://scihub.copernicus.eu/dhus/odata/v1/Pro...   \n",
       "450fb7f7-7868-4889-b7c0-2f6b2daadadd  https://scihub.copernicus.eu/dhus/odata/v1/Pro...   \n",
       "055b1726-2662-4cc8-a6e5-9184becbd8d4  https://scihub.copernicus.eu/dhus/odata/v1/Pro...   \n",
       "496e7361-4aa0-4dc8-96bc-95ebc15aef99  https://scihub.copernicus.eu/dhus/odata/v1/Pro...   \n",
       "5a719cb4-4093-424d-a2b6-be236785d52f  https://scihub.copernicus.eu/dhus/odata/v1/Pro...   \n",
       "078754b0-8946-485c-a176-79a6f2bb6bb0  https://scihub.copernicus.eu/dhus/odata/v1/Pro...   \n",
       "43b25f92-7995-4b9f-85b2-385ead27e392  https://scihub.copernicus.eu/dhus/odata/v1/Pro...   \n",
       "8dc431e0-a8eb-4055-8ee9-893190199375  https://scihub.copernicus.eu/dhus/odata/v1/Pro...   \n",
       "1a666047-549d-4fb2-8bb5-362cb5498ac4  https://scihub.copernicus.eu/dhus/odata/v1/Pro...   \n",
       "6d9c1960-9c49-4f71-a8a1-78b54111badf  https://scihub.copernicus.eu/dhus/odata/v1/Pro...   \n",
       "c4fdf8a9-e408-41da-b12a-a60984f54e6c  https://scihub.copernicus.eu/dhus/odata/v1/Pro...   \n",
       "093cb9eb-2010-495c-8986-30159112692d  https://scihub.copernicus.eu/dhus/odata/v1/Pro...   \n",
       "c2fd024e-49b9-4c8e-9f84-be698a8ea2ce  https://scihub.copernicus.eu/dhus/odata/v1/Pro...   \n",
       "f75ef4ec-8c9c-4dfb-a29f-fae5db92a5f1  https://scihub.copernicus.eu/dhus/odata/v1/Pro...   \n",
       "1e71454c-11d7-4b71-9342-1946dad83959  https://scihub.copernicus.eu/dhus/odata/v1/Pro...   \n",
       "bbaa6cb7-a868-4fe7-bd0f-074c85e9a7d5  https://scihub.copernicus.eu/dhus/odata/v1/Pro...   \n",
       "51bc0ff2-8708-4928-a052-9268ac3d096e  https://scihub.copernicus.eu/dhus/odata/v1/Pro...   \n",
       "8d4591d2-b49a-4e05-ac3c-0cd1f8f5b06d  https://scihub.copernicus.eu/dhus/odata/v1/Pro...   \n",
       "6db12a37-0224-4e9c-b012-28b538e366a3  https://scihub.copernicus.eu/dhus/odata/v1/Pro...   \n",
       "678ae14f-377a-4daa-9999-00ab9f33c2ab  https://scihub.copernicus.eu/dhus/odata/v1/Pro...   \n",
       "\n",
       "                                                                                summary  \\\n",
       "f2991c4c-6d82-45d4-a136-ba9949c4423e  Date: 2022-05-29T07:06:19.024Z, Instrument: MS...   \n",
       "889528c3-abba-47b4-8e87-4e61a132ed90  Date: 2022-05-29T07:06:19.024Z, Instrument: MS...   \n",
       "346b0106-2dd0-4f30-8e5d-98a6b88df80f  Date: 2022-05-29T07:06:19.024Z, Instrument: MS...   \n",
       "450fb7f7-7868-4889-b7c0-2f6b2daadadd  Date: 2022-05-29T07:06:19.024Z, Instrument: MS...   \n",
       "055b1726-2662-4cc8-a6e5-9184becbd8d4  Date: 2022-05-26T06:56:19.024Z, Instrument: MS...   \n",
       "496e7361-4aa0-4dc8-96bc-95ebc15aef99  Date: 2022-05-24T07:06:31.024Z, Instrument: MS...   \n",
       "5a719cb4-4093-424d-a2b6-be236785d52f  Date: 2022-05-24T07:06:31.024Z, Instrument: MS...   \n",
       "078754b0-8946-485c-a176-79a6f2bb6bb0  Date: 2022-05-21T06:56:31.024Z, Instrument: MS...   \n",
       "43b25f92-7995-4b9f-85b2-385ead27e392  Date: 2022-05-21T06:56:31.024Z, Instrument: MS...   \n",
       "8dc431e0-a8eb-4055-8ee9-893190199375  Date: 2022-05-21T06:56:31.024Z, Instrument: MS...   \n",
       "1a666047-549d-4fb2-8bb5-362cb5498ac4  Date: 2022-05-19T07:06:19.024Z, Instrument: MS...   \n",
       "6d9c1960-9c49-4f71-a8a1-78b54111badf  Date: 2022-05-19T07:06:19.024Z, Instrument: MS...   \n",
       "c4fdf8a9-e408-41da-b12a-a60984f54e6c  Date: 2022-05-19T07:06:19.024Z, Instrument: MS...   \n",
       "093cb9eb-2010-495c-8986-30159112692d  Date: 2022-05-19T07:06:19.024Z, Instrument: MS...   \n",
       "c2fd024e-49b9-4c8e-9f84-be698a8ea2ce  Date: 2022-05-16T06:56:19.024Z, Instrument: MS...   \n",
       "f75ef4ec-8c9c-4dfb-a29f-fae5db92a5f1  Date: 2022-05-16T06:56:19.024Z, Instrument: MS...   \n",
       "1e71454c-11d7-4b71-9342-1946dad83959  Date: 2022-05-16T06:56:19.024Z, Instrument: MS...   \n",
       "bbaa6cb7-a868-4fe7-bd0f-074c85e9a7d5  Date: 2022-05-16T06:56:19.024Z, Instrument: MS...   \n",
       "51bc0ff2-8708-4928-a052-9268ac3d096e  Date: 2022-05-06T06:56:19.024Z, Instrument: MS...   \n",
       "8d4591d2-b49a-4e05-ac3c-0cd1f8f5b06d  Date: 2022-05-06T06:56:19.024Z, Instrument: MS...   \n",
       "6db12a37-0224-4e9c-b012-28b538e366a3  Date: 2022-05-06T06:56:19.024Z, Instrument: MS...   \n",
       "678ae14f-377a-4daa-9999-00ab9f33c2ab  Date: 2022-05-06T06:56:19.024Z, Instrument: MS...   \n",
       "\n",
       "                                     ondemand      generationdate  \\\n",
       "f2991c4c-6d82-45d4-a136-ba9949c4423e    false 2022-05-29 09:45:10   \n",
       "889528c3-abba-47b4-8e87-4e61a132ed90    false 2022-05-29 09:45:10   \n",
       "346b0106-2dd0-4f30-8e5d-98a6b88df80f    false 2022-05-29 09:16:21   \n",
       "450fb7f7-7868-4889-b7c0-2f6b2daadadd    false 2022-05-29 09:16:21   \n",
       "055b1726-2662-4cc8-a6e5-9184becbd8d4    false 2022-05-26 09:59:15   \n",
       "496e7361-4aa0-4dc8-96bc-95ebc15aef99    false 2022-05-24 12:48:19   \n",
       "5a719cb4-4093-424d-a2b6-be236785d52f    false 2022-05-24 09:06:58   \n",
       "078754b0-8946-485c-a176-79a6f2bb6bb0    false 2022-05-21 10:29:09   \n",
       "43b25f92-7995-4b9f-85b2-385ead27e392    false 2022-05-21 10:29:09   \n",
       "8dc431e0-a8eb-4055-8ee9-893190199375    false 2022-05-21 09:27:53   \n",
       "1a666047-549d-4fb2-8bb5-362cb5498ac4    false 2022-05-19 11:37:02   \n",
       "6d9c1960-9c49-4f71-a8a1-78b54111badf    false 2022-05-19 11:37:02   \n",
       "c4fdf8a9-e408-41da-b12a-a60984f54e6c    false 2022-05-19 11:07:26   \n",
       "093cb9eb-2010-495c-8986-30159112692d    false 2022-05-19 11:07:26   \n",
       "c2fd024e-49b9-4c8e-9f84-be698a8ea2ce    false 2022-05-16 10:09:37   \n",
       "f75ef4ec-8c9c-4dfb-a29f-fae5db92a5f1    false 2022-05-16 10:09:37   \n",
       "1e71454c-11d7-4b71-9342-1946dad83959    false 2022-05-16 09:15:32   \n",
       "bbaa6cb7-a868-4fe7-bd0f-074c85e9a7d5    false 2022-05-16 09:15:32   \n",
       "51bc0ff2-8708-4928-a052-9268ac3d096e    false 2022-05-06 09:12:23   \n",
       "8d4591d2-b49a-4e05-ac3c-0cd1f8f5b06d    false 2022-05-06 09:12:23   \n",
       "6db12a37-0224-4e9c-b012-28b538e366a3    false 2022-05-06 10:18:47   \n",
       "678ae14f-377a-4daa-9999-00ab9f33c2ab    false 2022-05-06 10:18:47   \n",
       "\n",
       "                                               beginposition  \\\n",
       "f2991c4c-6d82-45d4-a136-ba9949c4423e 2022-05-29 07:06:19.024   \n",
       "889528c3-abba-47b4-8e87-4e61a132ed90 2022-05-29 07:06:19.024   \n",
       "346b0106-2dd0-4f30-8e5d-98a6b88df80f 2022-05-29 07:06:19.024   \n",
       "450fb7f7-7868-4889-b7c0-2f6b2daadadd 2022-05-29 07:06:19.024   \n",
       "055b1726-2662-4cc8-a6e5-9184becbd8d4 2022-05-26 06:56:19.024   \n",
       "496e7361-4aa0-4dc8-96bc-95ebc15aef99 2022-05-24 07:06:31.024   \n",
       "5a719cb4-4093-424d-a2b6-be236785d52f 2022-05-24 07:06:31.024   \n",
       "078754b0-8946-485c-a176-79a6f2bb6bb0 2022-05-21 06:56:31.024   \n",
       "43b25f92-7995-4b9f-85b2-385ead27e392 2022-05-21 06:56:31.024   \n",
       "8dc431e0-a8eb-4055-8ee9-893190199375 2022-05-21 06:56:31.024   \n",
       "1a666047-549d-4fb2-8bb5-362cb5498ac4 2022-05-19 07:06:19.024   \n",
       "6d9c1960-9c49-4f71-a8a1-78b54111badf 2022-05-19 07:06:19.024   \n",
       "c4fdf8a9-e408-41da-b12a-a60984f54e6c 2022-05-19 07:06:19.024   \n",
       "093cb9eb-2010-495c-8986-30159112692d 2022-05-19 07:06:19.024   \n",
       "c2fd024e-49b9-4c8e-9f84-be698a8ea2ce 2022-05-16 06:56:19.024   \n",
       "f75ef4ec-8c9c-4dfb-a29f-fae5db92a5f1 2022-05-16 06:56:19.024   \n",
       "1e71454c-11d7-4b71-9342-1946dad83959 2022-05-16 06:56:19.024   \n",
       "bbaa6cb7-a868-4fe7-bd0f-074c85e9a7d5 2022-05-16 06:56:19.024   \n",
       "51bc0ff2-8708-4928-a052-9268ac3d096e 2022-05-06 06:56:19.024   \n",
       "8d4591d2-b49a-4e05-ac3c-0cd1f8f5b06d 2022-05-06 06:56:19.024   \n",
       "6db12a37-0224-4e9c-b012-28b538e366a3 2022-05-06 06:56:19.024   \n",
       "678ae14f-377a-4daa-9999-00ab9f33c2ab 2022-05-06 06:56:19.024   \n",
       "\n",
       "                                                 endposition  \\\n",
       "f2991c4c-6d82-45d4-a136-ba9949c4423e 2022-05-29 07:06:19.024   \n",
       "889528c3-abba-47b4-8e87-4e61a132ed90 2022-05-29 07:06:19.024   \n",
       "346b0106-2dd0-4f30-8e5d-98a6b88df80f 2022-05-29 07:06:19.024   \n",
       "450fb7f7-7868-4889-b7c0-2f6b2daadadd 2022-05-29 07:06:19.024   \n",
       "055b1726-2662-4cc8-a6e5-9184becbd8d4 2022-05-26 06:56:19.024   \n",
       "496e7361-4aa0-4dc8-96bc-95ebc15aef99 2022-05-24 07:06:31.024   \n",
       "5a719cb4-4093-424d-a2b6-be236785d52f 2022-05-24 07:06:31.024   \n",
       "078754b0-8946-485c-a176-79a6f2bb6bb0 2022-05-21 06:56:31.024   \n",
       "43b25f92-7995-4b9f-85b2-385ead27e392 2022-05-21 06:56:31.024   \n",
       "8dc431e0-a8eb-4055-8ee9-893190199375 2022-05-21 06:56:31.024   \n",
       "1a666047-549d-4fb2-8bb5-362cb5498ac4 2022-05-19 07:06:19.024   \n",
       "6d9c1960-9c49-4f71-a8a1-78b54111badf 2022-05-19 07:06:19.024   \n",
       "c4fdf8a9-e408-41da-b12a-a60984f54e6c 2022-05-19 07:06:19.024   \n",
       "093cb9eb-2010-495c-8986-30159112692d 2022-05-19 07:06:19.024   \n",
       "c2fd024e-49b9-4c8e-9f84-be698a8ea2ce 2022-05-16 06:56:19.024   \n",
       "f75ef4ec-8c9c-4dfb-a29f-fae5db92a5f1 2022-05-16 06:56:19.024   \n",
       "1e71454c-11d7-4b71-9342-1946dad83959 2022-05-16 06:56:19.024   \n",
       "bbaa6cb7-a868-4fe7-bd0f-074c85e9a7d5 2022-05-16 06:56:19.024   \n",
       "51bc0ff2-8708-4928-a052-9268ac3d096e 2022-05-06 06:56:19.024   \n",
       "8d4591d2-b49a-4e05-ac3c-0cd1f8f5b06d 2022-05-06 06:56:19.024   \n",
       "6db12a37-0224-4e9c-b012-28b538e366a3 2022-05-06 06:56:19.024   \n",
       "678ae14f-377a-4daa-9999-00ab9f33c2ab 2022-05-06 06:56:19.024   \n",
       "\n",
       "                                               ingestiondate  ...  \\\n",
       "f2991c4c-6d82-45d4-a136-ba9949c4423e 2022-05-29 11:56:16.109  ...   \n",
       "889528c3-abba-47b4-8e87-4e61a132ed90 2022-05-29 11:52:28.652  ...   \n",
       "346b0106-2dd0-4f30-8e5d-98a6b88df80f 2022-05-29 10:15:59.094  ...   \n",
       "450fb7f7-7868-4889-b7c0-2f6b2daadadd 2022-05-29 10:15:22.181  ...   \n",
       "055b1726-2662-4cc8-a6e5-9184becbd8d4 2022-05-26 14:04:23.345  ...   \n",
       "496e7361-4aa0-4dc8-96bc-95ebc15aef99 2022-05-24 17:47:54.893  ...   \n",
       "5a719cb4-4093-424d-a2b6-be236785d52f 2022-05-24 15:50:29.459  ...   \n",
       "078754b0-8946-485c-a176-79a6f2bb6bb0 2022-05-21 11:31:46.679  ...   \n",
       "43b25f92-7995-4b9f-85b2-385ead27e392 2022-05-21 11:28:47.850  ...   \n",
       "8dc431e0-a8eb-4055-8ee9-893190199375 2022-05-21 10:42:36.280  ...   \n",
       "1a666047-549d-4fb2-8bb5-362cb5498ac4 2022-05-19 15:55:31.499  ...   \n",
       "6d9c1960-9c49-4f71-a8a1-78b54111badf 2022-05-19 15:50:26.892  ...   \n",
       "c4fdf8a9-e408-41da-b12a-a60984f54e6c 2022-05-19 12:57:24.968  ...   \n",
       "093cb9eb-2010-495c-8986-30159112692d 2022-05-19 12:48:25.408  ...   \n",
       "c2fd024e-49b9-4c8e-9f84-be698a8ea2ce 2022-05-16 13:23:45.788  ...   \n",
       "f75ef4ec-8c9c-4dfb-a29f-fae5db92a5f1 2022-05-16 13:21:16.652  ...   \n",
       "1e71454c-11d7-4b71-9342-1946dad83959 2022-05-16 11:24:54.036  ...   \n",
       "bbaa6cb7-a868-4fe7-bd0f-074c85e9a7d5 2022-05-16 11:24:16.696  ...   \n",
       "51bc0ff2-8708-4928-a052-9268ac3d096e 2022-05-07 02:39:48.277  ...   \n",
       "8d4591d2-b49a-4e05-ac3c-0cd1f8f5b06d 2022-05-07 02:16:31.177  ...   \n",
       "6db12a37-0224-4e9c-b012-28b538e366a3 2022-05-06 22:01:44.512  ...   \n",
       "678ae14f-377a-4daa-9999-00ab9f33c2ab 2022-05-06 22:00:31.420  ...   \n",
       "\n",
       "                                     platformserialidentifier processinglevel  \\\n",
       "f2991c4c-6d82-45d4-a136-ba9949c4423e              Sentinel-2B        Level-2A   \n",
       "889528c3-abba-47b4-8e87-4e61a132ed90              Sentinel-2B        Level-2A   \n",
       "346b0106-2dd0-4f30-8e5d-98a6b88df80f              Sentinel-2B        Level-1C   \n",
       "450fb7f7-7868-4889-b7c0-2f6b2daadadd              Sentinel-2B        Level-1C   \n",
       "055b1726-2662-4cc8-a6e5-9184becbd8d4              Sentinel-2B        Level-2A   \n",
       "496e7361-4aa0-4dc8-96bc-95ebc15aef99              Sentinel-2A        Level-2A   \n",
       "5a719cb4-4093-424d-a2b6-be236785d52f              Sentinel-2A        Level-1C   \n",
       "078754b0-8946-485c-a176-79a6f2bb6bb0              Sentinel-2A        Level-2A   \n",
       "43b25f92-7995-4b9f-85b2-385ead27e392              Sentinel-2A        Level-2A   \n",
       "8dc431e0-a8eb-4055-8ee9-893190199375              Sentinel-2A        Level-1C   \n",
       "1a666047-549d-4fb2-8bb5-362cb5498ac4              Sentinel-2B        Level-2A   \n",
       "6d9c1960-9c49-4f71-a8a1-78b54111badf              Sentinel-2B        Level-2A   \n",
       "c4fdf8a9-e408-41da-b12a-a60984f54e6c              Sentinel-2B        Level-1C   \n",
       "093cb9eb-2010-495c-8986-30159112692d              Sentinel-2B        Level-1C   \n",
       "c2fd024e-49b9-4c8e-9f84-be698a8ea2ce              Sentinel-2B        Level-2A   \n",
       "f75ef4ec-8c9c-4dfb-a29f-fae5db92a5f1              Sentinel-2B        Level-2A   \n",
       "1e71454c-11d7-4b71-9342-1946dad83959              Sentinel-2B        Level-1C   \n",
       "bbaa6cb7-a868-4fe7-bd0f-074c85e9a7d5              Sentinel-2B        Level-1C   \n",
       "51bc0ff2-8708-4928-a052-9268ac3d096e              Sentinel-2B        Level-1C   \n",
       "8d4591d2-b49a-4e05-ac3c-0cd1f8f5b06d              Sentinel-2B        Level-1C   \n",
       "6db12a37-0224-4e9c-b012-28b538e366a3              Sentinel-2B        Level-2A   \n",
       "678ae14f-377a-4daa-9999-00ab9f33c2ab              Sentinel-2B        Level-2A   \n",
       "\n",
       "                                                                    datastripidentifier  \\\n",
       "f2991c4c-6d82-45d4-a136-ba9949c4423e  S2B_OPER_MSI_L2A_DS_2BPS_20220529T094510_S2022...   \n",
       "889528c3-abba-47b4-8e87-4e61a132ed90  S2B_OPER_MSI_L2A_DS_2BPS_20220529T094510_S2022...   \n",
       "346b0106-2dd0-4f30-8e5d-98a6b88df80f  S2B_OPER_MSI_L1C_DS_2BPS_20220529T091621_S2022...   \n",
       "450fb7f7-7868-4889-b7c0-2f6b2daadadd  S2B_OPER_MSI_L1C_DS_2BPS_20220529T091621_S2022...   \n",
       "055b1726-2662-4cc8-a6e5-9184becbd8d4  S2B_OPER_MSI_L2A_DS_2BPS_20220526T095915_S2022...   \n",
       "496e7361-4aa0-4dc8-96bc-95ebc15aef99  S2A_OPER_MSI_L2A_DS_ATOS_20220524T124819_S2022...   \n",
       "5a719cb4-4093-424d-a2b6-be236785d52f  S2A_OPER_MSI_L1C_DS_ATOS_20220524T090658_S2022...   \n",
       "078754b0-8946-485c-a176-79a6f2bb6bb0  S2A_OPER_MSI_L2A_DS_ATOS_20220521T102909_S2022...   \n",
       "43b25f92-7995-4b9f-85b2-385ead27e392  S2A_OPER_MSI_L2A_DS_ATOS_20220521T102909_S2022...   \n",
       "8dc431e0-a8eb-4055-8ee9-893190199375  S2A_OPER_MSI_L1C_DS_ATOS_20220521T092753_S2022...   \n",
       "1a666047-549d-4fb2-8bb5-362cb5498ac4  S2B_OPER_MSI_L2A_DS_2BPS_20220519T113702_S2022...   \n",
       "6d9c1960-9c49-4f71-a8a1-78b54111badf  S2B_OPER_MSI_L2A_DS_2BPS_20220519T113702_S2022...   \n",
       "c4fdf8a9-e408-41da-b12a-a60984f54e6c  S2B_OPER_MSI_L1C_DS_2BPS_20220519T110726_S2022...   \n",
       "093cb9eb-2010-495c-8986-30159112692d  S2B_OPER_MSI_L1C_DS_2BPS_20220519T110726_S2022...   \n",
       "c2fd024e-49b9-4c8e-9f84-be698a8ea2ce  S2B_OPER_MSI_L2A_DS_2BPS_20220516T100937_S2022...   \n",
       "f75ef4ec-8c9c-4dfb-a29f-fae5db92a5f1  S2B_OPER_MSI_L2A_DS_2BPS_20220516T100937_S2022...   \n",
       "1e71454c-11d7-4b71-9342-1946dad83959  S2B_OPER_MSI_L1C_DS_2BPS_20220516T091532_S2022...   \n",
       "bbaa6cb7-a868-4fe7-bd0f-074c85e9a7d5  S2B_OPER_MSI_L1C_DS_2BPS_20220516T091532_S2022...   \n",
       "51bc0ff2-8708-4928-a052-9268ac3d096e  S2B_OPER_MSI_L1C_DS_2BPS_20220506T091223_S2022...   \n",
       "8d4591d2-b49a-4e05-ac3c-0cd1f8f5b06d  S2B_OPER_MSI_L1C_DS_2BPS_20220506T091223_S2022...   \n",
       "6db12a37-0224-4e9c-b012-28b538e366a3  S2B_OPER_MSI_L2A_DS_2BPS_20220506T101847_S2022...   \n",
       "678ae14f-377a-4daa-9999-00ab9f33c2ab  S2B_OPER_MSI_L2A_DS_2BPS_20220506T101847_S2022...   \n",
       "\n",
       "                                                                      granuleidentifier  \\\n",
       "f2991c4c-6d82-45d4-a136-ba9949c4423e  S2B_OPER_MSI_L2A_TL_2BPS_20220529T094510_A0273...   \n",
       "889528c3-abba-47b4-8e87-4e61a132ed90  S2B_OPER_MSI_L2A_TL_2BPS_20220529T094510_A0273...   \n",
       "346b0106-2dd0-4f30-8e5d-98a6b88df80f  S2B_OPER_MSI_L1C_TL_2BPS_20220529T091621_A0273...   \n",
       "450fb7f7-7868-4889-b7c0-2f6b2daadadd  S2B_OPER_MSI_L1C_TL_2BPS_20220529T091621_A0273...   \n",
       "055b1726-2662-4cc8-a6e5-9184becbd8d4  S2B_OPER_MSI_L2A_TL_2BPS_20220526T095915_A0272...   \n",
       "496e7361-4aa0-4dc8-96bc-95ebc15aef99  S2A_OPER_MSI_L2A_TL_ATOS_20220524T124819_A0361...   \n",
       "5a719cb4-4093-424d-a2b6-be236785d52f  S2A_OPER_MSI_L1C_TL_ATOS_20220524T090658_A0361...   \n",
       "078754b0-8946-485c-a176-79a6f2bb6bb0  S2A_OPER_MSI_L2A_TL_ATOS_20220521T102909_A0360...   \n",
       "43b25f92-7995-4b9f-85b2-385ead27e392  S2A_OPER_MSI_L2A_TL_ATOS_20220521T102909_A0360...   \n",
       "8dc431e0-a8eb-4055-8ee9-893190199375  S2A_OPER_MSI_L1C_TL_ATOS_20220521T092753_A0360...   \n",
       "1a666047-549d-4fb2-8bb5-362cb5498ac4  S2B_OPER_MSI_L2A_TL_2BPS_20220519T113702_A0271...   \n",
       "6d9c1960-9c49-4f71-a8a1-78b54111badf  S2B_OPER_MSI_L2A_TL_2BPS_20220519T113702_A0271...   \n",
       "c4fdf8a9-e408-41da-b12a-a60984f54e6c  S2B_OPER_MSI_L1C_TL_2BPS_20220519T110726_A0271...   \n",
       "093cb9eb-2010-495c-8986-30159112692d  S2B_OPER_MSI_L1C_TL_2BPS_20220519T110726_A0271...   \n",
       "c2fd024e-49b9-4c8e-9f84-be698a8ea2ce  S2B_OPER_MSI_L2A_TL_2BPS_20220516T100937_A0271...   \n",
       "f75ef4ec-8c9c-4dfb-a29f-fae5db92a5f1  S2B_OPER_MSI_L2A_TL_2BPS_20220516T100937_A0271...   \n",
       "1e71454c-11d7-4b71-9342-1946dad83959  S2B_OPER_MSI_L1C_TL_2BPS_20220516T091532_A0271...   \n",
       "bbaa6cb7-a868-4fe7-bd0f-074c85e9a7d5  S2B_OPER_MSI_L1C_TL_2BPS_20220516T091532_A0271...   \n",
       "51bc0ff2-8708-4928-a052-9268ac3d096e  S2B_OPER_MSI_L1C_TL_2BPS_20220506T091223_A0269...   \n",
       "8d4591d2-b49a-4e05-ac3c-0cd1f8f5b06d  S2B_OPER_MSI_L1C_TL_2BPS_20220506T091223_A0269...   \n",
       "6db12a37-0224-4e9c-b012-28b538e366a3  S2B_OPER_MSI_L2A_TL_2BPS_20220506T101847_A0269...   \n",
       "678ae14f-377a-4daa-9999-00ab9f33c2ab  S2B_OPER_MSI_L2A_TL_2BPS_20220506T101847_A0269...   \n",
       "\n",
       "                                                                             identifier  \\\n",
       "f2991c4c-6d82-45d4-a136-ba9949c4423e  S2B_MSIL2A_20220529T070619_N0400_R106_T38NRP_2...   \n",
       "889528c3-abba-47b4-8e87-4e61a132ed90  S2B_MSIL2A_20220529T070619_N0400_R106_T38NRN_2...   \n",
       "346b0106-2dd0-4f30-8e5d-98a6b88df80f  S2B_MSIL1C_20220529T070619_N0400_R106_T38NRN_2...   \n",
       "450fb7f7-7868-4889-b7c0-2f6b2daadadd  S2B_MSIL1C_20220529T070619_N0400_R106_T38NRP_2...   \n",
       "055b1726-2662-4cc8-a6e5-9184becbd8d4  S2B_MSIL2A_20220526T065619_N0400_R063_T38NRP_2...   \n",
       "496e7361-4aa0-4dc8-96bc-95ebc15aef99  S2A_MSIL2A_20220524T070631_N0400_R106_T38NRN_2...   \n",
       "5a719cb4-4093-424d-a2b6-be236785d52f  S2A_MSIL1C_20220524T070631_N0400_R106_T38NRN_2...   \n",
       "078754b0-8946-485c-a176-79a6f2bb6bb0  S2A_MSIL2A_20220521T065631_N0400_R063_T38NRN_2...   \n",
       "43b25f92-7995-4b9f-85b2-385ead27e392  S2A_MSIL2A_20220521T065631_N0400_R063_T38NRP_2...   \n",
       "8dc431e0-a8eb-4055-8ee9-893190199375  S2A_MSIL1C_20220521T065631_N0400_R063_T38NRN_2...   \n",
       "1a666047-549d-4fb2-8bb5-362cb5498ac4  S2B_MSIL2A_20220519T070619_N0400_R106_T38NRN_2...   \n",
       "6d9c1960-9c49-4f71-a8a1-78b54111badf  S2B_MSIL2A_20220519T070619_N0400_R106_T38NRP_2...   \n",
       "c4fdf8a9-e408-41da-b12a-a60984f54e6c  S2B_MSIL1C_20220519T070619_N0400_R106_T38NRN_2...   \n",
       "093cb9eb-2010-495c-8986-30159112692d  S2B_MSIL1C_20220519T070619_N0400_R106_T38NRP_2...   \n",
       "c2fd024e-49b9-4c8e-9f84-be698a8ea2ce  S2B_MSIL2A_20220516T065619_N0400_R063_T38NRN_2...   \n",
       "f75ef4ec-8c9c-4dfb-a29f-fae5db92a5f1  S2B_MSIL2A_20220516T065619_N0400_R063_T38NRP_2...   \n",
       "1e71454c-11d7-4b71-9342-1946dad83959  S2B_MSIL1C_20220516T065619_N0400_R063_T38NRP_2...   \n",
       "bbaa6cb7-a868-4fe7-bd0f-074c85e9a7d5  S2B_MSIL1C_20220516T065619_N0400_R063_T38NRN_2...   \n",
       "51bc0ff2-8708-4928-a052-9268ac3d096e  S2B_MSIL1C_20220506T065619_N0400_R063_T38NRP_2...   \n",
       "8d4591d2-b49a-4e05-ac3c-0cd1f8f5b06d  S2B_MSIL1C_20220506T065619_N0400_R063_T38NRN_2...   \n",
       "6db12a37-0224-4e9c-b012-28b538e366a3  S2B_MSIL2A_20220506T065619_N0400_R063_T38NRN_2...   \n",
       "678ae14f-377a-4daa-9999-00ab9f33c2ab  S2B_MSIL2A_20220506T065619_N0400_R063_T38NRP_2...   \n",
       "\n",
       "                                                                      uuid  \\\n",
       "f2991c4c-6d82-45d4-a136-ba9949c4423e  f2991c4c-6d82-45d4-a136-ba9949c4423e   \n",
       "889528c3-abba-47b4-8e87-4e61a132ed90  889528c3-abba-47b4-8e87-4e61a132ed90   \n",
       "346b0106-2dd0-4f30-8e5d-98a6b88df80f  346b0106-2dd0-4f30-8e5d-98a6b88df80f   \n",
       "450fb7f7-7868-4889-b7c0-2f6b2daadadd  450fb7f7-7868-4889-b7c0-2f6b2daadadd   \n",
       "055b1726-2662-4cc8-a6e5-9184becbd8d4  055b1726-2662-4cc8-a6e5-9184becbd8d4   \n",
       "496e7361-4aa0-4dc8-96bc-95ebc15aef99  496e7361-4aa0-4dc8-96bc-95ebc15aef99   \n",
       "5a719cb4-4093-424d-a2b6-be236785d52f  5a719cb4-4093-424d-a2b6-be236785d52f   \n",
       "078754b0-8946-485c-a176-79a6f2bb6bb0  078754b0-8946-485c-a176-79a6f2bb6bb0   \n",
       "43b25f92-7995-4b9f-85b2-385ead27e392  43b25f92-7995-4b9f-85b2-385ead27e392   \n",
       "8dc431e0-a8eb-4055-8ee9-893190199375  8dc431e0-a8eb-4055-8ee9-893190199375   \n",
       "1a666047-549d-4fb2-8bb5-362cb5498ac4  1a666047-549d-4fb2-8bb5-362cb5498ac4   \n",
       "6d9c1960-9c49-4f71-a8a1-78b54111badf  6d9c1960-9c49-4f71-a8a1-78b54111badf   \n",
       "c4fdf8a9-e408-41da-b12a-a60984f54e6c  c4fdf8a9-e408-41da-b12a-a60984f54e6c   \n",
       "093cb9eb-2010-495c-8986-30159112692d  093cb9eb-2010-495c-8986-30159112692d   \n",
       "c2fd024e-49b9-4c8e-9f84-be698a8ea2ce  c2fd024e-49b9-4c8e-9f84-be698a8ea2ce   \n",
       "f75ef4ec-8c9c-4dfb-a29f-fae5db92a5f1  f75ef4ec-8c9c-4dfb-a29f-fae5db92a5f1   \n",
       "1e71454c-11d7-4b71-9342-1946dad83959  1e71454c-11d7-4b71-9342-1946dad83959   \n",
       "bbaa6cb7-a868-4fe7-bd0f-074c85e9a7d5  bbaa6cb7-a868-4fe7-bd0f-074c85e9a7d5   \n",
       "51bc0ff2-8708-4928-a052-9268ac3d096e  51bc0ff2-8708-4928-a052-9268ac3d096e   \n",
       "8d4591d2-b49a-4e05-ac3c-0cd1f8f5b06d  8d4591d2-b49a-4e05-ac3c-0cd1f8f5b06d   \n",
       "6db12a37-0224-4e9c-b012-28b538e366a3  6db12a37-0224-4e9c-b012-28b538e366a3   \n",
       "678ae14f-377a-4daa-9999-00ab9f33c2ab  678ae14f-377a-4daa-9999-00ab9f33c2ab   \n",
       "\n",
       "                                        datatakesensingstart  \\\n",
       "f2991c4c-6d82-45d4-a136-ba9949c4423e                     NaT   \n",
       "889528c3-abba-47b4-8e87-4e61a132ed90                     NaT   \n",
       "346b0106-2dd0-4f30-8e5d-98a6b88df80f 2022-05-29 07:06:19.024   \n",
       "450fb7f7-7868-4889-b7c0-2f6b2daadadd 2022-05-29 07:06:19.024   \n",
       "055b1726-2662-4cc8-a6e5-9184becbd8d4                     NaT   \n",
       "496e7361-4aa0-4dc8-96bc-95ebc15aef99                     NaT   \n",
       "5a719cb4-4093-424d-a2b6-be236785d52f 2022-05-24 07:06:31.024   \n",
       "078754b0-8946-485c-a176-79a6f2bb6bb0                     NaT   \n",
       "43b25f92-7995-4b9f-85b2-385ead27e392                     NaT   \n",
       "8dc431e0-a8eb-4055-8ee9-893190199375 2022-05-21 06:56:31.024   \n",
       "1a666047-549d-4fb2-8bb5-362cb5498ac4                     NaT   \n",
       "6d9c1960-9c49-4f71-a8a1-78b54111badf                     NaT   \n",
       "c4fdf8a9-e408-41da-b12a-a60984f54e6c 2022-05-19 07:06:19.024   \n",
       "093cb9eb-2010-495c-8986-30159112692d 2022-05-19 07:06:19.024   \n",
       "c2fd024e-49b9-4c8e-9f84-be698a8ea2ce                     NaT   \n",
       "f75ef4ec-8c9c-4dfb-a29f-fae5db92a5f1                     NaT   \n",
       "1e71454c-11d7-4b71-9342-1946dad83959 2022-05-16 06:56:19.024   \n",
       "bbaa6cb7-a868-4fe7-bd0f-074c85e9a7d5 2022-05-16 06:56:19.024   \n",
       "51bc0ff2-8708-4928-a052-9268ac3d096e 2022-05-06 06:56:19.024   \n",
       "8d4591d2-b49a-4e05-ac3c-0cd1f8f5b06d 2022-05-06 06:56:19.024   \n",
       "6db12a37-0224-4e9c-b012-28b538e366a3                     NaT   \n",
       "678ae14f-377a-4daa-9999-00ab9f33c2ab                     NaT   \n",
       "\n",
       "                                     sensoroperationalmode tileid  \\\n",
       "f2991c4c-6d82-45d4-a136-ba9949c4423e                   NaN    NaN   \n",
       "889528c3-abba-47b4-8e87-4e61a132ed90                   NaN    NaN   \n",
       "346b0106-2dd0-4f30-8e5d-98a6b88df80f              INS-NOBS  38NRN   \n",
       "450fb7f7-7868-4889-b7c0-2f6b2daadadd              INS-NOBS  38NRP   \n",
       "055b1726-2662-4cc8-a6e5-9184becbd8d4                   NaN    NaN   \n",
       "496e7361-4aa0-4dc8-96bc-95ebc15aef99                   NaN    NaN   \n",
       "5a719cb4-4093-424d-a2b6-be236785d52f              INS-NOBS  38NRN   \n",
       "078754b0-8946-485c-a176-79a6f2bb6bb0                   NaN    NaN   \n",
       "43b25f92-7995-4b9f-85b2-385ead27e392                   NaN    NaN   \n",
       "8dc431e0-a8eb-4055-8ee9-893190199375              INS-NOBS  38NRN   \n",
       "1a666047-549d-4fb2-8bb5-362cb5498ac4                   NaN    NaN   \n",
       "6d9c1960-9c49-4f71-a8a1-78b54111badf                   NaN    NaN   \n",
       "c4fdf8a9-e408-41da-b12a-a60984f54e6c              INS-NOBS  38NRN   \n",
       "093cb9eb-2010-495c-8986-30159112692d              INS-NOBS  38NRP   \n",
       "c2fd024e-49b9-4c8e-9f84-be698a8ea2ce                   NaN    NaN   \n",
       "f75ef4ec-8c9c-4dfb-a29f-fae5db92a5f1                   NaN    NaN   \n",
       "1e71454c-11d7-4b71-9342-1946dad83959              INS-NOBS  38NRP   \n",
       "bbaa6cb7-a868-4fe7-bd0f-074c85e9a7d5              INS-NOBS  38NRN   \n",
       "51bc0ff2-8708-4928-a052-9268ac3d096e              INS-NOBS  38NRP   \n",
       "8d4591d2-b49a-4e05-ac3c-0cd1f8f5b06d              INS-NOBS  38NRN   \n",
       "6db12a37-0224-4e9c-b012-28b538e366a3                   NaN    NaN   \n",
       "678ae14f-377a-4daa-9999-00ab9f33c2ab                   NaN    NaN   \n",
       "\n",
       "                                     hv_order_tileid  \n",
       "f2991c4c-6d82-45d4-a136-ba9949c4423e             NaN  \n",
       "889528c3-abba-47b4-8e87-4e61a132ed90             NaN  \n",
       "346b0106-2dd0-4f30-8e5d-98a6b88df80f           NN38R  \n",
       "450fb7f7-7868-4889-b7c0-2f6b2daadadd           NP38R  \n",
       "055b1726-2662-4cc8-a6e5-9184becbd8d4             NaN  \n",
       "496e7361-4aa0-4dc8-96bc-95ebc15aef99             NaN  \n",
       "5a719cb4-4093-424d-a2b6-be236785d52f           NN38R  \n",
       "078754b0-8946-485c-a176-79a6f2bb6bb0             NaN  \n",
       "43b25f92-7995-4b9f-85b2-385ead27e392             NaN  \n",
       "8dc431e0-a8eb-4055-8ee9-893190199375           NN38R  \n",
       "1a666047-549d-4fb2-8bb5-362cb5498ac4             NaN  \n",
       "6d9c1960-9c49-4f71-a8a1-78b54111badf             NaN  \n",
       "c4fdf8a9-e408-41da-b12a-a60984f54e6c           NN38R  \n",
       "093cb9eb-2010-495c-8986-30159112692d           NP38R  \n",
       "c2fd024e-49b9-4c8e-9f84-be698a8ea2ce             NaN  \n",
       "f75ef4ec-8c9c-4dfb-a29f-fae5db92a5f1             NaN  \n",
       "1e71454c-11d7-4b71-9342-1946dad83959           NP38R  \n",
       "bbaa6cb7-a868-4fe7-bd0f-074c85e9a7d5           NN38R  \n",
       "51bc0ff2-8708-4928-a052-9268ac3d096e           NP38R  \n",
       "8d4591d2-b49a-4e05-ac3c-0cd1f8f5b06d           NN38R  \n",
       "6db12a37-0224-4e9c-b012-28b538e366a3             NaN  \n",
       "678ae14f-377a-4daa-9999-00ab9f33c2ab             NaN  \n",
       "\n",
       "[22 rows x 46 columns]"
      ]
     },
     "execution_count": 20,
     "metadata": {},
     "output_type": "execute_result"
    }
   ],
   "source": [
    "df = pd.DataFrame(products).T\n",
    "df"
   ]
  },
  {
   "cell_type": "code",
   "execution_count": 21,
   "metadata": {},
   "outputs": [],
   "source": [
    "idx = df.cloudcoverpercentage == min(df.cloudcoverpercentage)"
   ]
  },
  {
   "cell_type": "code",
   "execution_count": 22,
   "metadata": {},
   "outputs": [
    {
     "data": {
      "text/plain": [
       "'8dc431e0-a8eb-4055-8ee9-893190199375'"
      ]
     },
     "execution_count": 22,
     "metadata": {},
     "output_type": "execute_result"
    }
   ],
   "source": [
    "uuid = df.uuid.loc[idx][0]\n",
    "uuid"
   ]
  },
  {
   "cell_type": "code",
   "execution_count": 23,
   "metadata": {},
   "outputs": [
    {
     "data": {
      "text/plain": [
       "8dc431e0-a8eb-4055-8ee9-893190199375    S2A_MSIL1C_20220521T065631_N0400_R063_T38NRN_2...\n",
       "c4fdf8a9-e408-41da-b12a-a60984f54e6c    S2B_MSIL1C_20220519T070619_N0400_R106_T38NRN_2...\n",
       "1e71454c-11d7-4b71-9342-1946dad83959    S2B_MSIL1C_20220516T065619_N0400_R063_T38NRP_2...\n",
       "Name: title, dtype: object"
      ]
     },
     "execution_count": 23,
     "metadata": {},
     "output_type": "execute_result"
    }
   ],
   "source": [
    "df.title.loc[idx]"
   ]
  },
  {
   "cell_type": "code",
   "execution_count": 24,
   "metadata": {},
   "outputs": [
    {
     "data": {
      "text/plain": [
       "f2991c4c-6d82-45d4-a136-ba9949c4423e    https://scihub.copernicus.eu/dhus/odata/v1/Pro...\n",
       "889528c3-abba-47b4-8e87-4e61a132ed90    https://scihub.copernicus.eu/dhus/odata/v1/Pro...\n",
       "346b0106-2dd0-4f30-8e5d-98a6b88df80f    https://scihub.copernicus.eu/dhus/odata/v1/Pro...\n",
       "Name: link, dtype: object"
      ]
     },
     "execution_count": 24,
     "metadata": {},
     "output_type": "execute_result"
    }
   ],
   "source": [
    "df.link[:3]"
   ]
  },
  {
   "cell_type": "code",
   "execution_count": 25,
   "metadata": {},
   "outputs": [
    {
     "data": {
      "text/plain": [
       "f2991c4c-6d82-45d4-a136-ba9949c4423e    16.601875\n",
       "889528c3-abba-47b4-8e87-4e61a132ed90    16.401613\n",
       "346b0106-2dd0-4f30-8e5d-98a6b88df80f    14.043889\n",
       "450fb7f7-7868-4889-b7c0-2f6b2daadadd     11.58741\n",
       "055b1726-2662-4cc8-a6e5-9184becbd8d4    13.145912\n",
       "496e7361-4aa0-4dc8-96bc-95ebc15aef99    12.111505\n",
       "5a719cb4-4093-424d-a2b6-be236785d52f      9.06012\n",
       "078754b0-8946-485c-a176-79a6f2bb6bb0     1.075593\n",
       "43b25f92-7995-4b9f-85b2-385ead27e392    11.361731\n",
       "8dc431e0-a8eb-4055-8ee9-893190199375          0.0\n",
       "1a666047-549d-4fb2-8bb5-362cb5498ac4     0.000083\n",
       "6d9c1960-9c49-4f71-a8a1-78b54111badf     4.388965\n",
       "c4fdf8a9-e408-41da-b12a-a60984f54e6c          0.0\n",
       "093cb9eb-2010-495c-8986-30159112692d     2.325852\n",
       "c2fd024e-49b9-4c8e-9f84-be698a8ea2ce     1.184868\n",
       "f75ef4ec-8c9c-4dfb-a29f-fae5db92a5f1     0.050401\n",
       "1e71454c-11d7-4b71-9342-1946dad83959          0.0\n",
       "bbaa6cb7-a868-4fe7-bd0f-074c85e9a7d5     0.580863\n",
       "51bc0ff2-8708-4928-a052-9268ac3d096e     3.052656\n",
       "8d4591d2-b49a-4e05-ac3c-0cd1f8f5b06d     7.664728\n",
       "6db12a37-0224-4e9c-b012-28b538e366a3    14.876775\n",
       "678ae14f-377a-4daa-9999-00ab9f33c2ab     4.045734\n",
       "Name: cloudcoverpercentage, dtype: object"
      ]
     },
     "execution_count": 25,
     "metadata": {},
     "output_type": "execute_result"
    }
   ],
   "source": [
    "df.cloudcoverpercentage"
   ]
  },
  {
   "cell_type": "code",
   "execution_count": 27,
   "metadata": {},
   "outputs": [
    {
     "data": {
      "application/vnd.jupyter.widget-view+json": {
       "model_id": "8a10271527b54e1b8578a0778103b753",
       "version_major": 2,
       "version_minor": 0
      },
      "text/plain": [
       "Downloading S2B_MSIL2A_20220516T065619_N0400_R063_T38NRP_20220516T100937.zip:   0%|          | 0.00/1.03G [00:…"
      ]
     },
     "metadata": {},
     "output_type": "display_data"
    },
    {
     "data": {
      "application/vnd.jupyter.widget-view+json": {
       "model_id": "58aa30019f5c40ada025e94e5d00a074",
       "version_major": 2,
       "version_minor": 0
      },
      "text/plain": [
       "MD5 checksumming:   0%|          | 0.00/1.03G [00:00<?, ?B/s]"
      ]
     },
     "metadata": {},
     "output_type": "display_data"
    },
    {
     "data": {
      "text/plain": [
       "{'id': 'f75ef4ec-8c9c-4dfb-a29f-fae5db92a5f1',\n",
       " 'title': 'S2B_MSIL2A_20220516T065619_N0400_R063_T38NRP_20220516T100937',\n",
       " 'size': 1028914902,\n",
       " 'md5': '2fced137d3c1215e37fe28163ab659db',\n",
       " 'date': datetime.datetime(2022, 5, 16, 6, 56, 19, 24000),\n",
       " 'footprint': 'POLYGON((47.801541217733885 7.140219635862032,47.8261216098428 7.251699007580729,47.858681113659465 7.400335996972613,47.89142346761316 7.548873299144915,47.924361724227325 7.697283734097688,47.95706507322189 7.845760141685897,47.98988958750889 7.994215950702571,48.01996383446892 8.130548916872261,48.717158464580585 8.125022545190241,48.7085993421091 7.133901712573143,47.801541217733885 7.140219635862032))',\n",
       " 'url': \"https://scihub.copernicus.eu/dhus/odata/v1/Products('f75ef4ec-8c9c-4dfb-a29f-fae5db92a5f1')/$value\",\n",
       " 'Online': True,\n",
       " 'Creation Date': datetime.datetime(2022, 5, 16, 13, 22, 25, 239000),\n",
       " 'Ingestion Date': datetime.datetime(2022, 5, 16, 13, 21, 16, 652000),\n",
       " 'quicklook_url': \"https://scihub.copernicus.eu/dhus/odata/v1/Products('f75ef4ec-8c9c-4dfb-a29f-fae5db92a5f1')/Products('Quicklook')/$value\",\n",
       " 'path': 'imgs\\\\sentinel\\\\S2B_MSIL2A_20220516T065619_N0400_R063_T38NRP_20220516T100937.zip',\n",
       " 'downloaded_bytes': 1028914902}"
      ]
     },
     "execution_count": 27,
     "metadata": {},
     "output_type": "execute_result"
    }
   ],
   "source": [
    "api.download('f75ef4ec-8c9c-4dfb-a29f-fae5db92a5f1', 'imgs/sentinel/')"
   ]
  },
  {
   "cell_type": "markdown",
   "metadata": {},
   "source": [
    "## 3 secure login"
   ]
  },
  {
   "cell_type": "code",
   "execution_count": 30,
   "metadata": {},
   "outputs": [],
   "source": [
    "conf= dotenv_values(\"compernicus.env\")"
   ]
  },
  {
   "cell_type": "code",
   "execution_count": 31,
   "metadata": {},
   "outputs": [
    {
     "data": {
      "text/plain": [
       "OrderedDict([('user', 'osmandaway'), ('passw', 'Daway0123&*')])"
      ]
     },
     "execution_count": 31,
     "metadata": {},
     "output_type": "execute_result"
    }
   ],
   "source": [
    "test_conf=dotenv_values(\"compernicus.env\")\n",
    "test_conf"
   ]
  },
  {
   "cell_type": "code",
   "execution_count": 32,
   "metadata": {},
   "outputs": [],
   "source": [
    "conf=dotenv_values(\"compernicus.env\")"
   ]
  },
  {
   "cell_type": "markdown",
   "metadata": {},
   "source": []
  },
  {
   "cell_type": "code",
   "execution_count": null,
   "metadata": {},
   "outputs": [],
   "source": []
  }
 ],
 "metadata": {
  "interpreter": {
   "hash": "16c62da36ff12211fb11e62dc329dd6d64ec88e69083c75fd776388e3525f0d6"
  },
  "kernelspec": {
   "display_name": "Python 3.10.4 ('sent')",
   "language": "python",
   "name": "python3"
  },
  "language_info": {
   "codemirror_mode": {
    "name": "ipython",
    "version": 3
   },
   "file_extension": ".py",
   "mimetype": "text/x-python",
   "name": "python",
   "nbconvert_exporter": "python",
   "pygments_lexer": "ipython3",
   "version": "3.10.4"
  },
  "orig_nbformat": 4
 },
 "nbformat": 4,
 "nbformat_minor": 2
}
