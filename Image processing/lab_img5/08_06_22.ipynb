{
 "cells": [
  {
   "cell_type": "code",
   "execution_count": 1,
   "metadata": {},
   "outputs": [],
   "source": [
    "import numpy as np\n",
    "import pandas as pd\n",
    "from matplotlib import pyplot as plt\n",
    "from geopy.geocoders import Nominatim\n",
    "import geojson\n",
    "from shapely import geometry\n",
    "from sentinelsat import SentinelAPI\n",
    "from datetime import date\n",
    "import utm\n",
    "from ipyleaflet import Map, Marker, basemaps, basemap_to_tiles\n",
    "from ipyleaflet import Polygon as ipylPolygon\n",
    "from dotenv import dotenv_values\n",
    "\n",
    "from pathlib import Path"
   ]
  },
  {
   "cell_type": "code",
   "execution_count": 2,
   "metadata": {},
   "outputs": [
    {
     "data": {
      "text/plain": [
       "OrderedDict([('user', 'osmandaway'), ('passw', 'Daway0123&*')])"
      ]
     },
     "execution_count": 2,
     "metadata": {},
     "output_type": "execute_result"
    }
   ],
   "source": [
    "conf = dotenv_values('copernicus.env')\n",
    "conf"
   ]
  },
  {
   "cell_type": "markdown",
   "metadata": {},
   "source": [
    "## 4 AREA of interest"
   ]
  },
  {
   "cell_type": "code",
   "execution_count": 3,
   "metadata": {},
   "outputs": [],
   "source": [
    "api=SentinelAPI(conf['user'],conf['passw'],'https://scihub.copernicus.eu/dhus')"
   ]
  },
  {
   "cell_type": "code",
   "execution_count": 4,
   "metadata": {},
   "outputs": [],
   "source": [
    "adress = {'country':'France', 'city':'Rouffach'}\n",
    "geolocator = Nominatim(user_agent=\"osmandaway\")"
   ]
  },
  {
   "cell_type": "code",
   "execution_count": 5,
   "metadata": {},
   "outputs": [
    {
     "data": {
      "text/plain": [
       "geopy.location.Location"
      ]
     },
     "execution_count": 5,
     "metadata": {},
     "output_type": "execute_result"
    }
   ],
   "source": [
    "location = geolocator.geocode(adress)\n",
    "type(location)"
   ]
  },
  {
   "cell_type": "code",
   "execution_count": 6,
   "metadata": {},
   "outputs": [
    {
     "data": {
      "text/plain": [
       "'Rouffach, Thann-Guebwiller, Haut-Rhin, Grand Est, France métropolitaine, 68250, France'"
      ]
     },
     "execution_count": 6,
     "metadata": {},
     "output_type": "execute_result"
    }
   ],
   "source": [
    "location.address"
   ]
  },
  {
   "cell_type": "code",
   "execution_count": 7,
   "metadata": {},
   "outputs": [
    {
     "data": {
      "text/plain": [
       "(47.96852955, 7.305268542571866)"
      ]
     },
     "execution_count": 7,
     "metadata": {},
     "output_type": "execute_result"
    }
   ],
   "source": [
    "location.latitude, location.longitude"
   ]
  },
  {
   "cell_type": "code",
   "execution_count": 11,
   "metadata": {},
   "outputs": [
    {
     "data": {
      "application/vnd.jupyter.widget-view+json": {
       "model_id": "f2166409503f4f2396d168589bc3f221",
       "version_major": 2,
       "version_minor": 0
      },
      "text/plain": [
       "Map(center=[47.96852955, 7.305268542571866], controls=(ZoomControl(options=['position', 'zoom_in_text', 'zoom_…"
      ]
     },
     "metadata": {},
     "output_type": "display_data"
    }
   ],
   "source": [
    "latlon = (location.latitude, location.longitude)\n",
    "\n",
    "m = Map(\n",
    "    basemap=basemap_to_tiles(basemaps.Esri.WorldImagery),\n",
    "    center=(latlon[0], latlon[1]),\n",
    "    zoom=15\n",
    ")\n",
    "\n",
    "m.add_layer(Marker(location=latlon))\n",
    "m"
   ]
  },
  {
   "cell_type": "markdown",
   "metadata": {},
   "source": [
    "## Coordinate conversion"
   ]
  },
  {
   "cell_type": "code",
   "execution_count": 12,
   "metadata": {},
   "outputs": [
    {
     "data": {
      "text/plain": [
       "(373505.67235979013, 5314192.1795177, 32, 'T')"
      ]
     },
     "execution_count": 12,
     "metadata": {},
     "output_type": "execute_result"
    }
   ],
   "source": [
    "utm.from_latlon(location.latitude,location.longitude)"
   ]
  },
  {
   "cell_type": "code",
   "execution_count": 13,
   "metadata": {},
   "outputs": [
    {
     "name": "stdout",
     "output_type": "stream",
     "text": [
      "373505.67 5314192.18\n"
     ]
    }
   ],
   "source": [
    "x, y, zone, zoneLetter = utm.from_latlon(location.latitude, location.longitude)\n",
    "x = round(x,2)\n",
    "y = round(y,2)\n",
    "print(x,y)"
   ]
  },
  {
   "cell_type": "code",
   "execution_count": 14,
   "metadata": {},
   "outputs": [
    {
     "data": {
      "text/plain": [
       "[(358505.67, 5329192.18),\n",
       " (388505.67, 5329192.18),\n",
       " (388505.67, 5299192.18),\n",
       " (358505.67, 5299192.18)]"
      ]
     },
     "execution_count": 14,
     "metadata": {},
     "output_type": "execute_result"
    }
   ],
   "source": [
    "offset = 15 * 1000\n",
    "\n",
    "upl = (x-offset, y+offset)\n",
    "upr = (x+offset, y+offset)\n",
    "\n",
    "dwr = (x+offset, y-offset)\n",
    "dwl = (x-offset, y-offset)\n",
    "\n",
    "utmCoord = [upl,upr,dwr,dwl]\n",
    "utmCoord"
   ]
  },
  {
   "cell_type": "code",
   "execution_count": 15,
   "metadata": {},
   "outputs": [
    {
     "data": {
      "text/plain": [
       "([[48.1002722, 7.0994558],\n",
       "  [48.1062295, 7.5022523],\n",
       "  [47.8364043, 7.5100359],\n",
       "  [47.8305029, 7.1093301]],\n",
       " [[7.0994558, 48.1002722],\n",
       "  [7.5022523, 48.1062295],\n",
       "  [7.5100359, 47.8364043],\n",
       "  [7.1093301, 47.8305029]])"
      ]
     },
     "execution_count": 15,
     "metadata": {},
     "output_type": "execute_result"
    }
   ],
   "source": [
    "geo1_coord = []\n",
    "geo2_coord = []\n",
    "\n",
    "for p in utmCoord:\n",
    "    lat, lon = utm.to_latlon(*p, zone, zoneLetter)\n",
    "    geo1_coord.append([round(lat,7), round(lon,7)])\n",
    "    geo2_coord.append([round(lon,7), round(lat,7)])\n",
    "\n",
    "geo1_coord, geo2_coord"
   ]
  },
  {
   "cell_type": "markdown",
   "metadata": {},
   "source": [
    "# Creating a Polygon"
   ]
  },
  {
   "cell_type": "code",
   "execution_count": 16,
   "metadata": {},
   "outputs": [
    {
     "data": {
      "image/svg+xml": "<svg xmlns=\"http://www.w3.org/2000/svg\" xmlns:xlink=\"http://www.w3.org/1999/xlink\" width=\"100.0\" height=\"100.0\" viewBox=\"7.083032596000001 47.814079696 0.44342650799999905 0.3085730079999962\" preserveAspectRatio=\"xMinYMin meet\"><g transform=\"matrix(1,0,0,-1,0,95.9367324)\"><path fill-rule=\"evenodd\" fill=\"#66cc99\" stroke=\"#555555\" stroke-width=\"0.008868530159999981\" opacity=\"0.6\" d=\"M 7.0994558,48.1002722 L 7.5022523,48.1062295 L 7.5100359,47.8364043 L 7.1093301,47.8305029 L 7.0994558,48.1002722 z\" /></g></svg>",
      "text/plain": [
       "<shapely.geometry.polygon.Polygon at 0x17ce5b72170>"
      ]
     },
     "execution_count": 16,
     "metadata": {},
     "output_type": "execute_result"
    }
   ],
   "source": [
    "geoPolygon = geometry.Polygon(geo2_coord)\n",
    "geoPolygon"
   ]
  },
  {
   "cell_type": "code",
   "execution_count": 17,
   "metadata": {},
   "outputs": [
    {
     "name": "stdout",
     "output_type": "stream",
     "text": [
      "POLYGON ((7.0994558 48.1002722, 7.5022523 48.1062295, 7.5100359 47.8364043, 7.1093301 47.8305029, 7.0994558 48.1002722))\n"
     ]
    }
   ],
   "source": [
    "print(geoPolygon)"
   ]
  },
  {
   "cell_type": "code",
   "execution_count": 18,
   "metadata": {},
   "outputs": [
    {
     "data": {
      "text/plain": [
       "'POLYGON ((7.0994558 48.1002722, 7.5022523 48.1062295, 7.5100359 47.8364043, 7.1093301 47.8305029, 7.0994558 48.1002722))'"
      ]
     },
     "execution_count": 18,
     "metadata": {},
     "output_type": "execute_result"
    }
   ],
   "source": [
    "geoPolygon.wkt"
   ]
  },
  {
   "cell_type": "markdown",
   "metadata": {},
   "source": [
    "## Coords to goejson file"
   ]
  },
  {
   "cell_type": "code",
   "execution_count": 19,
   "metadata": {},
   "outputs": [
    {
     "data": {
      "text/plain": [
       "(WindowsPath('C:/img_proc/lab_img5/data/lat_lon.json'),\n",
       " WindowsPath('C:/img_proc/lab_img5/data/lon_lat.json'),\n",
       " WindowsPath('C:/img_proc/lab_img5/data/polygon_utm.json'))"
      ]
     },
     "execution_count": 19,
     "metadata": {},
     "output_type": "execute_result"
    }
   ],
   "source": [
    "path_json1 = Path('data/lat_lon.json').resolve()\n",
    "path_json2 = Path('data/lon_lat.json').resolve()\n",
    "path_utm = Path('data/polygon_utm.json').resolve()\n",
    "\n",
    "path_json1, path_json2, path_utm"
   ]
  },
  {
   "cell_type": "code",
   "execution_count": 20,
   "metadata": {},
   "outputs": [
    {
     "data": {
      "text/plain": [
       "({\"coordinates\": [[48.100272, 7.099456], [48.10623, 7.502252], [47.836404, 7.510036], [47.830503, 7.10933]], \"type\": \"Polygon\"},\n",
       " {\"coordinates\": [[7.099456, 48.100272], [7.502252, 48.10623], [7.510036, 47.836404], [7.10933, 47.830503]], \"type\": \"Polygon\"})"
      ]
     },
     "execution_count": 20,
     "metadata": {},
     "output_type": "execute_result"
    }
   ],
   "source": [
    "lat_lon = geojson.Polygon(geo1_coord)\n",
    "lon_lat = geojson.Polygon(geo2_coord)\n",
    "\n",
    "lat_lon, lon_lat"
   ]
  },
  {
   "cell_type": "code",
   "execution_count": 21,
   "metadata": {},
   "outputs": [
    {
     "data": {
      "text/plain": [
       "{\"coordinates\": [[358505.67, 5329192.18], [388505.67, 5329192.18], [388505.67, 5299192.18], [358505.67, 5299192.18]], \"type\": \"Polygon\"}"
      ]
     },
     "execution_count": 21,
     "metadata": {},
     "output_type": "execute_result"
    }
   ],
   "source": [
    "data_utm = geojson.Polygon(utmCoord)\n",
    "data_utm"
   ]
  },
  {
   "cell_type": "code",
   "execution_count": 22,
   "metadata": {},
   "outputs": [],
   "source": [
    "with open(path_json1, 'w') as f:\n",
    "    geojson.dump(lat_lon, f, indent=4)\n",
    "\n",
    "with open(path_json2, 'w') as f:\n",
    "    geojson.dump(lon_lat, f, indent=4)\n",
    "    \n",
    "with open(path_utm, 'w') as f:\n",
    "    geojson.dump(data_utm, f, indent=4)"
   ]
  },
  {
   "cell_type": "markdown",
   "metadata": {},
   "source": [
    "## Display the map"
   ]
  },
  {
   "cell_type": "code",
   "execution_count": 23,
   "metadata": {},
   "outputs": [
    {
     "data": {
      "application/vnd.jupyter.widget-view+json": {
       "model_id": "071deea0ef284ff1a386caea16018c75",
       "version_major": 2,
       "version_minor": 0
      },
      "text/plain": [
       "Map(center=[47.96852955, 7.305268542571866], controls=(ZoomControl(options=['position', 'zoom_in_text', 'zoom_…"
      ]
     },
     "metadata": {},
     "output_type": "display_data"
    }
   ],
   "source": [
    "latlon = (location.latitude, location.longitude)\n",
    "\n",
    "\n",
    "m = Map(\n",
    "    basemap=basemap_to_tiles(basemaps.Esri.WorldTopoMap,\"2021-05-08\"),\n",
    "    center=(latlon[0], latlon[1]),\n",
    "    zoom=10\n",
    ")\n",
    "\n",
    "m.add_layer(Marker(location=latlon))\n",
    "area = ipylPolygon(location=geo1_coord, color='red', fill_opacity=0.1, weight=2)\n",
    "m.add_layer(area)\n",
    "m"
   ]
  },
  {
   "cell_type": "markdown",
   "metadata": {},
   "source": [
    "## Sentinelsat download image"
   ]
  },
  {
   "cell_type": "markdown",
   "metadata": {},
   "source": [
    "# API"
   ]
  },
  {
   "cell_type": "code",
   "execution_count": 24,
   "metadata": {},
   "outputs": [],
   "source": [
    "api = SentinelAPI(conf['user'], conf['passw'], 'https://scihub.copernicus.eu/dhus')"
   ]
  },
  {
   "cell_type": "code",
   "execution_count": 25,
   "metadata": {},
   "outputs": [],
   "source": [
    "products = api.query(geoPolygon,\n",
    "                    date=('20220501', '20220531'),\n",
    "                    platformname='Sentinel-2',\n",
    "                    cloudcoverpercentage=(0, 20)\n",
    "                    )"
   ]
  },
  {
   "cell_type": "code",
   "execution_count": 26,
   "metadata": {},
   "outputs": [
    {
     "data": {
      "text/html": [
       "<div>\n",
       "<style scoped>\n",
       "    .dataframe tbody tr th:only-of-type {\n",
       "        vertical-align: middle;\n",
       "    }\n",
       "\n",
       "    .dataframe tbody tr th {\n",
       "        vertical-align: top;\n",
       "    }\n",
       "\n",
       "    .dataframe thead th {\n",
       "        text-align: right;\n",
       "    }\n",
       "</style>\n",
       "<table border=\"1\" class=\"dataframe\">\n",
       "  <thead>\n",
       "    <tr style=\"text-align: right;\">\n",
       "      <th></th>\n",
       "      <th>title</th>\n",
       "      <th>link</th>\n",
       "      <th>link_alternative</th>\n",
       "      <th>link_icon</th>\n",
       "      <th>summary</th>\n",
       "      <th>ondemand</th>\n",
       "      <th>generationdate</th>\n",
       "      <th>beginposition</th>\n",
       "      <th>endposition</th>\n",
       "      <th>ingestiondate</th>\n",
       "      <th>...</th>\n",
       "      <th>platformserialidentifier</th>\n",
       "      <th>processinglevel</th>\n",
       "      <th>datastripidentifier</th>\n",
       "      <th>granuleidentifier</th>\n",
       "      <th>identifier</th>\n",
       "      <th>uuid</th>\n",
       "      <th>datatakesensingstart</th>\n",
       "      <th>sensoroperationalmode</th>\n",
       "      <th>tileid</th>\n",
       "      <th>hv_order_tileid</th>\n",
       "    </tr>\n",
       "  </thead>\n",
       "  <tbody>\n",
       "    <tr>\n",
       "      <th>9e693bbb-b8fa-4773-83fc-2e7faf9e35f7</th>\n",
       "      <td>S2B_MSIL2A_20220509T102559_N0400_R108_T32ULU_2...</td>\n",
       "      <td>https://scihub.copernicus.eu/dhus/odata/v1/Pro...</td>\n",
       "      <td>https://scihub.copernicus.eu/dhus/odata/v1/Pro...</td>\n",
       "      <td>https://scihub.copernicus.eu/dhus/odata/v1/Pro...</td>\n",
       "      <td>Date: 2022-05-09T10:25:59.024Z, Instrument: MS...</td>\n",
       "      <td>false</td>\n",
       "      <td>2022-05-09 15:24:16</td>\n",
       "      <td>2022-05-09 10:25:59.024</td>\n",
       "      <td>2022-05-09 10:25:59.024</td>\n",
       "      <td>2022-05-09 22:26:56.511</td>\n",
       "      <td>...</td>\n",
       "      <td>Sentinel-2B</td>\n",
       "      <td>Level-2A</td>\n",
       "      <td>S2B_OPER_MSI_L2A_DS_2BPS_20220509T152416_S2022...</td>\n",
       "      <td>S2B_OPER_MSI_L2A_TL_2BPS_20220509T152416_A0270...</td>\n",
       "      <td>S2B_MSIL2A_20220509T102559_N0400_R108_T32ULU_2...</td>\n",
       "      <td>9e693bbb-b8fa-4773-83fc-2e7faf9e35f7</td>\n",
       "      <td>NaT</td>\n",
       "      <td>NaN</td>\n",
       "      <td>NaN</td>\n",
       "      <td>NaN</td>\n",
       "    </tr>\n",
       "    <tr>\n",
       "      <th>dca4816a-4190-498e-9f0c-f70e5894bbde</th>\n",
       "      <td>S2B_MSIL2A_20220509T102559_N0400_R108_T31UGP_2...</td>\n",
       "      <td>https://scihub.copernicus.eu/dhus/odata/v1/Pro...</td>\n",
       "      <td>https://scihub.copernicus.eu/dhus/odata/v1/Pro...</td>\n",
       "      <td>https://scihub.copernicus.eu/dhus/odata/v1/Pro...</td>\n",
       "      <td>Date: 2022-05-09T10:25:59.024Z, Instrument: MS...</td>\n",
       "      <td>false</td>\n",
       "      <td>2022-05-09 15:24:16</td>\n",
       "      <td>2022-05-09 10:25:59.024</td>\n",
       "      <td>2022-05-09 10:25:59.024</td>\n",
       "      <td>2022-05-09 22:07:46.857</td>\n",
       "      <td>...</td>\n",
       "      <td>Sentinel-2B</td>\n",
       "      <td>Level-2A</td>\n",
       "      <td>S2B_OPER_MSI_L2A_DS_2BPS_20220509T152416_S2022...</td>\n",
       "      <td>S2B_OPER_MSI_L2A_TL_2BPS_20220509T152416_A0270...</td>\n",
       "      <td>S2B_MSIL2A_20220509T102559_N0400_R108_T31UGP_2...</td>\n",
       "      <td>dca4816a-4190-498e-9f0c-f70e5894bbde</td>\n",
       "      <td>NaT</td>\n",
       "      <td>NaN</td>\n",
       "      <td>NaN</td>\n",
       "      <td>NaN</td>\n",
       "    </tr>\n",
       "    <tr>\n",
       "      <th>a7826863-1fb4-4de1-b015-7b8364a08529</th>\n",
       "      <td>S2B_MSIL1C_20220509T102559_N0400_R108_T31UGP_2...</td>\n",
       "      <td>https://scihub.copernicus.eu/dhus/odata/v1/Pro...</td>\n",
       "      <td>https://scihub.copernicus.eu/dhus/odata/v1/Pro...</td>\n",
       "      <td>https://scihub.copernicus.eu/dhus/odata/v1/Pro...</td>\n",
       "      <td>Date: 2022-05-09T10:25:59.024Z, Instrument: MS...</td>\n",
       "      <td>false</td>\n",
       "      <td>2022-05-09 12:40:04</td>\n",
       "      <td>2022-05-09 10:25:59.024</td>\n",
       "      <td>2022-05-09 10:25:59.024</td>\n",
       "      <td>2022-05-09 18:23:23.721</td>\n",
       "      <td>...</td>\n",
       "      <td>Sentinel-2B</td>\n",
       "      <td>Level-1C</td>\n",
       "      <td>S2B_OPER_MSI_L1C_DS_2BPS_20220509T124004_S2022...</td>\n",
       "      <td>S2B_OPER_MSI_L1C_TL_2BPS_20220509T124004_A0270...</td>\n",
       "      <td>S2B_MSIL1C_20220509T102559_N0400_R108_T31UGP_2...</td>\n",
       "      <td>a7826863-1fb4-4de1-b015-7b8364a08529</td>\n",
       "      <td>2022-05-09 10:25:59.024</td>\n",
       "      <td>INS-NOBS</td>\n",
       "      <td>31UGP</td>\n",
       "      <td>UP31G</td>\n",
       "    </tr>\n",
       "    <tr>\n",
       "      <th>ca1c4e5d-0f3d-4527-ba94-588f564a8454</th>\n",
       "      <td>S2B_MSIL1C_20220509T102559_N0400_R108_T32ULU_2...</td>\n",
       "      <td>https://scihub.copernicus.eu/dhus/odata/v1/Pro...</td>\n",
       "      <td>https://scihub.copernicus.eu/dhus/odata/v1/Pro...</td>\n",
       "      <td>https://scihub.copernicus.eu/dhus/odata/v1/Pro...</td>\n",
       "      <td>Date: 2022-05-09T10:25:59.024Z, Instrument: MS...</td>\n",
       "      <td>false</td>\n",
       "      <td>2022-05-09 12:40:04</td>\n",
       "      <td>2022-05-09 10:25:59.024</td>\n",
       "      <td>2022-05-09 10:25:59.024</td>\n",
       "      <td>2022-05-09 17:41:57.212</td>\n",
       "      <td>...</td>\n",
       "      <td>Sentinel-2B</td>\n",
       "      <td>Level-1C</td>\n",
       "      <td>S2B_OPER_MSI_L1C_DS_2BPS_20220509T124004_S2022...</td>\n",
       "      <td>S2B_OPER_MSI_L1C_TL_2BPS_20220509T124004_A0270...</td>\n",
       "      <td>S2B_MSIL1C_20220509T102559_N0400_R108_T32ULU_2...</td>\n",
       "      <td>ca1c4e5d-0f3d-4527-ba94-588f564a8454</td>\n",
       "      <td>2022-05-09 10:25:59.024</td>\n",
       "      <td>INS-NOBS</td>\n",
       "      <td>32ULU</td>\n",
       "      <td>UU32L</td>\n",
       "    </tr>\n",
       "  </tbody>\n",
       "</table>\n",
       "<p>4 rows × 46 columns</p>\n",
       "</div>"
      ],
      "text/plain": [
       "                                                                                  title  \\\n",
       "9e693bbb-b8fa-4773-83fc-2e7faf9e35f7  S2B_MSIL2A_20220509T102559_N0400_R108_T32ULU_2...   \n",
       "dca4816a-4190-498e-9f0c-f70e5894bbde  S2B_MSIL2A_20220509T102559_N0400_R108_T31UGP_2...   \n",
       "a7826863-1fb4-4de1-b015-7b8364a08529  S2B_MSIL1C_20220509T102559_N0400_R108_T31UGP_2...   \n",
       "ca1c4e5d-0f3d-4527-ba94-588f564a8454  S2B_MSIL1C_20220509T102559_N0400_R108_T32ULU_2...   \n",
       "\n",
       "                                                                                   link  \\\n",
       "9e693bbb-b8fa-4773-83fc-2e7faf9e35f7  https://scihub.copernicus.eu/dhus/odata/v1/Pro...   \n",
       "dca4816a-4190-498e-9f0c-f70e5894bbde  https://scihub.copernicus.eu/dhus/odata/v1/Pro...   \n",
       "a7826863-1fb4-4de1-b015-7b8364a08529  https://scihub.copernicus.eu/dhus/odata/v1/Pro...   \n",
       "ca1c4e5d-0f3d-4527-ba94-588f564a8454  https://scihub.copernicus.eu/dhus/odata/v1/Pro...   \n",
       "\n",
       "                                                                       link_alternative  \\\n",
       "9e693bbb-b8fa-4773-83fc-2e7faf9e35f7  https://scihub.copernicus.eu/dhus/odata/v1/Pro...   \n",
       "dca4816a-4190-498e-9f0c-f70e5894bbde  https://scihub.copernicus.eu/dhus/odata/v1/Pro...   \n",
       "a7826863-1fb4-4de1-b015-7b8364a08529  https://scihub.copernicus.eu/dhus/odata/v1/Pro...   \n",
       "ca1c4e5d-0f3d-4527-ba94-588f564a8454  https://scihub.copernicus.eu/dhus/odata/v1/Pro...   \n",
       "\n",
       "                                                                              link_icon  \\\n",
       "9e693bbb-b8fa-4773-83fc-2e7faf9e35f7  https://scihub.copernicus.eu/dhus/odata/v1/Pro...   \n",
       "dca4816a-4190-498e-9f0c-f70e5894bbde  https://scihub.copernicus.eu/dhus/odata/v1/Pro...   \n",
       "a7826863-1fb4-4de1-b015-7b8364a08529  https://scihub.copernicus.eu/dhus/odata/v1/Pro...   \n",
       "ca1c4e5d-0f3d-4527-ba94-588f564a8454  https://scihub.copernicus.eu/dhus/odata/v1/Pro...   \n",
       "\n",
       "                                                                                summary  \\\n",
       "9e693bbb-b8fa-4773-83fc-2e7faf9e35f7  Date: 2022-05-09T10:25:59.024Z, Instrument: MS...   \n",
       "dca4816a-4190-498e-9f0c-f70e5894bbde  Date: 2022-05-09T10:25:59.024Z, Instrument: MS...   \n",
       "a7826863-1fb4-4de1-b015-7b8364a08529  Date: 2022-05-09T10:25:59.024Z, Instrument: MS...   \n",
       "ca1c4e5d-0f3d-4527-ba94-588f564a8454  Date: 2022-05-09T10:25:59.024Z, Instrument: MS...   \n",
       "\n",
       "                                     ondemand      generationdate  \\\n",
       "9e693bbb-b8fa-4773-83fc-2e7faf9e35f7    false 2022-05-09 15:24:16   \n",
       "dca4816a-4190-498e-9f0c-f70e5894bbde    false 2022-05-09 15:24:16   \n",
       "a7826863-1fb4-4de1-b015-7b8364a08529    false 2022-05-09 12:40:04   \n",
       "ca1c4e5d-0f3d-4527-ba94-588f564a8454    false 2022-05-09 12:40:04   \n",
       "\n",
       "                                               beginposition  \\\n",
       "9e693bbb-b8fa-4773-83fc-2e7faf9e35f7 2022-05-09 10:25:59.024   \n",
       "dca4816a-4190-498e-9f0c-f70e5894bbde 2022-05-09 10:25:59.024   \n",
       "a7826863-1fb4-4de1-b015-7b8364a08529 2022-05-09 10:25:59.024   \n",
       "ca1c4e5d-0f3d-4527-ba94-588f564a8454 2022-05-09 10:25:59.024   \n",
       "\n",
       "                                                 endposition  \\\n",
       "9e693bbb-b8fa-4773-83fc-2e7faf9e35f7 2022-05-09 10:25:59.024   \n",
       "dca4816a-4190-498e-9f0c-f70e5894bbde 2022-05-09 10:25:59.024   \n",
       "a7826863-1fb4-4de1-b015-7b8364a08529 2022-05-09 10:25:59.024   \n",
       "ca1c4e5d-0f3d-4527-ba94-588f564a8454 2022-05-09 10:25:59.024   \n",
       "\n",
       "                                               ingestiondate  ...  \\\n",
       "9e693bbb-b8fa-4773-83fc-2e7faf9e35f7 2022-05-09 22:26:56.511  ...   \n",
       "dca4816a-4190-498e-9f0c-f70e5894bbde 2022-05-09 22:07:46.857  ...   \n",
       "a7826863-1fb4-4de1-b015-7b8364a08529 2022-05-09 18:23:23.721  ...   \n",
       "ca1c4e5d-0f3d-4527-ba94-588f564a8454 2022-05-09 17:41:57.212  ...   \n",
       "\n",
       "                                     platformserialidentifier processinglevel  \\\n",
       "9e693bbb-b8fa-4773-83fc-2e7faf9e35f7              Sentinel-2B        Level-2A   \n",
       "dca4816a-4190-498e-9f0c-f70e5894bbde              Sentinel-2B        Level-2A   \n",
       "a7826863-1fb4-4de1-b015-7b8364a08529              Sentinel-2B        Level-1C   \n",
       "ca1c4e5d-0f3d-4527-ba94-588f564a8454              Sentinel-2B        Level-1C   \n",
       "\n",
       "                                                                    datastripidentifier  \\\n",
       "9e693bbb-b8fa-4773-83fc-2e7faf9e35f7  S2B_OPER_MSI_L2A_DS_2BPS_20220509T152416_S2022...   \n",
       "dca4816a-4190-498e-9f0c-f70e5894bbde  S2B_OPER_MSI_L2A_DS_2BPS_20220509T152416_S2022...   \n",
       "a7826863-1fb4-4de1-b015-7b8364a08529  S2B_OPER_MSI_L1C_DS_2BPS_20220509T124004_S2022...   \n",
       "ca1c4e5d-0f3d-4527-ba94-588f564a8454  S2B_OPER_MSI_L1C_DS_2BPS_20220509T124004_S2022...   \n",
       "\n",
       "                                                                      granuleidentifier  \\\n",
       "9e693bbb-b8fa-4773-83fc-2e7faf9e35f7  S2B_OPER_MSI_L2A_TL_2BPS_20220509T152416_A0270...   \n",
       "dca4816a-4190-498e-9f0c-f70e5894bbde  S2B_OPER_MSI_L2A_TL_2BPS_20220509T152416_A0270...   \n",
       "a7826863-1fb4-4de1-b015-7b8364a08529  S2B_OPER_MSI_L1C_TL_2BPS_20220509T124004_A0270...   \n",
       "ca1c4e5d-0f3d-4527-ba94-588f564a8454  S2B_OPER_MSI_L1C_TL_2BPS_20220509T124004_A0270...   \n",
       "\n",
       "                                                                             identifier  \\\n",
       "9e693bbb-b8fa-4773-83fc-2e7faf9e35f7  S2B_MSIL2A_20220509T102559_N0400_R108_T32ULU_2...   \n",
       "dca4816a-4190-498e-9f0c-f70e5894bbde  S2B_MSIL2A_20220509T102559_N0400_R108_T31UGP_2...   \n",
       "a7826863-1fb4-4de1-b015-7b8364a08529  S2B_MSIL1C_20220509T102559_N0400_R108_T31UGP_2...   \n",
       "ca1c4e5d-0f3d-4527-ba94-588f564a8454  S2B_MSIL1C_20220509T102559_N0400_R108_T32ULU_2...   \n",
       "\n",
       "                                                                      uuid  \\\n",
       "9e693bbb-b8fa-4773-83fc-2e7faf9e35f7  9e693bbb-b8fa-4773-83fc-2e7faf9e35f7   \n",
       "dca4816a-4190-498e-9f0c-f70e5894bbde  dca4816a-4190-498e-9f0c-f70e5894bbde   \n",
       "a7826863-1fb4-4de1-b015-7b8364a08529  a7826863-1fb4-4de1-b015-7b8364a08529   \n",
       "ca1c4e5d-0f3d-4527-ba94-588f564a8454  ca1c4e5d-0f3d-4527-ba94-588f564a8454   \n",
       "\n",
       "                                        datatakesensingstart  \\\n",
       "9e693bbb-b8fa-4773-83fc-2e7faf9e35f7                     NaT   \n",
       "dca4816a-4190-498e-9f0c-f70e5894bbde                     NaT   \n",
       "a7826863-1fb4-4de1-b015-7b8364a08529 2022-05-09 10:25:59.024   \n",
       "ca1c4e5d-0f3d-4527-ba94-588f564a8454 2022-05-09 10:25:59.024   \n",
       "\n",
       "                                     sensoroperationalmode tileid  \\\n",
       "9e693bbb-b8fa-4773-83fc-2e7faf9e35f7                   NaN    NaN   \n",
       "dca4816a-4190-498e-9f0c-f70e5894bbde                   NaN    NaN   \n",
       "a7826863-1fb4-4de1-b015-7b8364a08529              INS-NOBS  31UGP   \n",
       "ca1c4e5d-0f3d-4527-ba94-588f564a8454              INS-NOBS  32ULU   \n",
       "\n",
       "                                     hv_order_tileid  \n",
       "9e693bbb-b8fa-4773-83fc-2e7faf9e35f7             NaN  \n",
       "dca4816a-4190-498e-9f0c-f70e5894bbde             NaN  \n",
       "a7826863-1fb4-4de1-b015-7b8364a08529           UP31G  \n",
       "ca1c4e5d-0f3d-4527-ba94-588f564a8454           UU32L  \n",
       "\n",
       "[4 rows x 46 columns]"
      ]
     },
     "execution_count": 26,
     "metadata": {},
     "output_type": "execute_result"
    }
   ],
   "source": [
    "df = pd.DataFrame(products).T\n",
    "df"
   ]
  },
  {
   "cell_type": "markdown",
   "metadata": {},
   "source": [
    "## The choice of the smallest cloudy"
   ]
  },
  {
   "cell_type": "code",
   "execution_count": 27,
   "metadata": {},
   "outputs": [
    {
     "name": "stdout",
     "output_type": "stream",
     "text": [
      "shape: (1, 46)\n",
      "\n",
      "link: https://scihub.copernicus.eu/dhus/odata/v1/Products('ca1c4e5d-0f3d-4527-ba94-588f564a8454')/$value\n",
      "\n",
      "uuid: ca1c4e5d-0f3d-4527-ba94-588f564a8454\n"
     ]
    }
   ],
   "source": [
    "idx = df.cloudcoverpercentage == df.cloudcoverpercentage.min()\n",
    "df_1 = df.loc[idx]\n",
    "\n",
    "print(f'shape: {df_1.shape}\\n\\nlink: {df_1.link[0]}\\n\\nuuid: {df_1.uuid[0]}')"
   ]
  },
  {
   "cell_type": "markdown",
   "metadata": {},
   "source": [
    "## Download img"
   ]
  },
  {
   "cell_type": "code",
   "execution_count": 28,
   "metadata": {},
   "outputs": [
    {
     "data": {
      "text/plain": [
       "'S2B_MSIL1C_20220509T102559_N0400_R108_T32ULU_20220509T124004'"
      ]
     },
     "execution_count": 28,
     "metadata": {},
     "output_type": "execute_result"
    }
   ],
   "source": [
    "img_name = df_1.title.values[0]\n",
    "img_name"
   ]
  },
  {
   "cell_type": "code",
   "execution_count": 29,
   "metadata": {},
   "outputs": [],
   "source": [
    "img_path = Path('imgs/sentinel').resolve()"
   ]
  },
  {
   "cell_type": "code",
   "execution_count": 30,
   "metadata": {},
   "outputs": [],
   "source": [
    "uuid = df_1.uuid[0]"
   ]
  },
  {
   "cell_type": "code",
   "execution_count": 31,
   "metadata": {},
   "outputs": [
    {
     "data": {
      "application/vnd.jupyter.widget-view+json": {
       "model_id": "993e7d3fc4214f35b8a2fedf6eebd277",
       "version_major": 2,
       "version_minor": 0
      },
      "text/plain": [
       "Downloading S2B_MSIL1C_20220509T102559_N0400_R108_T32ULU_20220509T124004.zip:   0%|          | 0.00/845M [00:0…"
      ]
     },
     "metadata": {},
     "output_type": "display_data"
    },
    {
     "ename": "KeyboardInterrupt",
     "evalue": "",
     "output_type": "error",
     "traceback": [
      "\u001b[1;31m---------------------------------------------------------------------------\u001b[0m",
      "\u001b[1;31mKeyboardInterrupt\u001b[0m                         Traceback (most recent call last)",
      "\u001b[1;32mc:\\img_proc\\lab_img5\\08_06_22.ipynb Cell 37'\u001b[0m in \u001b[0;36m<cell line: 1>\u001b[1;34m()\u001b[0m\n\u001b[1;32m----> <a href='vscode-notebook-cell:/c%3A/img_proc/lab_img5/08_06_22.ipynb#ch0000030?line=0'>1</a>\u001b[0m api\u001b[39m.\u001b[39;49mdownload(uuid, \u001b[39m'\u001b[39;49m\u001b[39mimgs/sentinel/\u001b[39;49m\u001b[39m'\u001b[39;49m)\n",
      "File \u001b[1;32mc:\\Anaconda\\envs\\sent\\lib\\site-packages\\sentinelsat\\sentinel.py:590\u001b[0m, in \u001b[0;36mSentinelAPI.download\u001b[1;34m(self, id, directory_path, checksum, nodefilter)\u001b[0m\n\u001b[0;32m    <a href='file:///c%3A/Anaconda/envs/sent/lib/site-packages/sentinelsat/sentinel.py?line=587'>588</a>\u001b[0m downloader\u001b[39m.\u001b[39mnode_filter \u001b[39m=\u001b[39m nodefilter\n\u001b[0;32m    <a href='file:///c%3A/Anaconda/envs/sent/lib/site-packages/sentinelsat/sentinel.py?line=588'>589</a>\u001b[0m downloader\u001b[39m.\u001b[39mverify_checksum \u001b[39m=\u001b[39m checksum\n\u001b[1;32m--> <a href='file:///c%3A/Anaconda/envs/sent/lib/site-packages/sentinelsat/sentinel.py?line=589'>590</a>\u001b[0m \u001b[39mreturn\u001b[39;00m downloader\u001b[39m.\u001b[39;49mdownload(\u001b[39mid\u001b[39;49m, directory_path)\n",
      "File \u001b[1;32mc:\\Anaconda\\envs\\sent\\lib\\site-packages\\sentinelsat\\download.py:150\u001b[0m, in \u001b[0;36mDownloader.download\u001b[1;34m(self, id, directory, stop_event)\u001b[0m\n\u001b[0;32m    <a href='file:///c%3A/Anaconda/envs/sent/lib/site-packages/sentinelsat/download.py?line=146'>147</a>\u001b[0m     \u001b[39mself\u001b[39m\u001b[39m.\u001b[39mtrigger_offline_retrieval(\u001b[39mid\u001b[39m)\n\u001b[0;32m    <a href='file:///c%3A/Anaconda/envs/sent/lib/site-packages/sentinelsat/download.py?line=147'>148</a>\u001b[0m     \u001b[39mraise\u001b[39;00m LTATriggered(\u001b[39mid\u001b[39m)\n\u001b[1;32m--> <a href='file:///c%3A/Anaconda/envs/sent/lib/site-packages/sentinelsat/download.py?line=149'>150</a>\u001b[0m \u001b[39mself\u001b[39;49m\u001b[39m.\u001b[39;49m_download_common(product_info, path, stop_event)\n\u001b[0;32m    <a href='file:///c%3A/Anaconda/envs/sent/lib/site-packages/sentinelsat/download.py?line=150'>151</a>\u001b[0m \u001b[39mreturn\u001b[39;00m product_info\n",
      "File \u001b[1;32mc:\\Anaconda\\envs\\sent\\lib\\site-packages\\sentinelsat\\download.py:218\u001b[0m, in \u001b[0;36mDownloader._download_common\u001b[1;34m(self, product_info, path, stop_event)\u001b[0m\n\u001b[0;32m    <a href='file:///c%3A/Anaconda/envs/sent/lib/site-packages/sentinelsat/download.py?line=214'>215</a>\u001b[0m \u001b[39mif\u001b[39;00m \u001b[39mnot\u001b[39;00m skip_download:\n\u001b[0;32m    <a href='file:///c%3A/Anaconda/envs/sent/lib/site-packages/sentinelsat/download.py?line=215'>216</a>\u001b[0m     \u001b[39m# Store the number of downloaded bytes for unit tests\u001b[39;00m\n\u001b[0;32m    <a href='file:///c%3A/Anaconda/envs/sent/lib/site-packages/sentinelsat/download.py?line=216'>217</a>\u001b[0m     temp_path\u001b[39m.\u001b[39mparent\u001b[39m.\u001b[39mmkdir(parents\u001b[39m=\u001b[39m\u001b[39mTrue\u001b[39;00m, exist_ok\u001b[39m=\u001b[39m\u001b[39mTrue\u001b[39;00m)\n\u001b[1;32m--> <a href='file:///c%3A/Anaconda/envs/sent/lib/site-packages/sentinelsat/download.py?line=217'>218</a>\u001b[0m     product_info[\u001b[39m\"\u001b[39m\u001b[39mdownloaded_bytes\u001b[39m\u001b[39m\"\u001b[39m] \u001b[39m=\u001b[39m \u001b[39mself\u001b[39;49m\u001b[39m.\u001b[39;49m_download(\n\u001b[0;32m    <a href='file:///c%3A/Anaconda/envs/sent/lib/site-packages/sentinelsat/download.py?line=218'>219</a>\u001b[0m         product_info[\u001b[39m\"\u001b[39;49m\u001b[39murl\u001b[39;49m\u001b[39m\"\u001b[39;49m],\n\u001b[0;32m    <a href='file:///c%3A/Anaconda/envs/sent/lib/site-packages/sentinelsat/download.py?line=219'>220</a>\u001b[0m         temp_path,\n\u001b[0;32m    <a href='file:///c%3A/Anaconda/envs/sent/lib/site-packages/sentinelsat/download.py?line=220'>221</a>\u001b[0m         product_info[\u001b[39m\"\u001b[39;49m\u001b[39msize\u001b[39;49m\u001b[39m\"\u001b[39;49m],\n\u001b[0;32m    <a href='file:///c%3A/Anaconda/envs/sent/lib/site-packages/sentinelsat/download.py?line=221'>222</a>\u001b[0m         path\u001b[39m.\u001b[39;49mname,\n\u001b[0;32m    <a href='file:///c%3A/Anaconda/envs/sent/lib/site-packages/sentinelsat/download.py?line=222'>223</a>\u001b[0m         stop_event,\n\u001b[0;32m    <a href='file:///c%3A/Anaconda/envs/sent/lib/site-packages/sentinelsat/download.py?line=223'>224</a>\u001b[0m     )\n\u001b[0;32m    <a href='file:///c%3A/Anaconda/envs/sent/lib/site-packages/sentinelsat/download.py?line=224'>225</a>\u001b[0m \u001b[39m# Check integrity with MD5 checksum\u001b[39;00m\n\u001b[0;32m    <a href='file:///c%3A/Anaconda/envs/sent/lib/site-packages/sentinelsat/download.py?line=225'>226</a>\u001b[0m \u001b[39mif\u001b[39;00m \u001b[39mself\u001b[39m\u001b[39m.\u001b[39mverify_checksum \u001b[39mis\u001b[39;00m \u001b[39mTrue\u001b[39;00m:\n",
      "File \u001b[1;32mc:\\Anaconda\\envs\\sent\\lib\\site-packages\\sentinelsat\\download.py:750\u001b[0m, in \u001b[0;36mDownloader._download\u001b[1;34m(self, url, path, file_size, title, stop_event)\u001b[0m\n\u001b[0;32m    <a href='file:///c%3A/Anaconda/envs/sent/lib/site-packages/sentinelsat/download.py?line=747'>748</a>\u001b[0m \u001b[39mtry\u001b[39;00m:\n\u001b[0;32m    <a href='file:///c%3A/Anaconda/envs/sent/lib/site-packages/sentinelsat/download.py?line=748'>749</a>\u001b[0m     \u001b[39mwith\u001b[39;00m \u001b[39mself\u001b[39m\u001b[39m.\u001b[39mapi\u001b[39m.\u001b[39mdl_limit_semaphore:\n\u001b[1;32m--> <a href='file:///c%3A/Anaconda/envs/sent/lib/site-packages/sentinelsat/download.py?line=749'>750</a>\u001b[0m         chunk \u001b[39m=\u001b[39m \u001b[39mnext\u001b[39;49m(iterator)\n\u001b[0;32m    <a href='file:///c%3A/Anaconda/envs/sent/lib/site-packages/sentinelsat/download.py?line=750'>751</a>\u001b[0m \u001b[39mexcept\u001b[39;00m \u001b[39mStopIteration\u001b[39;00m:\n\u001b[0;32m    <a href='file:///c%3A/Anaconda/envs/sent/lib/site-packages/sentinelsat/download.py?line=751'>752</a>\u001b[0m     \u001b[39mbreak\u001b[39;00m\n",
      "File \u001b[1;32mc:\\Anaconda\\envs\\sent\\lib\\site-packages\\requests\\models.py:760\u001b[0m, in \u001b[0;36mResponse.iter_content.<locals>.generate\u001b[1;34m()\u001b[0m\n\u001b[0;32m    <a href='file:///c%3A/Anaconda/envs/sent/lib/site-packages/requests/models.py?line=757'>758</a>\u001b[0m \u001b[39mif\u001b[39;00m \u001b[39mhasattr\u001b[39m(\u001b[39mself\u001b[39m\u001b[39m.\u001b[39mraw, \u001b[39m'\u001b[39m\u001b[39mstream\u001b[39m\u001b[39m'\u001b[39m):\n\u001b[0;32m    <a href='file:///c%3A/Anaconda/envs/sent/lib/site-packages/requests/models.py?line=758'>759</a>\u001b[0m     \u001b[39mtry\u001b[39;00m:\n\u001b[1;32m--> <a href='file:///c%3A/Anaconda/envs/sent/lib/site-packages/requests/models.py?line=759'>760</a>\u001b[0m         \u001b[39mfor\u001b[39;00m chunk \u001b[39min\u001b[39;00m \u001b[39mself\u001b[39m\u001b[39m.\u001b[39mraw\u001b[39m.\u001b[39mstream(chunk_size, decode_content\u001b[39m=\u001b[39m\u001b[39mTrue\u001b[39;00m):\n\u001b[0;32m    <a href='file:///c%3A/Anaconda/envs/sent/lib/site-packages/requests/models.py?line=760'>761</a>\u001b[0m             \u001b[39myield\u001b[39;00m chunk\n\u001b[0;32m    <a href='file:///c%3A/Anaconda/envs/sent/lib/site-packages/requests/models.py?line=761'>762</a>\u001b[0m     \u001b[39mexcept\u001b[39;00m ProtocolError \u001b[39mas\u001b[39;00m e:\n",
      "File \u001b[1;32mc:\\Anaconda\\envs\\sent\\lib\\site-packages\\urllib3\\response.py:579\u001b[0m, in \u001b[0;36mHTTPResponse.stream\u001b[1;34m(self, amt, decode_content)\u001b[0m\n\u001b[0;32m    <a href='file:///c%3A/Anaconda/envs/sent/lib/site-packages/urllib3/response.py?line=576'>577</a>\u001b[0m \u001b[39melse\u001b[39;00m:\n\u001b[0;32m    <a href='file:///c%3A/Anaconda/envs/sent/lib/site-packages/urllib3/response.py?line=577'>578</a>\u001b[0m     \u001b[39mwhile\u001b[39;00m \u001b[39mnot\u001b[39;00m is_fp_closed(\u001b[39mself\u001b[39m\u001b[39m.\u001b[39m_fp):\n\u001b[1;32m--> <a href='file:///c%3A/Anaconda/envs/sent/lib/site-packages/urllib3/response.py?line=578'>579</a>\u001b[0m         data \u001b[39m=\u001b[39m \u001b[39mself\u001b[39;49m\u001b[39m.\u001b[39;49mread(amt\u001b[39m=\u001b[39;49mamt, decode_content\u001b[39m=\u001b[39;49mdecode_content)\n\u001b[0;32m    <a href='file:///c%3A/Anaconda/envs/sent/lib/site-packages/urllib3/response.py?line=580'>581</a>\u001b[0m         \u001b[39mif\u001b[39;00m data:\n\u001b[0;32m    <a href='file:///c%3A/Anaconda/envs/sent/lib/site-packages/urllib3/response.py?line=581'>582</a>\u001b[0m             \u001b[39myield\u001b[39;00m data\n",
      "File \u001b[1;32mc:\\Anaconda\\envs\\sent\\lib\\site-packages\\urllib3\\response.py:522\u001b[0m, in \u001b[0;36mHTTPResponse.read\u001b[1;34m(self, amt, decode_content, cache_content)\u001b[0m\n\u001b[0;32m    <a href='file:///c%3A/Anaconda/envs/sent/lib/site-packages/urllib3/response.py?line=519'>520</a>\u001b[0m \u001b[39melse\u001b[39;00m:\n\u001b[0;32m    <a href='file:///c%3A/Anaconda/envs/sent/lib/site-packages/urllib3/response.py?line=520'>521</a>\u001b[0m     cache_content \u001b[39m=\u001b[39m \u001b[39mFalse\u001b[39;00m\n\u001b[1;32m--> <a href='file:///c%3A/Anaconda/envs/sent/lib/site-packages/urllib3/response.py?line=521'>522</a>\u001b[0m     data \u001b[39m=\u001b[39m \u001b[39mself\u001b[39;49m\u001b[39m.\u001b[39;49m_fp\u001b[39m.\u001b[39;49mread(amt) \u001b[39mif\u001b[39;00m \u001b[39mnot\u001b[39;00m fp_closed \u001b[39melse\u001b[39;00m \u001b[39mb\u001b[39m\u001b[39m\"\u001b[39m\u001b[39m\"\u001b[39m\n\u001b[0;32m    <a href='file:///c%3A/Anaconda/envs/sent/lib/site-packages/urllib3/response.py?line=522'>523</a>\u001b[0m     \u001b[39mif\u001b[39;00m (\n\u001b[0;32m    <a href='file:///c%3A/Anaconda/envs/sent/lib/site-packages/urllib3/response.py?line=523'>524</a>\u001b[0m         amt \u001b[39m!=\u001b[39m \u001b[39m0\u001b[39m \u001b[39mand\u001b[39;00m \u001b[39mnot\u001b[39;00m data\n\u001b[0;32m    <a href='file:///c%3A/Anaconda/envs/sent/lib/site-packages/urllib3/response.py?line=524'>525</a>\u001b[0m     ):  \u001b[39m# Platform-specific: Buggy versions of Python.\u001b[39;00m\n\u001b[1;32m   (...)\u001b[0m\n\u001b[0;32m    <a href='file:///c%3A/Anaconda/envs/sent/lib/site-packages/urllib3/response.py?line=530'>531</a>\u001b[0m         \u001b[39m# not properly close the connection in all cases. There is\u001b[39;00m\n\u001b[0;32m    <a href='file:///c%3A/Anaconda/envs/sent/lib/site-packages/urllib3/response.py?line=531'>532</a>\u001b[0m         \u001b[39m# no harm in redundantly calling close.\u001b[39;00m\n\u001b[0;32m    <a href='file:///c%3A/Anaconda/envs/sent/lib/site-packages/urllib3/response.py?line=532'>533</a>\u001b[0m         \u001b[39mself\u001b[39m\u001b[39m.\u001b[39m_fp\u001b[39m.\u001b[39mclose()\n",
      "File \u001b[1;32mc:\\Anaconda\\envs\\sent\\lib\\http\\client.py:465\u001b[0m, in \u001b[0;36mHTTPResponse.read\u001b[1;34m(self, amt)\u001b[0m\n\u001b[0;32m    <a href='file:///c%3A/Anaconda/envs/sent/lib/http/client.py?line=461'>462</a>\u001b[0m \u001b[39mif\u001b[39;00m \u001b[39mself\u001b[39m\u001b[39m.\u001b[39mlength \u001b[39mis\u001b[39;00m \u001b[39mnot\u001b[39;00m \u001b[39mNone\u001b[39;00m \u001b[39mand\u001b[39;00m amt \u001b[39m>\u001b[39m \u001b[39mself\u001b[39m\u001b[39m.\u001b[39mlength:\n\u001b[0;32m    <a href='file:///c%3A/Anaconda/envs/sent/lib/http/client.py?line=462'>463</a>\u001b[0m     \u001b[39m# clip the read to the \"end of response\"\u001b[39;00m\n\u001b[0;32m    <a href='file:///c%3A/Anaconda/envs/sent/lib/http/client.py?line=463'>464</a>\u001b[0m     amt \u001b[39m=\u001b[39m \u001b[39mself\u001b[39m\u001b[39m.\u001b[39mlength\n\u001b[1;32m--> <a href='file:///c%3A/Anaconda/envs/sent/lib/http/client.py?line=464'>465</a>\u001b[0m s \u001b[39m=\u001b[39m \u001b[39mself\u001b[39;49m\u001b[39m.\u001b[39;49mfp\u001b[39m.\u001b[39;49mread(amt)\n\u001b[0;32m    <a href='file:///c%3A/Anaconda/envs/sent/lib/http/client.py?line=465'>466</a>\u001b[0m \u001b[39mif\u001b[39;00m \u001b[39mnot\u001b[39;00m s \u001b[39mand\u001b[39;00m amt:\n\u001b[0;32m    <a href='file:///c%3A/Anaconda/envs/sent/lib/http/client.py?line=466'>467</a>\u001b[0m     \u001b[39m# Ideally, we would raise IncompleteRead if the content-length\u001b[39;00m\n\u001b[0;32m    <a href='file:///c%3A/Anaconda/envs/sent/lib/http/client.py?line=467'>468</a>\u001b[0m     \u001b[39m# wasn't satisfied, but it might break compatibility.\u001b[39;00m\n\u001b[0;32m    <a href='file:///c%3A/Anaconda/envs/sent/lib/http/client.py?line=468'>469</a>\u001b[0m     \u001b[39mself\u001b[39m\u001b[39m.\u001b[39m_close_conn()\n",
      "File \u001b[1;32mc:\\Anaconda\\envs\\sent\\lib\\socket.py:705\u001b[0m, in \u001b[0;36mSocketIO.readinto\u001b[1;34m(self, b)\u001b[0m\n\u001b[0;32m    <a href='file:///c%3A/Anaconda/envs/sent/lib/socket.py?line=702'>703</a>\u001b[0m \u001b[39mwhile\u001b[39;00m \u001b[39mTrue\u001b[39;00m:\n\u001b[0;32m    <a href='file:///c%3A/Anaconda/envs/sent/lib/socket.py?line=703'>704</a>\u001b[0m     \u001b[39mtry\u001b[39;00m:\n\u001b[1;32m--> <a href='file:///c%3A/Anaconda/envs/sent/lib/socket.py?line=704'>705</a>\u001b[0m         \u001b[39mreturn\u001b[39;00m \u001b[39mself\u001b[39;49m\u001b[39m.\u001b[39;49m_sock\u001b[39m.\u001b[39;49mrecv_into(b)\n\u001b[0;32m    <a href='file:///c%3A/Anaconda/envs/sent/lib/socket.py?line=705'>706</a>\u001b[0m     \u001b[39mexcept\u001b[39;00m timeout:\n\u001b[0;32m    <a href='file:///c%3A/Anaconda/envs/sent/lib/socket.py?line=706'>707</a>\u001b[0m         \u001b[39mself\u001b[39m\u001b[39m.\u001b[39m_timeout_occurred \u001b[39m=\u001b[39m \u001b[39mTrue\u001b[39;00m\n",
      "File \u001b[1;32mc:\\Anaconda\\envs\\sent\\lib\\ssl.py:1273\u001b[0m, in \u001b[0;36mSSLSocket.recv_into\u001b[1;34m(self, buffer, nbytes, flags)\u001b[0m\n\u001b[0;32m   <a href='file:///c%3A/Anaconda/envs/sent/lib/ssl.py?line=1268'>1269</a>\u001b[0m     \u001b[39mif\u001b[39;00m flags \u001b[39m!=\u001b[39m \u001b[39m0\u001b[39m:\n\u001b[0;32m   <a href='file:///c%3A/Anaconda/envs/sent/lib/ssl.py?line=1269'>1270</a>\u001b[0m         \u001b[39mraise\u001b[39;00m \u001b[39mValueError\u001b[39;00m(\n\u001b[0;32m   <a href='file:///c%3A/Anaconda/envs/sent/lib/ssl.py?line=1270'>1271</a>\u001b[0m           \u001b[39m\"\u001b[39m\u001b[39mnon-zero flags not allowed in calls to recv_into() on \u001b[39m\u001b[39m%s\u001b[39;00m\u001b[39m\"\u001b[39m \u001b[39m%\u001b[39m\n\u001b[0;32m   <a href='file:///c%3A/Anaconda/envs/sent/lib/ssl.py?line=1271'>1272</a>\u001b[0m           \u001b[39mself\u001b[39m\u001b[39m.\u001b[39m\u001b[39m__class__\u001b[39m)\n\u001b[1;32m-> <a href='file:///c%3A/Anaconda/envs/sent/lib/ssl.py?line=1272'>1273</a>\u001b[0m     \u001b[39mreturn\u001b[39;00m \u001b[39mself\u001b[39;49m\u001b[39m.\u001b[39;49mread(nbytes, buffer)\n\u001b[0;32m   <a href='file:///c%3A/Anaconda/envs/sent/lib/ssl.py?line=1273'>1274</a>\u001b[0m \u001b[39melse\u001b[39;00m:\n\u001b[0;32m   <a href='file:///c%3A/Anaconda/envs/sent/lib/ssl.py?line=1274'>1275</a>\u001b[0m     \u001b[39mreturn\u001b[39;00m \u001b[39msuper\u001b[39m()\u001b[39m.\u001b[39mrecv_into(buffer, nbytes, flags)\n",
      "File \u001b[1;32mc:\\Anaconda\\envs\\sent\\lib\\ssl.py:1129\u001b[0m, in \u001b[0;36mSSLSocket.read\u001b[1;34m(self, len, buffer)\u001b[0m\n\u001b[0;32m   <a href='file:///c%3A/Anaconda/envs/sent/lib/ssl.py?line=1126'>1127</a>\u001b[0m \u001b[39mtry\u001b[39;00m:\n\u001b[0;32m   <a href='file:///c%3A/Anaconda/envs/sent/lib/ssl.py?line=1127'>1128</a>\u001b[0m     \u001b[39mif\u001b[39;00m buffer \u001b[39mis\u001b[39;00m \u001b[39mnot\u001b[39;00m \u001b[39mNone\u001b[39;00m:\n\u001b[1;32m-> <a href='file:///c%3A/Anaconda/envs/sent/lib/ssl.py?line=1128'>1129</a>\u001b[0m         \u001b[39mreturn\u001b[39;00m \u001b[39mself\u001b[39;49m\u001b[39m.\u001b[39;49m_sslobj\u001b[39m.\u001b[39;49mread(\u001b[39mlen\u001b[39;49m, buffer)\n\u001b[0;32m   <a href='file:///c%3A/Anaconda/envs/sent/lib/ssl.py?line=1129'>1130</a>\u001b[0m     \u001b[39melse\u001b[39;00m:\n\u001b[0;32m   <a href='file:///c%3A/Anaconda/envs/sent/lib/ssl.py?line=1130'>1131</a>\u001b[0m         \u001b[39mreturn\u001b[39;00m \u001b[39mself\u001b[39m\u001b[39m.\u001b[39m_sslobj\u001b[39m.\u001b[39mread(\u001b[39mlen\u001b[39m)\n",
      "\u001b[1;31mKeyboardInterrupt\u001b[0m: "
     ]
    }
   ],
   "source": [
    "api.download(uuid, 'imgs/sentinel/')"
   ]
  },
  {
   "cell_type": "code",
   "execution_count": null,
   "metadata": {},
   "outputs": [],
   "source": []
  }
 ],
 "metadata": {
  "interpreter": {
   "hash": "16c62da36ff12211fb11e62dc329dd6d64ec88e69083c75fd776388e3525f0d6"
  },
  "kernelspec": {
   "display_name": "Python 3.10.4 ('sent')",
   "language": "python",
   "name": "python3"
  },
  "language_info": {
   "codemirror_mode": {
    "name": "ipython",
    "version": 3
   },
   "file_extension": ".py",
   "mimetype": "text/x-python",
   "name": "python",
   "nbconvert_exporter": "python",
   "pygments_lexer": "ipython3",
   "version": "3.10.4"
  },
  "orig_nbformat": 4
 },
 "nbformat": 4,
 "nbformat_minor": 2
}
