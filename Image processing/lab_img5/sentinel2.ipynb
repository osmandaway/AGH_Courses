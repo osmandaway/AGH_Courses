{
 "cells": [
  {
   "cell_type": "code",
   "execution_count": 1,
   "metadata": {},
   "outputs": [],
   "source": [
    "import numpy as np\n",
    "import pandas as pd\n",
    "import rasterio\n",
    "from matplotlib import pyplot as plt\n",
    "\n",
    "import geojson\n",
    "from shapely import geometry\n",
    "from ipyleaflet import Map, Marker, basemaps, basemap_to_tiles\n",
    "from ipyleaflet import Polygon as ipylPolygon\n",
    "from dotenv import dotenv_values\n",
    "from pathlib import Path\n",
    "import zipfile\n",
    "import os,sys,re"
   ]
  },
  {
   "cell_type": "code",
   "execution_count": 2,
   "metadata": {},
   "outputs": [],
   "source": [
    "from rasterio.enums import Resampling\n",
    "from rasterio import mask\n",
    "from rasterio.io import MemoryFile"
   ]
  },
  {
   "cell_type": "code",
   "execution_count": 3,
   "metadata": {},
   "outputs": [
    {
     "name": "stdout",
     "output_type": "stream",
     "text": [
      " Le volume dans le lecteur C s'appelle Windows\n",
      " Le num�ro de s�rie du volume est FC72-9952\n",
      "\n",
      " R�pertoire de c:\\img_proc\\lab_img5\n",
      "\n",
      "22/06/2022  17:56    <DIR>          .\n",
      "22/06/2022  17:56    <DIR>          ..\n",
      "11/05/2022  17:24    <DIR>          __pycache__\n",
      "08/06/2022  16:57    <DIR>          01\n",
      "08/06/2022  18:50            85�297 01_06_22.ipynb\n",
      "22/06/2022  17:33            33�931 08_06_22.ipynb\n",
      "10/05/2022  10:04            90�065 april_06.ipynb\n",
      "10/05/2022  10:04           843�898 april_13.ipynb\n",
      "10/05/2022  20:13         1�642�009 april_20.ipynb\n",
      "12/05/2022  10:35           607�816 april_27.ipynb\n",
      "08/06/2022  18:11                34 copernicus.env\n",
      "08/06/2022  18:40    <DIR>          data\n",
      "06/04/2022  17:57               137 img5.yml\n",
      "08/06/2022  17:12    <DIR>          imgs\n",
      "25/05/2022  17:20    <DIR>          kernels\n",
      "12/05/2022  10:35            96�460 may_04.ipynb\n",
      "26/05/2022  10:43         5�003�471 may_11 (2).ipynb\n",
      "25/05/2022  19:32         1�701�677 may_25.ipynb\n",
      "22/06/2022  17:56                 0 sentinel2.ipynb\n",
      "11/05/2022  17:28    <DIR>          src\n",
      "              12 fichier(s)       10�104�795 octets\n",
      "               8 R�p(s)  28�728�786�944 octets libres\n"
     ]
    }
   ],
   "source": [
    "%ls"
   ]
  },
  {
   "cell_type": "markdown",
   "metadata": {},
   "source": [
    "## Unzip"
   ]
  },
  {
   "cell_type": "code",
   "execution_count": 4,
   "metadata": {},
   "outputs": [],
   "source": [
    "img_path = Path('imgs/sentinel').resolve()"
   ]
  },
  {
   "cell_type": "code",
   "execution_count": 5,
   "metadata": {},
   "outputs": [
    {
     "data": {
      "text/plain": [
       "['C:\\\\img_proc\\\\lab_img5\\\\imgs\\\\sentinel\\\\S2B_MSIL2A_20220516T065619_N0400_R063_T38NRP_20220516T100937.zip']"
      ]
     },
     "execution_count": 5,
     "metadata": {},
     "output_type": "execute_result"
    }
   ],
   "source": [
    "folder=Path('imgs/sentinel/').resolve()\n",
    "zips=[]\n",
    "for file in folder.glob('*.zip'):\n",
    "    zips.append(str(file))\n",
    "zips\n"
   ]
  },
  {
   "cell_type": "code",
   "execution_count": null,
   "metadata": {},
   "outputs": [],
   "source": []
  }
 ],
 "metadata": {
  "interpreter": {
   "hash": "16c62da36ff12211fb11e62dc329dd6d64ec88e69083c75fd776388e3525f0d6"
  },
  "kernelspec": {
   "display_name": "Python 3.10.4 ('sent')",
   "language": "python",
   "name": "python3"
  },
  "language_info": {
   "codemirror_mode": {
    "name": "ipython",
    "version": 3
   },
   "file_extension": ".py",
   "mimetype": "text/x-python",
   "name": "python",
   "nbconvert_exporter": "python",
   "pygments_lexer": "ipython3",
   "version": "3.10.4"
  },
  "orig_nbformat": 4
 },
 "nbformat": 4,
 "nbformat_minor": 2
}
