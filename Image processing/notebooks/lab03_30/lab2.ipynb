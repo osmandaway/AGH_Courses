{
 "cells": [
  {
   "cell_type": "code",
   "execution_count": 1,
   "id": "45ede463",
   "metadata": {},
   "outputs": [],
   "source": [
    "from matplotlib import pyplot as plt\n",
    "import numpy as np\n",
    "from PIL import Image"
   ]
  },
  {
   "cell_type": "code",
   "execution_count": 2,
   "id": "4f42b386",
   "metadata": {},
   "outputs": [
    {
     "data": {
      "text/plain": [
       "array([0, 1, 2, 3, 4, 5, 6, 7, 8, 9])"
      ]
     },
     "execution_count": 2,
     "metadata": {},
     "output_type": "execute_result"
    }
   ],
   "source": [
    "# start, stop, step\n",
    "#stop --> from 0 to stop, step=1\n",
    "ar= np.arange(10)\n",
    "ar"
   ]
  },
  {
   "cell_type": "code",
   "execution_count": 3,
   "id": "d56a0364",
   "metadata": {},
   "outputs": [
    {
     "data": {
      "text/plain": [
       "array([[ 0,  1,  2,  3,  4],\n",
       "       [ 5,  6,  7,  8,  9],\n",
       "       [10, 11, 12, 13, 14],\n",
       "       [15, 16, 17, 18, 19],\n",
       "       [20, 21, 22, 23, 24]])"
      ]
     },
     "execution_count": 3,
     "metadata": {},
     "output_type": "execute_result"
    }
   ],
   "source": [
    "ar = np.arange(25).reshape(5,5)\n",
    "ar"
   ]
  },
  {
   "cell_type": "code",
   "execution_count": 4,
   "id": "377317df",
   "metadata": {},
   "outputs": [
    {
     "name": "stdout",
     "output_type": "stream",
     "text": [
      "# packages in environment at C:\\Anaconda\\envs\\img3:\n",
      "#\n",
      "# Name                    Version                   Build  Channel\n",
      "asttokens                 2.0.5              pyhd3eb1b0_0  \n",
      "backcall                  0.2.0              pyhd3eb1b0_0  \n",
      "blas                      1.0                         mkl  \n",
      "brotli                    1.0.9                ha925a31_2  \n",
      "ca-certificates           2022.3.29            haa95532_0  \n",
      "certifi                   2021.10.8        py39haa95532_2  \n",
      "colorama                  0.4.4              pyhd3eb1b0_0  \n",
      "cycler                    0.11.0             pyhd3eb1b0_0  \n",
      "debugpy                   1.5.1            py39hd77b12b_0  \n",
      "decorator                 5.1.1              pyhd3eb1b0_0  \n",
      "entrypoints               0.3              py39haa95532_0  \n",
      "executing                 0.8.3              pyhd3eb1b0_0  \n",
      "fonttools                 4.25.0             pyhd3eb1b0_0  \n",
      "freetype                  2.10.4               hd328e21_0  \n",
      "icu                       58.2                 ha925a31_3  \n",
      "intel-openmp              2021.4.0          haa95532_3556  \n",
      "ipykernel                 6.9.1            py39haa95532_0  \n",
      "ipython                   8.1.1            py39haa95532_0  \n",
      "jedi                      0.18.1           py39haa95532_1  \n",
      "jpeg                      9d                   h2bbff1b_0  \n",
      "jupyter_client            7.1.2              pyhd3eb1b0_0  \n",
      "jupyter_core              4.9.2            py39haa95532_0  \n",
      "kiwisolver                1.3.2            py39hd77b12b_0  \n",
      "libpng                    1.6.37               h2a8f88b_0  \n",
      "libtiff                   4.2.0                hd0e1b90_0  \n",
      "libwebp                   1.2.2                h2bbff1b_0  \n",
      "lz4-c                     1.9.3                h2bbff1b_1  \n",
      "matplotlib                3.5.1            py39haa95532_1  \n",
      "matplotlib-base           3.5.1            py39hd77b12b_1  \n",
      "matplotlib-inline         0.1.2              pyhd3eb1b0_2  \n",
      "mkl                       2021.4.0           haa95532_640  \n",
      "mkl-service               2.4.0            py39h2bbff1b_0  \n",
      "mkl_fft                   1.3.1            py39h277e83a_0  \n",
      "mkl_random                1.2.2            py39hf11a4ad_0  \n",
      "munkres                   1.1.4                      py_0  \n",
      "nest-asyncio              1.5.1              pyhd3eb1b0_0  \n",
      "numpy                     1.21.5           py39ha4e8547_0  \n",
      "numpy-base                1.21.5           py39hc2deb75_0  \n",
      "openssl                   1.1.1n               h2bbff1b_0  \n",
      "packaging                 21.3               pyhd3eb1b0_0  \n",
      "parso                     0.8.3              pyhd3eb1b0_0  \n",
      "pickleshare               0.7.5           pyhd3eb1b0_1003  \n",
      "\n",
      "Note: you may need to restart the kernel to use updated packages.pillow                    9.0.1            py39hdc2b20a_0  \n",
      "pip                       21.2.4           py39haa95532_0  \n",
      "prompt-toolkit            3.0.20             pyhd3eb1b0_0  \n",
      "pure_eval                 0.2.2              pyhd3eb1b0_0  \n",
      "pygments                  2.11.2             pyhd3eb1b0_0  \n",
      "pyparsing                 3.0.4              pyhd3eb1b0_0  \n",
      "pyqt                      5.9.2            py39hd77b12b_6  \n",
      "python                    3.9.11               h6244533_2  \n",
      "python-dateutil           2.8.2              pyhd3eb1b0_0  \n",
      "pywin32                   302              py39h827c3e9_1  \n",
      "pyzmq                     22.3.0           py39hd77b12b_2  \n",
      "qt                        5.9.7            vc14h73c81de_0  \n",
      "setuptools                58.0.4           py39haa95532_0  \n",
      "sip                       4.19.13          py39hd77b12b_0  \n",
      "six                       1.16.0             pyhd3eb1b0_1  \n",
      "sqlite                    3.38.2               h2bbff1b_0  \n",
      "stack_data                0.2.0              pyhd3eb1b0_0  \n",
      "tk                        8.6.11               h2bbff1b_0  \n",
      "tornado                   6.1              py39h2bbff1b_0  \n",
      "traitlets                 5.1.1              pyhd3eb1b0_0  \n",
      "tzdata                    2022a                hda174b7_0  \n",
      "vc                        14.2                 h21ff451_1  \n",
      "vs2015_runtime            14.27.29016          h5e58377_2  \n",
      "wcwidth                   0.2.5              pyhd3eb1b0_0  \n",
      "wheel                     0.37.1             pyhd3eb1b0_0  \n",
      "wincertstore              0.2              py39haa95532_2  \n",
      "xz                        5.2.5                h62dcd97_0  \n",
      "zlib                      1.2.11               hbd8134f_5  \n",
      "zstd                      1.4.9                h19a0ad4_0  \n",
      "\n"
     ]
    }
   ],
   "source": [
    "conda list"
   ]
  },
  {
   "cell_type": "code",
   "execution_count": 5,
   "id": "d449abcd",
   "metadata": {},
   "outputs": [
    {
     "name": "stdout",
     "output_type": "stream",
     "text": [
      "# packages in environment at C:\\Anaconda\\envs\\img3:\n",
      "#\n",
      "# Name                    Version                   Build  Channel\n",
      "asttokens                 2.0.5              pyhd3eb1b0_0  \n",
      "backcall                  0.2.0              pyhd3eb1b0_0  \n",
      "blas                      1.0                         mkl  \n",
      "brotli                    1.0.9                ha925a31_2  \n",
      "ca-certificates           2022.3.29            haa95532_0  \n",
      "certifi                   2021.10.8        py39haa95532_2  \n",
      "colorama                  0.4.4              pyhd3eb1b0_0  \n",
      "cycler                    0.11.0             pyhd3eb1b0_0  \n",
      "debugpy                   1.5.1            py39hd77b12b_0  \n",
      "decorator                 5.1.1              pyhd3eb1b0_0  \n",
      "entrypoints               0.3              py39haa95532_0  \n",
      "executing                 0.8.3              pyhd3eb1b0_0  \n",
      "fonttools                 4.25.0             pyhd3eb1b0_0  \n",
      "freetype                  2.10.4               hd328e21_0  \n",
      "icu                       58.2                 ha925a31_3  \n",
      "intel-openmp              2021.4.0          haa95532_3556  \n",
      "ipykernel                 6.9.1            py39haa95532_0  \n",
      "ipython                   8.1.1            py39haa95532_0  \n",
      "jedi                      0.18.1           py39haa95532_1  \n",
      "jpeg                      9d                   h2bbff1b_0  \n",
      "jupyter_client            7.1.2              pyhd3eb1b0_0  \n",
      "jupyter_core              4.9.2            py39haa95532_0  \n",
      "kiwisolver                1.3.2            py39hd77b12b_0  \n",
      "libpng                    1.6.37               h2a8f88b_0  \n",
      "libtiff                   4.2.0                hd0e1b90_0  \n",
      "libwebp                   1.2.2                h2bbff1b_0  \n",
      "lz4-c                     1.9.3                h2bbff1b_1  \n",
      "matplotlib                3.5.1            py39haa95532_1  \n",
      "matplotlib-base           3.5.1            py39hd77b12b_1  \n",
      "matplotlib-inline         0.1.2              pyhd3eb1b0_2  \n",
      "mkl                       2021.4.0           haa95532_640  \n",
      "mkl-service               2.4.0            py39h2bbff1b_0  \n",
      "mkl_fft                   1.3.1            py39h277e83a_0  \n",
      "mkl_random                1.2.2            py39hf11a4ad_0  \n",
      "munkres                   1.1.4                      py_0  \n",
      "nest-asyncio              1.5.1              pyhd3eb1b0_0  \n",
      "numpy                     1.21.5           py39ha4e8547_0  \n",
      "numpy-base                1.21.5           py39hc2deb75_0  \n",
      "openssl                   1.1.1n               h2bbff1b_0  \n",
      "packaging                 21.3               pyhd3eb1b0_0  \n",
      "parso                     0.8.3              pyhd3eb1b0_0  \n",
      "pickleshare               0.7.5           pyhd3eb1b0_1003  \n",
      "pillow                    9.0.1            py39hdc2b20a_0  \n",
      "pip                       21.2.4           py39haa95532_0  \n",
      "prompt-toolkit            3.0.20             pyhd3eb1b0_0  \n",
      "pure_eval                 0.2.2              pyhd3eb1b0_0  \n",
      "pygments                  2.11.2             pyhd3eb1b0_0  \n",
      "pyparsing                 3.0.4              pyhd3eb1b0_0  \n",
      "pyqt                      5.9.2            py39hd77b12b_6  \n",
      "python                    3.9.11               h6244533_2  \n",
      "python-dateutil           2.8.2              pyhd3eb1b0_0  \n",
      "pywin32                   302              py39h827c3e9_1  \n",
      "pyzmq                     22.3.0           py39hd77b12b_2  \n",
      "qt                        5.9.7            vc14h73c81de_0  \n",
      "setuptools                58.0.4           py39haa95532_0  \n",
      "sip                       4.19.13          py39hd77b12b_0  \n",
      "six                       1.16.0             pyhd3eb1b0_1  \n",
      "sqlite                    3.38.2               h2bbff1b_0  \n",
      "stack_data                0.2.0              pyhd3eb1b0_0  \n",
      "tk                        8.6.11               h2bbff1b_0  \n",
      "tornado                   6.1              py39h2bbff1b_0  \n",
      "traitlets                 5.1.1              pyhd3eb1b0_0  \n",
      "tzdata                    2022a                hda174b7_0  \n",
      "vc                        14.2                 h21ff451_1  \n",
      "vs2015_runtime            14.27.29016          h5e58377_2  \n",
      "wcwidth                   0.2.5              pyhd3eb1b0_0  \n",
      "wheel                     0.37.1             pyhd3eb1b0_0  \n",
      "wincertstore              0.2              py39haa95532_2  \n",
      "xz                        5.2.5                h62dcd97_0  \n",
      "zlib                      1.2.11               hbd8134f_5  \n",
      "zstd                      1.4.9                h19a0ad4_0  \n"
     ]
    }
   ],
   "source": [
    "!conda list"
   ]
  },
  {
   "cell_type": "code",
   "execution_count": 6,
   "id": "73eddd74",
   "metadata": {},
   "outputs": [
    {
     "name": "stdout",
     "output_type": "stream",
     "text": [
      "\u001b[1;31mSignature:\u001b[0m \u001b[0mplt\u001b[0m\u001b[1;33m.\u001b[0m\u001b[0msubplot\u001b[0m\u001b[1;33m(\u001b[0m\u001b[1;33m*\u001b[0m\u001b[0margs\u001b[0m\u001b[1;33m,\u001b[0m \u001b[1;33m**\u001b[0m\u001b[0mkwargs\u001b[0m\u001b[1;33m)\u001b[0m\u001b[1;33m\u001b[0m\u001b[1;33m\u001b[0m\u001b[0m\n",
      "\u001b[1;31mDocstring:\u001b[0m\n",
      "Add an Axes to the current figure or retrieve an existing Axes.\n",
      "\n",
      "This is a wrapper of `.Figure.add_subplot` which provides additional\n",
      "behavior when working with the implicit API (see the notes section).\n",
      "\n",
      "Call signatures::\n",
      "\n",
      "   subplot(nrows, ncols, index, **kwargs)\n",
      "   subplot(pos, **kwargs)\n",
      "   subplot(**kwargs)\n",
      "   subplot(ax)\n",
      "\n",
      "Parameters\n",
      "----------\n",
      "*args : int, (int, int, *index*), or `.SubplotSpec`, default: (1, 1, 1)\n",
      "    The position of the subplot described by one of\n",
      "\n",
      "    - Three integers (*nrows*, *ncols*, *index*). The subplot will take the\n",
      "      *index* position on a grid with *nrows* rows and *ncols* columns.\n",
      "      *index* starts at 1 in the upper left corner and increases to the\n",
      "      right. *index* can also be a two-tuple specifying the (*first*,\n",
      "      *last*) indices (1-based, and including *last*) of the subplot, e.g.,\n",
      "      ``fig.add_subplot(3, 1, (1, 2))`` makes a subplot that spans the\n",
      "      upper 2/3 of the figure.\n",
      "    - A 3-digit integer. The digits are interpreted as if given separately\n",
      "      as three single-digit integers, i.e. ``fig.add_subplot(235)`` is the\n",
      "      same as ``fig.add_subplot(2, 3, 5)``. Note that this can only be used\n",
      "      if there are no more than 9 subplots.\n",
      "    - A `.SubplotSpec`.\n",
      "\n",
      "projection : {None, 'aitoff', 'hammer', 'lambert', 'mollweide', 'polar', 'rectilinear', str}, optional\n",
      "    The projection type of the subplot (`~.axes.Axes`). *str* is the name\n",
      "    of a custom projection, see `~matplotlib.projections`. The default\n",
      "    None results in a 'rectilinear' projection.\n",
      "\n",
      "polar : bool, default: False\n",
      "    If True, equivalent to projection='polar'.\n",
      "\n",
      "sharex, sharey : `~.axes.Axes`, optional\n",
      "    Share the x or y `~matplotlib.axis` with sharex and/or sharey. The\n",
      "    axis will have the same limits, ticks, and scale as the axis of the\n",
      "    shared axes.\n",
      "\n",
      "label : str\n",
      "    A label for the returned axes.\n",
      "\n",
      "Returns\n",
      "-------\n",
      "`.axes.SubplotBase`, or another subclass of `~.axes.Axes`\n",
      "\n",
      "    The axes of the subplot. The returned axes base class depends on\n",
      "    the projection used. It is `~.axes.Axes` if rectilinear projection\n",
      "    is used and `.projections.polar.PolarAxes` if polar projection\n",
      "    is used. The returned axes is then a subplot subclass of the\n",
      "    base class.\n",
      "\n",
      "Other Parameters\n",
      "----------------\n",
      "**kwargs\n",
      "    This method also takes the keyword arguments for the returned axes\n",
      "    base class; except for the *figure* argument. The keyword arguments\n",
      "    for the rectilinear base class `~.axes.Axes` can be found in\n",
      "    the following table but there might also be other keyword\n",
      "    arguments if another projection is used.\n",
      "\n",
      "    Properties:\n",
      "    adjustable: {'box', 'datalim'}\n",
      "    agg_filter: a filter function, which takes a (m, n, 3) float array and a dpi value, and returns a (m, n, 3) array\n",
      "    alpha: scalar or None\n",
      "    anchor: (float, float) or {'C', 'SW', 'S', 'SE', 'E', 'NE', ...}\n",
      "    animated: bool\n",
      "    aspect: {'auto', 'equal'} or float\n",
      "    autoscale_on: bool\n",
      "    autoscalex_on: bool\n",
      "    autoscaley_on: bool\n",
      "    axes_locator: Callable[[Axes, Renderer], Bbox]\n",
      "    axisbelow: bool or 'line'\n",
      "    box_aspect: float or None\n",
      "    clip_box: `.Bbox`\n",
      "    clip_on: bool\n",
      "    clip_path: Patch or (Path, Transform) or None\n",
      "    facecolor or fc: color\n",
      "    figure: `.Figure`\n",
      "    frame_on: bool\n",
      "    gid: str\n",
      "    in_layout: bool\n",
      "    label: object\n",
      "    navigate: bool\n",
      "    navigate_mode: unknown\n",
      "    path_effects: `.AbstractPathEffect`\n",
      "    picker: None or bool or float or callable\n",
      "    position: [left, bottom, width, height] or `~matplotlib.transforms.Bbox`\n",
      "    prop_cycle: unknown\n",
      "    rasterization_zorder: float or None\n",
      "    rasterized: bool\n",
      "    sketch_params: (scale: float, length: float, randomness: float)\n",
      "    snap: bool or None\n",
      "    title: str\n",
      "    transform: `.Transform`\n",
      "    url: str\n",
      "    visible: bool\n",
      "    xbound: unknown\n",
      "    xlabel: str\n",
      "    xlim: (bottom: float, top: float)\n",
      "    xmargin: float greater than -0.5\n",
      "    xscale: {\"linear\", \"log\", \"symlog\", \"logit\", ...} or `.ScaleBase`\n",
      "    xticklabels: unknown\n",
      "    xticks: unknown\n",
      "    ybound: unknown\n",
      "    ylabel: str\n",
      "    ylim: (bottom: float, top: float)\n",
      "    ymargin: float greater than -0.5\n",
      "    yscale: {\"linear\", \"log\", \"symlog\", \"logit\", ...} or `.ScaleBase`\n",
      "    yticklabels: unknown\n",
      "    yticks: unknown\n",
      "    zorder: float\n",
      "\n",
      "Notes\n",
      "-----\n",
      "Creating a new Axes will delete any pre-existing Axes that\n",
      "overlaps with it beyond sharing a boundary::\n",
      "\n",
      "    import matplotlib.pyplot as plt\n",
      "    # plot a line, implicitly creating a subplot(111)\n",
      "    plt.plot([1, 2, 3])\n",
      "    # now create a subplot which represents the top plot of a grid\n",
      "    # with 2 rows and 1 column. Since this subplot will overlap the\n",
      "    # first, the plot (and its axes) previously created, will be removed\n",
      "    plt.subplot(211)\n",
      "\n",
      "If you do not want this behavior, use the `.Figure.add_subplot` method\n",
      "or the `.pyplot.axes` function instead.\n",
      "\n",
      "If no *kwargs* are passed and there exists an Axes in the location\n",
      "specified by *args* then that Axes will be returned rather than a new\n",
      "Axes being created.\n",
      "\n",
      "If *kwargs* are passed and there exists an Axes in the location\n",
      "specified by *args*, the projection type is the same, and the\n",
      "*kwargs* match with the existing Axes, then the existing Axes is\n",
      "returned.  Otherwise a new Axes is created with the specified\n",
      "parameters.  We save a reference to the *kwargs* which we use\n",
      "for this comparison.  If any of the values in *kwargs* are\n",
      "mutable we will not detect the case where they are mutated.\n",
      "In these cases we suggest using `.Figure.add_subplot` and the\n",
      "explicit Axes API rather than the implicit pyplot API.\n",
      "\n",
      "See Also\n",
      "--------\n",
      ".Figure.add_subplot\n",
      ".pyplot.subplots\n",
      ".pyplot.axes\n",
      ".Figure.subplots\n",
      "\n",
      "Examples\n",
      "--------\n",
      "::\n",
      "\n",
      "    plt.subplot(221)\n",
      "\n",
      "    # equivalent but more general\n",
      "    ax1 = plt.subplot(2, 2, 1)\n",
      "\n",
      "    # add a subplot with no frame\n",
      "    ax2 = plt.subplot(222, frameon=False)\n",
      "\n",
      "    # add a polar subplot\n",
      "    plt.subplot(223, projection='polar')\n",
      "\n",
      "    # add a red subplot that shares the x-axis with ax1\n",
      "    plt.subplot(224, sharex=ax1, facecolor='red')\n",
      "\n",
      "    # delete ax2 from the figure\n",
      "    plt.delaxes(ax2)\n",
      "\n",
      "    # add ax2 to the figure again\n",
      "    plt.subplot(ax2)\n",
      "\n",
      "    # make the first axes \"current\" again\n",
      "    plt.subplot(221)\n",
      "\u001b[1;31mFile:\u001b[0m      c:\\anaconda\\envs\\img3\\lib\\site-packages\\matplotlib\\pyplot.py\n",
      "\u001b[1;31mType:\u001b[0m      function\n"
     ]
    }
   ],
   "source": [
    "plt.subplot?"
   ]
  },
  {
   "cell_type": "code",
   "execution_count": 7,
   "id": "c27c63fb",
   "metadata": {},
   "outputs": [
    {
     "data": {
      "text/plain": [
       "<matplotlib.image.AxesImage at 0x181858ddf10>"
      ]
     },
     "execution_count": 7,
     "metadata": {},
     "output_type": "execute_result"
    },
    {
     "data": {
      "image/png": "[encoded data removed]",
      "text/plain": [
       "<Figure size 432x288 with 2 Axes>"
      ]
     },
     "metadata": {
      "needs_background": "light"
     },
     "output_type": "display_data"
    }
   ],
   "source": [
    "plt.subplot(1,2,1)\n",
    "plt.imshow(ar)\n",
    "plt.subplot(1,2,2)    \n",
    "plt.imshow(ar, cmap=plt.cm.Greys_r)"
   ]
  },
  {
   "cell_type": "code",
   "execution_count": 8,
   "id": "c30be0a9",
   "metadata": {},
   "outputs": [
    {
     "data": {
      "text/plain": [
       "<matplotlib.image.AxesImage at 0x181860ab9d0>"
      ]
     },
     "execution_count": 8,
     "metadata": {},
     "output_type": "execute_result"
    },
    {
     "data": {
      "image/png": "[encoded data removed]",
      "text/plain": [
       "<Figure size 432x288 with 2 Axes>"
      ]
     },
     "metadata": {
      "needs_background": "light"
     },
     "output_type": "display_data"
    }
   ],
   "source": [
    "plt.subplot(1,2,1)\n",
    "plt.imshow(ar,interpolation='bilinear')\n",
    "plt.subplot(1,2,2)    \n",
    "plt.imshow(ar, cmap=plt.cm.Greys,interpolation='bicubic')"
   ]
  },
  {
   "cell_type": "code",
   "execution_count": 9,
   "id": "e5144d05",
   "metadata": {},
   "outputs": [
    {
     "data": {
      "text/plain": [
       "(numpy.ndarray, dtype('int32'))"
      ]
     },
     "execution_count": 9,
     "metadata": {},
     "output_type": "execute_result"
    }
   ],
   "source": [
    "type(ar), ar.dtype"
   ]
  },
  {
   "cell_type": "code",
   "execution_count": 10,
   "id": "7ed0d926",
   "metadata": {},
   "outputs": [
    {
     "data": {
      "text/plain": [
       "array([[ 0,  1,  2,  3,  4],\n",
       "       [ 5,  6,  7,  8,  9],\n",
       "       [10, 11, 12, 13, 14],\n",
       "       [15, 16, 17, 18, 19],\n",
       "       [20, 21, 22, 23, 24]])"
      ]
     },
     "execution_count": 10,
     "metadata": {},
     "output_type": "execute_result"
    }
   ],
   "source": [
    "ar"
   ]
  },
  {
   "cell_type": "code",
   "execution_count": 11,
   "id": "a8771090",
   "metadata": {},
   "outputs": [
    {
     "data": {
      "text/plain": [
       "array([[ 0,  1,  2,  3,  4],\n",
       "       [ 5,  6,  7,  8,  9],\n",
       "       [10, 11, 12, 13, 14],\n",
       "       [15, 16, 17, 18, 19],\n",
       "       [20, 21, 22, 23, 24]], dtype=uint8)"
      ]
     },
     "execution_count": 11,
     "metadata": {},
     "output_type": "execute_result"
    }
   ],
   "source": [
    "ar1=ar.astype(np.uint8)\n",
    "ar1"
   ]
  },
  {
   "cell_type": "code",
   "execution_count": 12,
   "id": "7d7be920",
   "metadata": {},
   "outputs": [
    {
     "data": {
      "text/plain": [
       "PIL.Image.Image"
      ]
     },
     "execution_count": 12,
     "metadata": {},
     "output_type": "execute_result"
    }
   ],
   "source": [
    "im=Image.fromarray(ar1)\n",
    "type(im)"
   ]
  },
  {
   "cell_type": "code",
   "execution_count": 13,
   "id": "2ffc1efa",
   "metadata": {},
   "outputs": [],
   "source": [
    "im.save('test2.jpg')"
   ]
  },
  {
   "cell_type": "code",
   "execution_count": 14,
   "id": "101becd7",
   "metadata": {},
   "outputs": [
    {
     "name": "stdout",
     "output_type": "stream",
     "text": [
      " Le volume dans le lecteur C s'appelle Windows\n",
      " Le num�ro de s�rie du volume est FC72-9952\n",
      "\n",
      " R�pertoire de c:\\img_proc\\notebooks\\lab03_30\n",
      "\n",
      "02/04/2022  21:01    <DIR>          .\n",
      "02/04/2022  21:01    <DIR>          ..\n",
      "30/03/2022  23:51             1�956 lab03_30.ipynb\n",
      "24/03/2022  16:10           114�124 lab2.ipynb\n",
      "02/04/2022  21:01               335 test2.jpg\n",
      "               3 fichier(s)          116�415 octets\n",
      "               2 R�p(s)  147�737�583�616 octets libres\n"
     ]
    }
   ],
   "source": [
    "%ls"
   ]
  },
  {
   "cell_type": "code",
   "execution_count": 15,
   "id": "fe6e8ca9",
   "metadata": {},
   "outputs": [
    {
     "data": {
      "image/png": "[encoded data removed]",
      "text/plain": [
       "<PIL.JpegImagePlugin.JpegImageFile image mode=L size=5x5 at 0x181861099A0>"
      ]
     },
     "execution_count": 15,
     "metadata": {},
     "output_type": "execute_result"
    }
   ],
   "source": [
    "im2=Image.open('test2.jpg')\n",
    "im2"
   ]
  },
  {
   "cell_type": "code",
   "execution_count": 16,
   "id": "9853fcd6",
   "metadata": {},
   "outputs": [
    {
     "data": {
      "text/plain": [
       "('test2.jpg', 'JPEG', 8)"
      ]
     },
     "execution_count": 16,
     "metadata": {},
     "output_type": "execute_result"
    }
   ],
   "source": [
    "im2.filename, im2.format, im2.bits"
   ]
  },
  {
   "cell_type": "code",
   "execution_count": 17,
   "id": "b7bc24c6",
   "metadata": {},
   "outputs": [
    {
     "data": {
      "text/plain": [
       "array([[ 0,  1,  2,  4,  4],\n",
       "       [ 4,  5,  6,  7,  8],\n",
       "       [ 9, 10, 11, 13, 13],\n",
       "       [15, 15, 17, 18, 19],\n",
       "       [18, 19, 20, 22, 23]], dtype=uint8)"
      ]
     },
     "execution_count": 17,
     "metadata": {},
     "output_type": "execute_result"
    }
   ],
   "source": [
    "ar3=np.array(im2)\n",
    "ar3"
   ]
  },
  {
   "cell_type": "markdown",
   "id": "51b4d235",
   "metadata": {},
   "source": [
    "#exes \n",
    "-create image:\n",
    "-shape: 20,20 (rows, cols)\n",
    "-dtype: 8 bits\n",
    "-save it on disc as test3.png"
   ]
  },
  {
   "cell_type": "code",
   "execution_count": 18,
   "id": "81caa1fc",
   "metadata": {},
   "outputs": [
    {
     "data": {
      "text/plain": [
       "array([[  0,   1,   2,   3,   4,   5,   6,   7,   8,   9,  10,  11,  12,\n",
       "         13,  14,  15,  16,  17,  18,  19],\n",
       "       [ 20,  21,  22,  23,  24,  25,  26,  27,  28,  29,  30,  31,  32,\n",
       "         33,  34,  35,  36,  37,  38,  39],\n",
       "       [ 40,  41,  42,  43,  44,  45,  46,  47,  48,  49,  50,  51,  52,\n",
       "         53,  54,  55,  56,  57,  58,  59],\n",
       "       [ 60,  61,  62,  63,  64,  65,  66,  67,  68,  69,  70,  71,  72,\n",
       "         73,  74,  75,  76,  77,  78,  79],\n",
       "       [ 80,  81,  82,  83,  84,  85,  86,  87,  88,  89,  90,  91,  92,\n",
       "         93,  94,  95,  96,  97,  98,  99],\n",
       "       [100, 101, 102, 103, 104, 105, 106, 107, 108, 109, 110, 111, 112,\n",
       "        113, 114, 115, 116, 117, 118, 119],\n",
       "       [120, 121, 122, 123, 124, 125, 126, 127, 128, 129, 130, 131, 132,\n",
       "        133, 134, 135, 136, 137, 138, 139],\n",
       "       [140, 141, 142, 143, 144, 145, 146, 147, 148, 149, 150, 151, 152,\n",
       "        153, 154, 155, 156, 157, 158, 159],\n",
       "       [160, 161, 162, 163, 164, 165, 166, 167, 168, 169, 170, 171, 172,\n",
       "        173, 174, 175, 176, 177, 178, 179],\n",
       "       [180, 181, 182, 183, 184, 185, 186, 187, 188, 189, 190, 191, 192,\n",
       "        193, 194, 195, 196, 197, 198, 199],\n",
       "       [200, 201, 202, 203, 204, 205, 206, 207, 208, 209, 210, 211, 212,\n",
       "        213, 214, 215, 216, 217, 218, 219],\n",
       "       [220, 221, 222, 223, 224, 225, 226, 227, 228, 229, 230, 231, 232,\n",
       "        233, 234, 235, 236, 237, 238, 239],\n",
       "       [240, 241, 242, 243, 244, 245, 246, 247, 248, 249, 250, 251, 252,\n",
       "        253, 254, 255,   0,   1,   2,   3],\n",
       "       [  4,   5,   6,   7,   8,   9,  10,  11,  12,  13,  14,  15,  16,\n",
       "         17,  18,  19,  20,  21,  22,  23],\n",
       "       [ 24,  25,  26,  27,  28,  29,  30,  31,  32,  33,  34,  35,  36,\n",
       "         37,  38,  39,  40,  41,  42,  43],\n",
       "       [ 44,  45,  46,  47,  48,  49,  50,  51,  52,  53,  54,  55,  56,\n",
       "         57,  58,  59,  60,  61,  62,  63],\n",
       "       [ 64,  65,  66,  67,  68,  69,  70,  71,  72,  73,  74,  75,  76,\n",
       "         77,  78,  79,  80,  81,  82,  83],\n",
       "       [ 84,  85,  86,  87,  88,  89,  90,  91,  92,  93,  94,  95,  96,\n",
       "         97,  98,  99, 100, 101, 102, 103],\n",
       "       [104, 105, 106, 107, 108, 109, 110, 111, 112, 113, 114, 115, 116,\n",
       "        117, 118, 119, 120, 121, 122, 123],\n",
       "       [124, 125, 126, 127, 128, 129, 130, 131, 132, 133, 134, 135, 136,\n",
       "        137, 138, 139, 140, 141, 142, 143]], dtype=uint8)"
      ]
     },
     "execution_count": 18,
     "metadata": {},
     "output_type": "execute_result"
    }
   ],
   "source": [
    "ar = np.arange(20*20).reshape(20,20)\n",
    "ar=ar.astype(np.uint8)\n",
    "ar"
   ]
  },
  {
   "cell_type": "code",
   "execution_count": 19,
   "id": "263c6e18",
   "metadata": {},
   "outputs": [
    {
     "data": {
      "text/plain": [
       "<matplotlib.image.AxesImage at 0x18186168820>"
      ]
     },
     "execution_count": 19,
     "metadata": {},
     "output_type": "execute_result"
    },
    {
     "data": {
      "image/png": "[encoded data removed]",
      "text/plain": [
       "<Figure size 432x288 with 1 Axes>"
      ]
     },
     "metadata": {
      "needs_background": "light"
     },
     "output_type": "display_data"
    }
   ],
   "source": [
    "plt.imshow(ar,interpolation='bilinear')"
   ]
  },
  {
   "cell_type": "code",
   "execution_count": 20,
   "id": "9ce7d470",
   "metadata": {},
   "outputs": [
    {
     "data": {
      "image/png": "[encoded data removed]",
      "text/plain": [
       "<PIL.Image.Image image mode=L size=20x20 at 0x1818618BD60>"
      ]
     },
     "execution_count": 20,
     "metadata": {},
     "output_type": "execute_result"
    }
   ],
   "source": [
    "im2=Image.fromarray(ar)\n",
    "im2"
   ]
  },
  {
   "cell_type": "code",
   "execution_count": 21,
   "id": "9cc076e9",
   "metadata": {},
   "outputs": [
    {
     "name": "stdout",
     "output_type": "stream",
     "text": [
      " Le volume dans le lecteur C s'appelle Windows\n",
      " Le num�ro de s�rie du volume est FC72-9952\n",
      "\n",
      " R�pertoire de c:\\img_proc\\notebooks\\lab03_30\n",
      "\n",
      "02/04/2022  21:01    <DIR>          .\n",
      "02/04/2022  21:01    <DIR>          ..\n",
      "30/03/2022  23:51             1�956 lab03_30.ipynb\n",
      "24/03/2022  16:10           114�124 lab2.ipynb\n",
      "02/04/2022  21:01               335 test2.jpg\n",
      "               3 fichier(s)          116�415 octets\n",
      "               2 R�p(s)  147�737�583�616 octets libres\n"
     ]
    }
   ],
   "source": [
    "%ls"
   ]
  },
  {
   "cell_type": "code",
   "execution_count": 22,
   "id": "6b99bfd6",
   "metadata": {},
   "outputs": [],
   "source": [
    "im2.save('test3.jpg')"
   ]
  },
  {
   "cell_type": "code",
   "execution_count": 23,
   "id": "12f6b23f",
   "metadata": {},
   "outputs": [
    {
     "data": {
      "text/plain": [
       "array([[ 0,  1,  2,  3,  4,  5],\n",
       "       [ 6,  7,  8,  9, 10, 11],\n",
       "       [12, 13, 14, 15, 16, 17],\n",
       "       [18, 19, 20, 21, 22, 23]], dtype=uint8)"
      ]
     },
     "execution_count": 23,
     "metadata": {},
     "output_type": "execute_result"
    }
   ],
   "source": [
    "ar=np.arange(4*6,dtype=np.uint8).reshape(4,6)\n",
    "ar"
   ]
  },
  {
   "cell_type": "code",
   "execution_count": 24,
   "id": "75e11e17",
   "metadata": {},
   "outputs": [
    {
     "data": {
      "text/plain": [
       "(4, 6)"
      ]
     },
     "execution_count": 24,
     "metadata": {},
     "output_type": "execute_result"
    }
   ],
   "source": [
    "ar.shape"
   ]
  },
  {
   "cell_type": "code",
   "execution_count": 25,
   "id": "f64a9fea",
   "metadata": {},
   "outputs": [
    {
     "data": {
      "text/plain": [
       "(0, 23, 15)"
      ]
     },
     "execution_count": 25,
     "metadata": {},
     "output_type": "execute_result"
    }
   ],
   "source": [
    "# ar[rows, cols]\n",
    "ar[0,0], ar[-1,-1],ar[2,3]"
   ]
  },
  {
   "cell_type": "code",
   "execution_count": 26,
   "id": "1f4466f4",
   "metadata": {},
   "outputs": [
    {
     "data": {
      "text/plain": [
       "array([[ 6,  7,  8,  9, 10, 11],\n",
       "       [12, 13, 14, 15, 16, 17]], dtype=uint8)"
      ]
     },
     "execution_count": 26,
     "metadata": {},
     "output_type": "execute_result"
    }
   ],
   "source": [
    "#indexing: start:stop: step\n",
    "ar[1:3,:]"
   ]
  },
  {
   "cell_type": "code",
   "execution_count": 27,
   "id": "e8533e26",
   "metadata": {},
   "outputs": [
    {
     "data": {
      "text/plain": [
       "array([[ 0,  1,  2,  3,  4,  5],\n",
       "       [ 6,  7, 99, 99, 10, 11],\n",
       "       [12, 13, 99, 99, 16, 17],\n",
       "       [18, 19, 20, 21, 22, 23]], dtype=uint8)"
      ]
     },
     "execution_count": 27,
     "metadata": {},
     "output_type": "execute_result"
    }
   ],
   "source": [
    "\n",
    "ar[1:3,2:4] = 99\n",
    "ar"
   ]
  },
  {
   "cell_type": "code",
   "execution_count": 28,
   "id": "ea8afce0",
   "metadata": {},
   "outputs": [
    {
     "data": {
      "text/plain": [
       "<matplotlib.image.AxesImage at 0x181861c9e80>"
      ]
     },
     "execution_count": 28,
     "metadata": {},
     "output_type": "execute_result"
    },
    {
     "data": {
      "image/png": "[encoded data removed]",
      "text/plain": [
       "<Figure size 432x288 with 1 Axes>"
      ]
     },
     "metadata": {
      "needs_background": "light"
     },
     "output_type": "display_data"
    }
   ],
   "source": [
    "plt.imshow(ar,cmap=plt.cm.Greys)#,interpolation='bicubic')"
   ]
  },
  {
   "cell_type": "code",
   "execution_count": 29,
   "id": "ed94462b",
   "metadata": {},
   "outputs": [
    {
     "data": {
      "text/plain": [
       "<matplotlib.image.AxesImage at 0x181862324f0>"
      ]
     },
     "execution_count": 29,
     "metadata": {},
     "output_type": "execute_result"
    },
    {
     "data": {
      "image/png": "[encoded data removed]",
      "text/plain": [
       "<Figure size 432x288 with 1 Axes>"
      ]
     },
     "metadata": {
      "needs_background": "light"
     },
     "output_type": "display_data"
    }
   ],
   "source": [
    "plt.imshow(ar,cmap=plt.cm.Greys,interpolation='bicubic')"
   ]
  },
  {
   "cell_type": "markdown",
   "id": "9c01aab9",
   "metadata": {},
   "source": [
    "# 2 RGB Image"
   ]
  },
  {
   "cell_type": "code",
   "execution_count": 30,
   "id": "327e7c69",
   "metadata": {},
   "outputs": [],
   "source": [
    "r,c= 10,9\n",
    "b1=np.zeros((r,c),dtype=np.uint8)\n",
    "b2=b1.copy()\n",
    "b3=b1.copy()"
   ]
  },
  {
   "cell_type": "code",
   "execution_count": 31,
   "id": "21a454ae",
   "metadata": {},
   "outputs": [
    {
     "data": {
      "text/plain": [
       "array([[  0,   0,   0,   0,   0,   0, 255, 255, 255],\n",
       "       [  0,   0,   0,   0,   0,   0, 255, 255, 255],\n",
       "       [  0,   0,   0,   0,   0,   0, 255, 255, 255],\n",
       "       [  0,   0,   0,   0,   0,   0, 255, 255, 255],\n",
       "       [  0,   0,   0,   0,   0,   0, 255, 255, 255],\n",
       "       [  0,   0,   0,   0,   0,   0, 255, 255, 255],\n",
       "       [  0,   0,   0,   0,   0,   0, 255, 255, 255],\n",
       "       [  0,   0,   0,   0,   0,   0, 255, 255, 255],\n",
       "       [  0,   0,   0,   0,   0,   0, 255, 255, 255],\n",
       "       [  0,   0,   0,   0,   0,   0, 255, 255, 255]], dtype=uint8)"
      ]
     },
     "execution_count": 31,
     "metadata": {},
     "output_type": "execute_result"
    }
   ],
   "source": [
    "b1[:,:3]=255\n",
    "b2[:,3:6]=255\n",
    "b3[:,6:]=255\n",
    "b3"
   ]
  },
  {
   "cell_type": "code",
   "execution_count": 32,
   "id": "383ebc83",
   "metadata": {},
   "outputs": [
    {
     "data": {
      "image/png": "[encoded data removed]",
      "text/plain": [
       "<Figure size 432x288 with 3 Axes>"
      ]
     },
     "metadata": {
      "needs_background": "light"
     },
     "output_type": "display_data"
    }
   ],
   "source": [
    "col=[plt.cm.Blues,plt.cm.Greens,plt.cm.Reds]\n",
    "for i, band in enumerate([b1,b2,b3],1):\n",
    "    plt.subplot(1,3,i)\n",
    "    plt.imshow(band,cmap=col[i-1],interpolation='bicubic')"
   ]
  },
  {
   "cell_type": "code",
   "execution_count": 33,
   "id": "fce14492",
   "metadata": {},
   "outputs": [
    {
     "data": {
      "text/plain": [
       "(10, 9, 3)"
      ]
     },
     "execution_count": 33,
     "metadata": {},
     "output_type": "execute_result"
    }
   ],
   "source": [
    "ar_rgb=np.stack([b1,b2,b3],axis=-1)\n",
    "ar_rgb.shape"
   ]
  },
  {
   "cell_type": "code",
   "execution_count": 34,
   "id": "29cbbfa7",
   "metadata": {},
   "outputs": [
    {
     "data": {
      "text/plain": [
       "array([[[255,   0,   0],\n",
       "        [255,   0,   0],\n",
       "        [255,   0,   0],\n",
       "        [  0, 255,   0],\n",
       "        [  0, 255,   0],\n",
       "        [  0, 255,   0],\n",
       "        [  0,   0, 255],\n",
       "        [  0,   0, 255],\n",
       "        [  0,   0, 255]],\n",
       "\n",
       "       [[255,   0,   0],\n",
       "        [255,   0,   0],\n",
       "        [255,   0,   0],\n",
       "        [  0, 255,   0],\n",
       "        [  0, 255,   0],\n",
       "        [  0, 255,   0],\n",
       "        [  0,   0, 255],\n",
       "        [  0,   0, 255],\n",
       "        [  0,   0, 255]],\n",
       "\n",
       "       [[255,   0,   0],\n",
       "        [255,   0,   0],\n",
       "        [255,   0,   0],\n",
       "        [  0, 255,   0],\n",
       "        [  0, 255,   0],\n",
       "        [  0, 255,   0],\n",
       "        [  0,   0, 255],\n",
       "        [  0,   0, 255],\n",
       "        [  0,   0, 255]],\n",
       "\n",
       "       [[255,   0,   0],\n",
       "        [255,   0,   0],\n",
       "        [255,   0,   0],\n",
       "        [  0, 255,   0],\n",
       "        [  0, 255,   0],\n",
       "        [  0, 255,   0],\n",
       "        [  0,   0, 255],\n",
       "        [  0,   0, 255],\n",
       "        [  0,   0, 255]],\n",
       "\n",
       "       [[255,   0,   0],\n",
       "        [255,   0,   0],\n",
       "        [255,   0,   0],\n",
       "        [  0, 255,   0],\n",
       "        [  0, 255,   0],\n",
       "        [  0, 255,   0],\n",
       "        [  0,   0, 255],\n",
       "        [  0,   0, 255],\n",
       "        [  0,   0, 255]],\n",
       "\n",
       "       [[255,   0,   0],\n",
       "        [255,   0,   0],\n",
       "        [255,   0,   0],\n",
       "        [  0, 255,   0],\n",
       "        [  0, 255,   0],\n",
       "        [  0, 255,   0],\n",
       "        [  0,   0, 255],\n",
       "        [  0,   0, 255],\n",
       "        [  0,   0, 255]],\n",
       "\n",
       "       [[255,   0,   0],\n",
       "        [255,   0,   0],\n",
       "        [255,   0,   0],\n",
       "        [  0, 255,   0],\n",
       "        [  0, 255,   0],\n",
       "        [  0, 255,   0],\n",
       "        [  0,   0, 255],\n",
       "        [  0,   0, 255],\n",
       "        [  0,   0, 255]],\n",
       "\n",
       "       [[255,   0,   0],\n",
       "        [255,   0,   0],\n",
       "        [255,   0,   0],\n",
       "        [  0, 255,   0],\n",
       "        [  0, 255,   0],\n",
       "        [  0, 255,   0],\n",
       "        [  0,   0, 255],\n",
       "        [  0,   0, 255],\n",
       "        [  0,   0, 255]],\n",
       "\n",
       "       [[255,   0,   0],\n",
       "        [255,   0,   0],\n",
       "        [255,   0,   0],\n",
       "        [  0, 255,   0],\n",
       "        [  0, 255,   0],\n",
       "        [  0, 255,   0],\n",
       "        [  0,   0, 255],\n",
       "        [  0,   0, 255],\n",
       "        [  0,   0, 255]],\n",
       "\n",
       "       [[255,   0,   0],\n",
       "        [255,   0,   0],\n",
       "        [255,   0,   0],\n",
       "        [  0, 255,   0],\n",
       "        [  0, 255,   0],\n",
       "        [  0, 255,   0],\n",
       "        [  0,   0, 255],\n",
       "        [  0,   0, 255],\n",
       "        [  0,   0, 255]]], dtype=uint8)"
      ]
     },
     "execution_count": 34,
     "metadata": {},
     "output_type": "execute_result"
    }
   ],
   "source": [
    "ar_rgb"
   ]
  },
  {
   "cell_type": "code",
   "execution_count": 35,
   "id": "59de0fca",
   "metadata": {},
   "outputs": [
    {
     "data": {
      "text/plain": [
       "<matplotlib.image.AxesImage at 0x181863883d0>"
      ]
     },
     "execution_count": 35,
     "metadata": {},
     "output_type": "execute_result"
    },
    {
     "data": {
      "image/png": "[encoded data removed]",
      "text/plain": [
       "<Figure size 432x288 with 1 Axes>"
      ]
     },
     "metadata": {
      "needs_background": "light"
     },
     "output_type": "display_data"
    }
   ],
   "source": [
    "plt.imshow(ar_rgb,interpolation='bicubic')"
   ]
  },
  {
   "cell_type": "code",
   "execution_count": 36,
   "id": "d99c373c",
   "metadata": {},
   "outputs": [
    {
     "data": {
      "text/plain": [
       "<matplotlib.image.AxesImage at 0x181863f0a60>"
      ]
     },
     "execution_count": 36,
     "metadata": {},
     "output_type": "execute_result"
    },
    {
     "data": {
      "image/png": "[encoded data removed]",
      "text/plain": [
       "<Figure size 432x288 with 1 Axes>"
      ]
     },
     "metadata": {
      "needs_background": "light"
     },
     "output_type": "display_data"
    }
   ],
   "source": [
    "plt.imshow(ar_rgb)"
   ]
  },
  {
   "cell_type": "code",
   "execution_count": null,
   "id": "ef5a480f",
   "metadata": {},
   "outputs": [],
   "source": []
  }
 ],
 "metadata": {
  "interpreter": {
   "hash": "9b70baaae1c588e509e401b41d493fd5335f8455585cff76952f4804f2019477"
  },
  "kernelspec": {
   "display_name": "Python [conda env:img2]",
   "language": "python",
   "name": "python3"
  },
  "language_info": {
   "codemirror_mode": {
    "name": "ipython",
    "version": 3
   },
   "file_extension": ".py",
   "mimetype": "text/x-python",
   "name": "python",
   "nbconvert_exporter": "python",
   "pygments_lexer": "ipython3",
   "version": "3.9.11"
  },
  "latex_envs": {
   "LaTeX_envs_menu_present": true,
   "autoclose": false,
   "autocomplete": true,
   "bibliofile": "biblio.bib",
   "cite_by": "apalike",
   "current_citInitial": 1,
   "eqLabelWithNumbers": true,
   "eqNumInitial": 1,
   "hotkeys": {
    "equation": "Ctrl-E",
    "itemize": "Ctrl-I"
   },
   "labels_anchors": false,
   "latex_user_defs": false,
   "report_style_numbering": false,
   "user_envs_cfg": false
  },
  "toc": {
   "base_numbering": 1,
   "nav_menu": {},
   "number_sections": true,
   "sideBar": true,
   "skip_h1_title": false,
   "title_cell": "Table of Contents",
   "title_sidebar": "Contents",
   "toc_cell": false,
   "toc_position": {},
   "toc_section_display": true,
   "toc_window_display": false
  }
 },
 "nbformat": 4,
 "nbformat_minor": 5
}
