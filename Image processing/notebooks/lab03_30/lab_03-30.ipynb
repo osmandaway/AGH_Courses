{
 "cells": [
  {
   "cell_type": "code",
   "execution_count": 1,
   "metadata": {},
   "outputs": [],
   "source": [
    "from matplotlib import pyplot as plt\n",
    "import numpy as np\n",
    "from PIL import Image"
   ]
  },
  {
   "cell_type": "markdown",
   "metadata": {},
   "source": [
    "1. Résolution"
   ]
  },
  {
   "cell_type": "code",
   "execution_count": 2,
   "metadata": {},
   "outputs": [
    {
     "data": {
      "text/plain": [
       "array([[1, 2, 3],\n",
       "       [4, 5, 6],\n",
       "       [7, 8, 9]])"
      ]
     },
     "execution_count": 2,
     "metadata": {},
     "output_type": "execute_result"
    }
   ],
   "source": [
    "ar=np.arange(1,10).reshape(3,3)\n",
    "ar"
   ]
  },
  {
   "cell_type": "code",
   "execution_count": 7,
   "metadata": {},
   "outputs": [
    {
     "data": {
      "text/plain": [
       "array([[1, 1, 2, 2, 3, 3],\n",
       "       [1, 1, 2, 2, 3, 3],\n",
       "       [4, 4, 5, 5, 6, 6],\n",
       "       [4, 4, 5, 5, 6, 6],\n",
       "       [7, 7, 8, 8, 9, 9],\n",
       "       [7, 7, 8, 8, 9, 9]])"
      ]
     },
     "execution_count": 7,
     "metadata": {},
     "output_type": "execute_result"
    }
   ],
   "source": [
    "ar1=np.repeat(ar,2,axis=1)\n",
    "ar1=np.repeat(ar1,2,axis=0)\n",
    "ar1"
   ]
  },
  {
   "cell_type": "code",
   "execution_count": 8,
   "metadata": {},
   "outputs": [
    {
     "data": {
      "text/plain": [
       "<matplotlib.image.AxesImage at 0x2703b8b1880>"
      ]
     },
     "execution_count": 8,
     "metadata": {},
     "output_type": "execute_result"
    },
    {
     "data": {
      "image/png": "[encoded data removed]",
      "text/plain": [
       "<Figure size 432x288 with 2 Axes>"
      ]
     },
     "metadata": {
      "needs_background": "light"
     },
     "output_type": "display_data"
    }
   ],
   "source": [
    "plt.subplot(1,2,1)\n",
    "plt.imshow(ar)\n",
    "plt.subplot(1,2,2)\n",
    "plt.imshow(ar1)"
   ]
  },
  {
   "cell_type": "markdown",
   "metadata": {},
   "source": [
    "1.1 Circle \n",
    "\n",
    "$r^2=x^2 + y^2$"
   ]
  },
  {
   "cell_type": "code",
   "execution_count": 12,
   "metadata": {},
   "outputs": [
    {
     "data": {
      "text/plain": [
       "[0, 1, 4, 9, 16]"
      ]
     },
     "execution_count": 12,
     "metadata": {},
     "output_type": "execute_result"
    }
   ],
   "source": [
    "#comprehensive lists\n",
    "l=[]\n",
    "for i in range(5):\n",
    "    l.append(i**2)\n",
    "l"
   ]
  },
  {
   "cell_type": "code",
   "execution_count": 13,
   "metadata": {},
   "outputs": [
    {
     "data": {
      "text/plain": [
       "[0, 1, 4, 9, 16]"
      ]
     },
     "execution_count": 13,
     "metadata": {},
     "output_type": "execute_result"
    }
   ],
   "source": [
    "[i**2 for i in range(5)]"
   ]
  },
  {
   "cell_type": "code",
   "execution_count": 14,
   "metadata": {},
   "outputs": [
    {
     "data": {
      "text/plain": [
       "[array([-10,  -9,  -8,  -7,  -6,  -5,  -4,  -3,  -2,  -1,   0,   1,   2,\n",
       "          3,   4,   5,   6,   7,   8,   9,  10]),\n",
       " array([-30, -29, -28, -27, -26, -25, -24, -23, -22, -21, -20, -19, -18,\n",
       "        -17, -16, -15, -14, -13, -12, -11, -10,  -9,  -8,  -7,  -6,  -5,\n",
       "         -4,  -3,  -2,  -1,   0,   1,   2,   3,   4,   5,   6,   7,   8,\n",
       "          9,  10,  11,  12,  13,  14,  15,  16,  17,  18,  19,  20,  21,\n",
       "         22,  23,  24,  25,  26,  27,  28,  29,  30]),\n",
       " array([-200, -199, -198, -197, -196, -195, -194, -193, -192, -191, -190,\n",
       "        -189, -188, -187, -186, -185, -184, -183, -182, -181, -180, -179,\n",
       "        -178, -177, -176, -175, -174, -173, -172, -171, -170, -169, -168,\n",
       "        -167, -166, -165, -164, -163, -162, -161, -160, -159, -158, -157,\n",
       "        -156, -155, -154, -153, -152, -151, -150, -149, -148, -147, -146,\n",
       "        -145, -144, -143, -142, -141, -140, -139, -138, -137, -136, -135,\n",
       "        -134, -133, -132, -131, -130, -129, -128, -127, -126, -125, -124,\n",
       "        -123, -122, -121, -120, -119, -118, -117, -116, -115, -114, -113,\n",
       "        -112, -111, -110, -109, -108, -107, -106, -105, -104, -103, -102,\n",
       "        -101, -100,  -99,  -98,  -97,  -96,  -95,  -94,  -93,  -92,  -91,\n",
       "         -90,  -89,  -88,  -87,  -86,  -85,  -84,  -83,  -82,  -81,  -80,\n",
       "         -79,  -78,  -77,  -76,  -75,  -74,  -73,  -72,  -71,  -70,  -69,\n",
       "         -68,  -67,  -66,  -65,  -64,  -63,  -62,  -61,  -60,  -59,  -58,\n",
       "         -57,  -56,  -55,  -54,  -53,  -52,  -51,  -50,  -49,  -48,  -47,\n",
       "         -46,  -45,  -44,  -43,  -42,  -41,  -40,  -39,  -38,  -37,  -36,\n",
       "         -35,  -34,  -33,  -32,  -31,  -30,  -29,  -28,  -27,  -26,  -25,\n",
       "         -24,  -23,  -22,  -21,  -20,  -19,  -18,  -17,  -16,  -15,  -14,\n",
       "         -13,  -12,  -11,  -10,   -9,   -8,   -7,   -6,   -5,   -4,   -3,\n",
       "          -2,   -1,    0,    1,    2,    3,    4,    5,    6,    7,    8,\n",
       "           9,   10,   11,   12,   13,   14,   15,   16,   17,   18,   19,\n",
       "          20,   21,   22,   23,   24,   25,   26,   27,   28,   29,   30,\n",
       "          31,   32,   33,   34,   35,   36,   37,   38,   39,   40,   41,\n",
       "          42,   43,   44,   45,   46,   47,   48,   49,   50,   51,   52,\n",
       "          53,   54,   55,   56,   57,   58,   59,   60,   61,   62,   63,\n",
       "          64,   65,   66,   67,   68,   69,   70,   71,   72,   73,   74,\n",
       "          75,   76,   77,   78,   79,   80,   81,   82,   83,   84,   85,\n",
       "          86,   87,   88,   89,   90,   91,   92,   93,   94,   95,   96,\n",
       "          97,   98,   99,  100,  101,  102,  103,  104,  105,  106,  107,\n",
       "         108,  109,  110,  111,  112,  113,  114,  115,  116,  117,  118,\n",
       "         119,  120,  121,  122,  123,  124,  125,  126,  127,  128,  129,\n",
       "         130,  131,  132,  133,  134,  135,  136,  137,  138,  139,  140,\n",
       "         141,  142,  143,  144,  145,  146,  147,  148,  149,  150,  151,\n",
       "         152,  153,  154,  155,  156,  157,  158,  159,  160,  161,  162,\n",
       "         163,  164,  165,  166,  167,  168,  169,  170,  171,  172,  173,\n",
       "         174,  175,  176,  177,  178,  179,  180,  181,  182,  183,  184,\n",
       "         185,  186,  187,  188,  189,  190,  191,  192,  193,  194,  195,\n",
       "         196,  197,  198,  199,  200])]"
      ]
     },
     "execution_count": 14,
     "metadata": {},
     "output_type": "execute_result"
    }
   ],
   "source": [
    "rng=[np.arange(-10*n,10*n+1) for n in (1,3,20)]\n",
    "rng"
   ]
  },
  {
   "cell_type": "code",
   "execution_count": 16,
   "metadata": {},
   "outputs": [
    {
     "data": {
      "text/plain": [
       "(array([[-1,  0,  1],\n",
       "        [-1,  0,  1],\n",
       "        [-1,  0,  1]]),\n",
       " array([[-1, -1, -1],\n",
       "        [ 0,  0,  0],\n",
       "        [ 1,  1,  1]]))"
      ]
     },
     "execution_count": 16,
     "metadata": {},
     "output_type": "execute_result"
    }
   ],
   "source": [
    "X,Y=np.meshgrid([-1,0,1],[-1,0,1])\n",
    "X,Y"
   ]
  },
  {
   "cell_type": "code",
   "execution_count": 18,
   "metadata": {},
   "outputs": [
    {
     "data": {
      "text/plain": [
       "3"
      ]
     },
     "execution_count": 18,
     "metadata": {},
     "output_type": "execute_result"
    }
   ],
   "source": [
    "XY=[np.meshgrid(rr,rr) for rr in rng]\n",
    "len(XY)"
   ]
  },
  {
   "cell_type": "code",
   "execution_count": 21,
   "metadata": {},
   "outputs": [
    {
     "data": {
      "text/plain": [
       "(21, 21)"
      ]
     },
     "execution_count": 21,
     "metadata": {},
     "output_type": "execute_result"
    }
   ],
   "source": [
    "XY[0][0].shape"
   ]
  },
  {
   "cell_type": "code",
   "execution_count": 51,
   "metadata": {},
   "outputs": [
    {
     "data": {
      "text/plain": [
       "[7, 21, 140]"
      ]
     },
     "execution_count": 51,
     "metadata": {},
     "output_type": "execute_result"
    }
   ],
   "source": [
    "rr=[7*n for n in (1,3,20)]\n",
    "rr"
   ]
  },
  {
   "cell_type": "code",
   "execution_count": 52,
   "metadata": {},
   "outputs": [
    {
     "name": "stdout",
     "output_type": "stream",
     "text": [
      "0 49 (21, 21) 200\n",
      "1 441 (61, 61) 1800\n",
      "2 19600 (401, 401) 80000\n"
     ]
    }
   ],
   "source": [
    "for i,(Xc,Yc) in enumerate(XY):\n",
    "    tmp=Xc**2+Yc**2\n",
    "    ar_tmp=np.zeros_like(tmp)\n",
    "    ar_tmp[tmp < rr[i]]=255\n",
    "    print(i,rr[i]**2,tmp.shape,tmp.max())"
   ]
  },
  {
   "cell_type": "code",
   "execution_count": 53,
   "metadata": {},
   "outputs": [
    {
     "data": {
      "text/plain": [
       "<matplotlib.image.AxesImage at 0x2703e111880>"
      ]
     },
     "execution_count": 53,
     "metadata": {},
     "output_type": "execute_result"
    },
    {
     "data": {
      "image/png": "[encoded data removed]",
      "text/plain": [
       "<Figure size 432x288 with 1 Axes>"
      ]
     },
     "metadata": {
      "needs_background": "light"
     },
     "output_type": "display_data"
    }
   ],
   "source": [
    "for i,(Xc,Yc) in enumerate(XY):\n",
    "    tmp=Xc**2+Yc**2\n",
    "    ar_tmp=np.zeros_like(tmp)\n",
    "    ar_tmp[tmp < rr[i]]=255\n",
    "    break\n",
    "plt.imshow(ar_tmp)"
   ]
  },
  {
   "cell_type": "code",
   "execution_count": 54,
   "metadata": {},
   "outputs": [],
   "source": [
    "imgs=[]\n",
    "for i,(Xc,Yc) in enumerate(XY):\n",
    "    tmp=Xc**2+Yc**2\n",
    "    ar_tmp=np.zeros_like(tmp)\n",
    "    ar_tmp[tmp < rr[i]**2]=255\n",
    "    imgs.append(ar_tmp)"
   ]
  },
  {
   "cell_type": "code",
   "execution_count": 55,
   "metadata": {},
   "outputs": [
    {
     "data": {
      "image/png": "[encoded data removed]",
      "text/plain": [
       "<Figure size 360x1080 with 3 Axes>"
      ]
     },
     "metadata": {
      "needs_background": "light"
     },
     "output_type": "display_data"
    }
   ],
   "source": [
    "f= plt.figure(figsize=(5,15))\n",
    "for i,imm in enumerate(imgs,1):\n",
    "    plt.subplot(3,1,i)\n",
    "    plt.imshow(imm)"
   ]
  },
  {
   "cell_type": "code",
   "execution_count": 56,
   "metadata": {},
   "outputs": [],
   "source": [
    "im1=imgs[0]\n",
    "im1_t=np.repeat(im1,20,axis=0)\n",
    "im1_t=np.repeat(im1_t,20,axis=1)\n",
    "imgs.append(im1_t)"
   ]
  },
  {
   "cell_type": "code",
   "execution_count": 57,
   "metadata": {},
   "outputs": [
    {
     "data": {
      "image/png": "[encoded data removed]",
      "text/plain": [
       "<Figure size 720x720 with 4 Axes>"
      ]
     },
     "metadata": {
      "needs_background": "light"
     },
     "output_type": "display_data"
    }
   ],
   "source": [
    "f= plt.figure(figsize=(10,10))\n",
    "for i,imm in enumerate(imgs,1):\n",
    "    plt.subplot(2,2,i)\n",
    "    plt.imshow(imm)"
   ]
  },
  {
   "cell_type": "code",
   "execution_count": 58,
   "metadata": {},
   "outputs": [
    {
     "data": {
      "image/png": "[encoded data removed]",
      "text/plain": [
       "<Figure size 720x720 with 4 Axes>"
      ]
     },
     "metadata": {
      "needs_background": "light"
     },
     "output_type": "display_data"
    }
   ],
   "source": [
    "# range for x and y axis\n",
    "rng= [np.arange(-10*n,10*n+1) for n in (1,3,20)]\n",
    "\n",
    "# mesh : arrays of x and y\n",
    "XY= [np.meshgrid(rr,rr) for rr in rng]\n",
    "\n",
    "#radius\n",
    "rr=[7*n for n in (1,3,20)]\n",
    "\n",
    "# create a list of images\n",
    "imgs=[]\n",
    "for i,(Xc,Yc) in enumerate(XY):\n",
    "    tmp=Xc**2+Yc**2\n",
    "    ar_tmp=np.zeros_like(tmp)\n",
    "    ar_tmp[tmp < rr[i]**2]=255\n",
    "    imgs.append(ar_tmp)\n",
    "\n",
    "# add repeated image\n",
    "im1=imgs[0]\n",
    "im1_t=np.repeat(im1,20,axis=0)\n",
    "im1_t=np.repeat(im1_t,20,axis=1)\n",
    "imgs.append(im1_t)\n",
    "\n",
    "#show\n",
    "f= plt.figure(figsize=(10,10))\n",
    "for i,imm in enumerate(imgs,1):\n",
    "    plt.subplot(2,2,i)\n",
    "    plt.imshow(imm)\n"
   ]
  },
  {
   "cell_type": "code",
   "execution_count": 59,
   "metadata": {},
   "outputs": [
    {
     "data": {
      "image/png": "[encoded data removed]",
      "text/plain": [
       "<Figure size 720x720 with 3 Axes>"
      ]
     },
     "metadata": {
      "needs_background": "light"
     },
     "output_type": "display_data"
    }
   ],
   "source": [
    "# EX1\n",
    "# Create 3 bands: \n",
    "# each band with circle in diferent radius\n",
    "# stack bands into RGB image\n",
    "# image size: 200x200 pixels\n",
    "\n",
    "rng= [np.arange(-10*n,10*n+1) for n in (10,10,10)]\n",
    "XY= [np.meshgrid(rr,rr) for rr in rng]\n",
    "rr=[8*n for n in (2,4,00)]\n",
    "ls=[10,100,200]\n",
    "ls2=[200,10,80]\n",
    "imgs=[]\n",
    "\n",
    "for i,(Xc,Yc) in enumerate(XY):\n",
    "    tmp=Xc**2+Yc**2\n",
    "    ar_tmp=np.zeros_like(tmp)+ls2[i]\n",
    "    ar_tmp[tmp < rr[i]**2]=ls[i]\n",
    "    imgs.append(ar_tmp)\n",
    "\n",
    "f= plt.figure(figsize=(10,10))\n",
    "for i,imm in enumerate(imgs,1):\n",
    "    plt.subplot(2,2,i)\n",
    "    plt.imshow(imm)\n",
    "\n",
    "img_out=np.stack(imgs)"
   ]
  },
  {
   "cell_type": "code",
   "execution_count": 60,
   "metadata": {},
   "outputs": [
    {
     "data": {
      "text/plain": [
       "<matplotlib.image.AxesImage at 0x2703dda72b0>"
      ]
     },
     "execution_count": 60,
     "metadata": {},
     "output_type": "execute_result"
    },
    {
     "data": {
      "image/png": "[encoded data removed]",
      "text/plain": [
       "<Figure size 432x288 with 1 Axes>"
      ]
     },
     "metadata": {
      "needs_background": "light"
     },
     "output_type": "display_data"
    }
   ],
   "source": [
    "img_out=np.stack(imgs,axis=-1)\n",
    "img_out.shape\n",
    "plt.imshow(img_out)"
   ]
  },
  {
   "cell_type": "code",
   "execution_count": null,
   "metadata": {},
   "outputs": [],
   "source": []
  }
 ],
 "metadata": {
  "interpreter": {
   "hash": "7ece34f25dda2ecb367d835b571b25337e3dba20a56108552f8afd340a6d1c9d"
  },
  "kernelspec": {
   "display_name": "Python 3.9.11 ('img3')",
   "language": "python",
   "name": "python3"
  },
  "language_info": {
   "codemirror_mode": {
    "name": "ipython",
    "version": 3
   },
   "file_extension": ".py",
   "mimetype": "text/x-python",
   "name": "python",
   "nbconvert_exporter": "python",
   "pygments_lexer": "ipython3",
   "version": "3.9.11"
  },
  "orig_nbformat": 4
 },
 "nbformat": 4,
 "nbformat_minor": 2
}
