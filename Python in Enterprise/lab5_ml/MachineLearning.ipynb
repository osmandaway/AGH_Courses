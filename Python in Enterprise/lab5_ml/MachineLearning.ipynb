{
 "cells": [
  {
   "cell_type": "code",
   "execution_count": 16,
   "metadata": {},
   "outputs": [],
   "source": [
    "import pandas as pd\n",
    "from pandas import read_csv\n",
    "import numpy as np\n",
    "from pandas.plotting import scatter_matrix\n",
    "from matplotlib import pyplot as plt\n",
    "import seaborn as sns\n",
    "\n",
    "# ML methods\n",
    "from sklearn.model_selection import train_test_split\n",
    "from sklearn.model_selection import cross_val_score\n",
    "from sklearn.model_selection import StratifiedKFold\n",
    "from sklearn.model_selection import KFold\n",
    "from sklearn.metrics import classification_report\n",
    "from sklearn.metrics import confusion_matrix\n",
    "from sklearn.metrics import accuracy_score\n",
    "from sklearn.preprocessing import StandardScaler\n",
    "\n",
    "\n",
    "# ML models\n",
    "from sklearn.linear_model import LogisticRegression\n",
    "from sklearn.tree import DecisionTreeClassifier\n",
    "from sklearn.neighbors import KNeighborsClassifier\n",
    "from sklearn.discriminant_analysis import LinearDiscriminantAnalysis\n",
    "from sklearn.naive_bayes import GaussianNB\n",
    "from sklearn.svm import SVC"
   ]
  },
  {
   "cell_type": "markdown",
   "metadata": {},
   "source": [
    "# Iris classification\n",
    "\n",
    "\n",
    "The example of Machine Learning project concerns Iris dataset that we analysed last week.\n",
    "\n",
    "We wil try to classify data to each class (species) on the basic of sepal and petal lengths and widths with using most popular ML models.\n",
    "\n",
    "So sepal and petal lengths and widths are our **independent values (features)**.\n",
    "\n",
    "Class is our **dependent value (label)**.\n",
    "\n",
    "\n",
    "\n"
   ]
  },
  {
   "cell_type": "markdown",
   "metadata": {},
   "source": [
    "## 1. Load and summarize your data\n"
   ]
  },
  {
   "cell_type": "code",
   "execution_count": 17,
   "metadata": {},
   "outputs": [
    {
     "name": "stdout",
     "output_type": "stream",
     "text": [
      "    5.1  3.5  1.4  0.2  Iris-setosa\n",
      "0   4.9  3.0  1.4  0.2  Iris-setosa\n",
      "1   4.7  3.2  1.3  0.2  Iris-setosa\n",
      "2   4.6  3.1  1.5  0.2  Iris-setosa\n",
      "3   5.0  3.6  1.4  0.2  Iris-setosa\n",
      "4   5.4  3.9  1.7  0.4  Iris-setosa\n",
      "5   4.6  3.4  1.4  0.3  Iris-setosa\n",
      "6   5.0  3.4  1.5  0.2  Iris-setosa\n",
      "7   4.4  2.9  1.4  0.2  Iris-setosa\n",
      "8   4.9  3.1  1.5  0.1  Iris-setosa\n",
      "9   5.4  3.7  1.5  0.2  Iris-setosa\n",
      "10  4.8  3.4  1.6  0.2  Iris-setosa\n",
      "11  4.8  3.0  1.4  0.1  Iris-setosa\n",
      "12  4.3  3.0  1.1  0.1  Iris-setosa\n",
      "13  5.8  4.0  1.2  0.2  Iris-setosa\n",
      "14  5.7  4.4  1.5  0.4  Iris-setosa\n",
      "15  5.4  3.9  1.3  0.4  Iris-setosa\n",
      "16  5.1  3.5  1.4  0.3  Iris-setosa\n",
      "17  5.7  3.8  1.7  0.3  Iris-setosa\n",
      "18  5.1  3.8  1.5  0.3  Iris-setosa\n",
      "19  5.4  3.4  1.7  0.2  Iris-setosa\n"
     ]
    }
   ],
   "source": [
    "# Load dataset\n",
    "url = \"https://raw.githubusercontent.com/jbrownlee/Datasets/master/iris.csv\"\n",
    "dataset = read_csv(url)\n",
    "# head\n",
    "print(dataset.head(20))"
   ]
  },
  {
   "cell_type": "markdown",
   "metadata": {},
   "source": [
    "#### As you can see our Dataframe doesn't containt headers so we will add it manually.."
   ]
  },
  {
   "cell_type": "code",
   "execution_count": 18,
   "metadata": {},
   "outputs": [
    {
     "name": "stdout",
     "output_type": "stream",
     "text": [
      "(150, 5)\n",
      "    sepal-length  sepal-width  petal-length  petal-width        class\n",
      "0            5.1          3.5           1.4          0.2  Iris-setosa\n",
      "1            4.9          3.0           1.4          0.2  Iris-setosa\n",
      "2            4.7          3.2           1.3          0.2  Iris-setosa\n",
      "3            4.6          3.1           1.5          0.2  Iris-setosa\n",
      "4            5.0          3.6           1.4          0.2  Iris-setosa\n",
      "5            5.4          3.9           1.7          0.4  Iris-setosa\n",
      "6            4.6          3.4           1.4          0.3  Iris-setosa\n",
      "7            5.0          3.4           1.5          0.2  Iris-setosa\n",
      "8            4.4          2.9           1.4          0.2  Iris-setosa\n",
      "9            4.9          3.1           1.5          0.1  Iris-setosa\n",
      "10           5.4          3.7           1.5          0.2  Iris-setosa\n",
      "11           4.8          3.4           1.6          0.2  Iris-setosa\n",
      "12           4.8          3.0           1.4          0.1  Iris-setosa\n",
      "13           4.3          3.0           1.1          0.1  Iris-setosa\n",
      "14           5.8          4.0           1.2          0.2  Iris-setosa\n",
      "15           5.7          4.4           1.5          0.4  Iris-setosa\n",
      "16           5.4          3.9           1.3          0.4  Iris-setosa\n",
      "17           5.1          3.5           1.4          0.3  Iris-setosa\n",
      "18           5.7          3.8           1.7          0.3  Iris-setosa\n",
      "19           5.1          3.8           1.5          0.3  Iris-setosa\n",
      "       sepal-length  sepal-width  petal-length  petal-width\n",
      "count    150.000000   150.000000    150.000000   150.000000\n",
      "mean       5.843333     3.054000      3.758667     1.198667\n",
      "std        0.828066     0.433594      1.764420     0.763161\n",
      "min        4.300000     2.000000      1.000000     0.100000\n",
      "25%        5.100000     2.800000      1.600000     0.300000\n",
      "50%        5.800000     3.000000      4.350000     1.300000\n",
      "75%        6.400000     3.300000      5.100000     1.800000\n",
      "max        7.900000     4.400000      6.900000     2.500000\n"
     ]
    }
   ],
   "source": [
    "# Load dataset\n",
    "url = \"https://raw.githubusercontent.com/jbrownlee/Datasets/master/iris.csv\"\n",
    "names = ['sepal-length', 'sepal-width', 'petal-length', 'petal-width', 'class']\n",
    "dataset = read_csv(url, names=names)\n",
    "# shape\n",
    "print(dataset.shape)\n",
    "# head\n",
    "print(dataset.head(20))\n",
    "# descriptions\n",
    "print(dataset.describe())\n"
   ]
  },
  {
   "cell_type": "markdown",
   "metadata": {},
   "source": [
    "### Check if our classes are balanced..."
   ]
  },
  {
   "cell_type": "code",
   "execution_count": 19,
   "metadata": {},
   "outputs": [
    {
     "name": "stdout",
     "output_type": "stream",
     "text": [
      "class\n",
      "Iris-setosa        50\n",
      "Iris-versicolor    50\n",
      "Iris-virginica     50\n",
      "dtype: int64\n"
     ]
    }
   ],
   "source": [
    "# class distribution\n",
    "print(dataset.groupby('class').size())"
   ]
  },
  {
   "cell_type": "markdown",
   "metadata": {},
   "source": [
    "### Summary:\n",
    "\n",
    "Our features are numeric and out labels are strings (objects). \n",
    "\n",
    "Classes are balanced (50 samples for each). \n",
    "\n"
   ]
  },
  {
   "cell_type": "markdown",
   "metadata": {},
   "source": [
    "## 2. Visualize your data"
   ]
  },
  {
   "cell_type": "markdown",
   "metadata": {},
   "source": [
    "### Box and whisker plots"
   ]
  },
  {
   "cell_type": "code",
   "execution_count": 20,
   "metadata": {},
   "outputs": [
    {
     "data": {
      "image/png": "[encoded data removed]",
      "text/plain": [
       "<Figure size 432x288 with 4 Axes>"
      ]
     },
     "metadata": {
      "needs_background": "light"
     },
     "output_type": "display_data"
    }
   ],
   "source": [
    "dataset.plot(kind='box', subplots=True, layout=(2,2), sharex=False, sharey=False)\n",
    "plt.show()"
   ]
  },
  {
   "cell_type": "markdown",
   "metadata": {},
   "source": [
    "### Histograms"
   ]
  },
  {
   "cell_type": "code",
   "execution_count": 21,
   "metadata": {},
   "outputs": [
    {
     "data": {
      "image/png": "[encoded data removed]",
      "text/plain": [
       "<Figure size 1080x1080 with 4 Axes>"
      ]
     },
     "metadata": {
      "needs_background": "light"
     },
     "output_type": "display_data"
    }
   ],
   "source": [
    "dataset.hist(figsize=[15,15])\n",
    "plt.show()\n"
   ]
  },
  {
   "cell_type": "markdown",
   "metadata": {},
   "source": [
    "### Scatter plot matrix"
   ]
  },
  {
   "cell_type": "code",
   "execution_count": 22,
   "metadata": {},
   "outputs": [
    {
     "data": {
      "image/png": "[encoded data removed]",
      "text/plain": [
       "<Figure size 1080x1080 with 16 Axes>"
      ]
     },
     "metadata": {
      "needs_background": "light"
     },
     "output_type": "display_data"
    }
   ],
   "source": [
    "scatter_matrix(dataset, figsize=[15,15])\n",
    "plt.show()"
   ]
  },
  {
   "cell_type": "markdown",
   "metadata": {},
   "source": [
    "## 3. Preparing data"
   ]
  },
  {
   "cell_type": "markdown",
   "metadata": {},
   "source": [
    "Typical data pre-processing may indclude following steps:\n",
    "\n",
    "- Handling missing data (eliminating/estimating missing data)\n",
    "- Dealing with unbalanced classes\n",
    "- Feature encoding\n",
    "- Feature scaling (normalization/standardization)\n",
    "- #### Extract independent values\n",
    "- #### Test / Validation Split\n"
   ]
  },
  {
   "cell_type": "markdown",
   "metadata": {},
   "source": [
    "### Handing missing data \n",
    "\n",
    "In this case we don't have missing data so we can skip this step."
   ]
  },
  {
   "cell_type": "markdown",
   "metadata": {},
   "source": [
    "### Dealing with unbalanced classes\n",
    "\n",
    "Our classes are perfectly balanced so we can skip this step."
   ]
  },
  {
   "cell_type": "markdown",
   "metadata": {},
   "source": [
    "### Feature encoding \n",
    "\n",
    "All of features in our dataset are numerical so we don't need to modify them"
   ]
  },
  {
   "cell_type": "markdown",
   "metadata": {},
   "source": [
    "### Feature scaling\n",
    "\n",
    "For the sake of simplicity we will skip this step in this example."
   ]
  },
  {
   "cell_type": "markdown",
   "metadata": {},
   "source": [
    "### Extract dependent/independent values"
   ]
  },
  {
   "cell_type": "code",
   "execution_count": 23,
   "metadata": {},
   "outputs": [
    {
     "name": "stdout",
     "output_type": "stream",
     "text": [
      "Our data are is the form of pandas DataFrame.\n",
      "Sample from the 1st row:\n"
     ]
    },
    {
     "data": {
      "text/plain": [
       "sepal-length    5.1\n",
       "sepal-width     3.5\n",
       "petal-length    1.4\n",
       "petal-width     0.2\n",
       "Name: 0, dtype: float64"
      ]
     },
     "execution_count": 23,
     "metadata": {},
     "output_type": "execute_result"
    }
   ],
   "source": [
    "# 1) First method (working with DataFrames)\n",
    "\n",
    "X = dataset.drop('class', axis=1)\n",
    "y = dataset['class']\n",
    "\n",
    "if isinstance(X,pd.core.frame.DataFrame): print('Our data are is the form of pandas DataFrame.')\n",
    "\n",
    "print(\"Sample from the 1st row:\")\n",
    "X.iloc[0]\n",
    "\n"
   ]
  },
  {
   "cell_type": "code",
   "execution_count": 24,
   "metadata": {},
   "outputs": [
    {
     "name": "stdout",
     "output_type": "stream",
     "text": [
      "Our data are is the form of numpy array.\n",
      "Sample from the 1st row:\n"
     ]
    },
    {
     "data": {
      "text/plain": [
       "array([5.1, 3.5, 1.4, 0.2], dtype=object)"
      ]
     },
     "execution_count": 24,
     "metadata": {},
     "output_type": "execute_result"
    }
   ],
   "source": [
    "# 2) Second method (working with numpy arrays)\n",
    "array = dataset.values\n",
    "X = array[:,0:4]\n",
    "y = array[:,4]\n",
    "y = np.array([str(item) for item in y]) #change labels into string values\n",
    "\n",
    "if isinstance(X,np.ndarray): print('Our data are is the form of numpy array.')\n",
    "\n",
    "print(\"Sample from the 1st row:\")\n",
    "X[0]"
   ]
  },
  {
   "cell_type": "markdown",
   "metadata": {},
   "source": [
    "### Test / Validation Split"
   ]
  },
  {
   "cell_type": "markdown",
   "metadata": {},
   "source": [
    "- x_train – features for the training data\n",
    "- x_test – features for the test data\n",
    "- y_train – labels for training data\n",
    "- y_test – labels for testing data\n",
    "\n",
    "\n",
    "train_test_split() method can handle both: numpy arrays or DataFrames:"
   ]
  },
  {
   "cell_type": "code",
   "execution_count": 25,
   "metadata": {},
   "outputs": [],
   "source": [
    "X_train, X_validation, Y_train, Y_validation = train_test_split(X, y, test_size=0.20, random_state=1, shuffle=True)"
   ]
  },
  {
   "cell_type": "code",
   "execution_count": 26,
   "metadata": {},
   "outputs": [
    {
     "name": "stdout",
     "output_type": "stream",
     "text": [
      "Features (independent variables):\n",
      "[[6.1 3.0 4.6 1.4]\n",
      " [7.7 3.0 6.1 2.3]\n",
      " [5.6 2.5 3.9 1.1]\n",
      " [6.4 2.8 5.6 2.1]\n",
      " [5.8 2.8 5.1 2.4]\n",
      " [5.3 3.7 1.5 0.2]\n",
      " [5.5 2.3 4.0 1.3]\n",
      " [5.2 3.4 1.4 0.2]\n",
      " [6.5 2.8 4.6 1.5]\n",
      " [6.7 2.5 5.8 1.8]\n",
      " [6.8 3.0 5.5 2.1]\n",
      " [5.1 3.5 1.4 0.3]\n",
      " [6.0 2.2 5.0 1.5]\n",
      " [6.3 2.9 5.6 1.8]\n",
      " [6.6 2.9 4.6 1.3]\n",
      " [7.7 2.6 6.9 2.3]\n",
      " [5.7 3.8 1.7 0.3]\n",
      " [5.0 3.6 1.4 0.2]\n",
      " [4.8 3.0 1.4 0.3]\n",
      " [5.2 2.7 3.9 1.4]\n",
      " [5.1 3.4 1.5 0.2]\n",
      " [5.5 3.5 1.3 0.2]\n",
      " [7.7 3.8 6.7 2.2]\n",
      " [6.9 3.1 5.4 2.1]\n",
      " [7.3 2.9 6.3 1.8]\n",
      " [6.4 2.8 5.6 2.2]\n",
      " [6.2 2.8 4.8 1.8]\n",
      " [6.0 3.4 4.5 1.6]\n",
      " [7.7 2.8 6.7 2.0]\n",
      " [5.7 3.0 4.2 1.2]\n",
      " [4.8 3.4 1.6 0.2]\n",
      " [5.7 2.5 5.0 2.0]\n",
      " [6.3 2.7 4.9 1.8]\n",
      " [4.8 3.0 1.4 0.1]\n",
      " [4.7 3.2 1.3 0.2]\n",
      " [6.5 3.0 5.8 2.2]\n",
      " [4.6 3.4 1.4 0.3]\n",
      " [6.1 3.0 4.9 1.8]\n",
      " [6.5 3.2 5.1 2.0]\n",
      " [6.7 3.1 4.4 1.4]\n",
      " [5.7 2.8 4.5 1.3]\n",
      " [6.7 3.3 5.7 2.5]\n",
      " [6.0 3.0 4.8 1.8]\n",
      " [5.1 3.8 1.6 0.2]\n",
      " [6.0 2.2 4.0 1.0]\n",
      " [6.4 2.9 4.3 1.3]\n",
      " [6.5 3.0 5.5 1.8]\n",
      " [5.0 2.3 3.3 1.0]\n",
      " [6.3 3.3 6.0 2.5]\n",
      " [5.5 2.5 4.0 1.3]\n",
      " [5.4 3.7 1.5 0.2]\n",
      " [4.9 3.1 1.5 0.1]\n",
      " [5.2 4.1 1.5 0.1]\n",
      " [6.7 3.3 5.7 2.1]\n",
      " [4.4 3.0 1.3 0.2]\n",
      " [6.0 2.7 5.1 1.6]\n",
      " [6.4 2.7 5.3 1.9]\n",
      " [5.9 3.0 5.1 1.8]\n",
      " [5.2 3.5 1.5 0.2]\n",
      " [5.1 3.3 1.7 0.5]\n",
      " [5.8 2.7 4.1 1.0]\n",
      " [4.9 3.1 1.5 0.1]\n",
      " [7.4 2.8 6.1 1.9]\n",
      " [6.2 2.9 4.3 1.3]\n",
      " [7.6 3.0 6.6 2.1]\n",
      " [6.7 3.0 5.2 2.3]\n",
      " [6.3 2.3 4.4 1.3]\n",
      " [6.2 3.4 5.4 2.3]\n",
      " [7.2 3.6 6.1 2.5]\n",
      " [5.6 2.9 3.6 1.3]\n",
      " [5.7 4.4 1.5 0.4]\n",
      " [5.8 2.7 3.9 1.2]\n",
      " [4.5 2.3 1.3 0.3]\n",
      " [5.5 2.4 3.8 1.1]\n",
      " [6.9 3.1 4.9 1.5]\n",
      " [5.0 3.4 1.6 0.4]\n",
      " [6.8 2.8 4.8 1.4]\n",
      " [5.0 3.5 1.6 0.6]\n",
      " [4.8 3.4 1.9 0.2]\n",
      " [6.3 3.4 5.6 2.4]\n",
      " [5.6 2.8 4.9 2.0]\n",
      " [6.8 3.2 5.9 2.3]\n",
      " [5.0 3.3 1.4 0.2]\n",
      " [5.1 3.7 1.5 0.4]\n",
      " [5.9 3.2 4.8 1.8]\n",
      " [4.6 3.1 1.5 0.2]\n",
      " [5.8 2.7 5.1 1.9]\n",
      " [4.8 3.1 1.6 0.2]\n",
      " [6.5 3.0 5.2 2.0]\n",
      " [4.9 2.5 4.5 1.7]\n",
      " [4.6 3.2 1.4 0.2]\n",
      " [6.4 3.2 5.3 2.3]\n",
      " [4.3 3.0 1.1 0.1]\n",
      " [5.6 3.0 4.1 1.3]\n",
      " [4.4 2.9 1.4 0.2]\n",
      " [5.5 2.4 3.7 1.0]\n",
      " [5.0 2.0 3.5 1.0]\n",
      " [5.1 3.5 1.4 0.2]\n",
      " [4.9 3.0 1.4 0.2]\n",
      " [4.9 2.4 3.3 1.0]\n",
      " [4.6 3.6 1.0 0.2]\n",
      " [5.9 3.0 4.2 1.5]\n",
      " [6.1 2.9 4.7 1.4]\n",
      " [5.0 3.4 1.5 0.2]\n",
      " [6.7 3.1 4.7 1.5]\n",
      " [5.7 2.9 4.2 1.3]\n",
      " [6.2 2.2 4.5 1.5]\n",
      " [7.0 3.2 4.7 1.4]\n",
      " [5.8 2.7 5.1 1.9]\n",
      " [5.4 3.4 1.7 0.2]\n",
      " [5.0 3.0 1.6 0.2]\n",
      " [6.1 2.6 5.6 1.4]\n",
      " [6.1 2.8 4.0 1.3]\n",
      " [7.2 3.0 5.8 1.6]\n",
      " [5.7 2.6 3.5 1.0]\n",
      " [6.3 2.8 5.1 1.5]\n",
      " [6.4 3.1 5.5 1.8]\n",
      " [6.3 2.5 4.9 1.5]\n",
      " [6.7 3.1 5.6 2.4]\n",
      " [4.9 3.1 1.5 0.1]]\n"
     ]
    }
   ],
   "source": [
    "print(\"Features (independent variables):\")\n",
    "print(X_train)"
   ]
  },
  {
   "cell_type": "code",
   "execution_count": 27,
   "metadata": {},
   "outputs": [
    {
     "name": "stdout",
     "output_type": "stream",
     "text": [
      "Corresponding labels (dependent variables):\n",
      "['Iris-versicolor' 'Iris-virginica' 'Iris-versicolor' 'Iris-virginica'\n",
      " 'Iris-virginica' 'Iris-setosa' 'Iris-versicolor' 'Iris-setosa'\n",
      " 'Iris-versicolor' 'Iris-virginica' 'Iris-virginica' 'Iris-setosa'\n",
      " 'Iris-virginica' 'Iris-virginica' 'Iris-versicolor' 'Iris-virginica'\n",
      " 'Iris-setosa' 'Iris-setosa' 'Iris-setosa' 'Iris-versicolor' 'Iris-setosa'\n",
      " 'Iris-setosa' 'Iris-virginica' 'Iris-virginica' 'Iris-virginica'\n",
      " 'Iris-virginica' 'Iris-virginica' 'Iris-versicolor' 'Iris-virginica'\n",
      " 'Iris-versicolor' 'Iris-setosa' 'Iris-virginica' 'Iris-virginica'\n",
      " 'Iris-setosa' 'Iris-setosa' 'Iris-virginica' 'Iris-setosa'\n",
      " 'Iris-virginica' 'Iris-virginica' 'Iris-versicolor' 'Iris-versicolor'\n",
      " 'Iris-virginica' 'Iris-virginica' 'Iris-setosa' 'Iris-versicolor'\n",
      " 'Iris-versicolor' 'Iris-virginica' 'Iris-versicolor' 'Iris-virginica'\n",
      " 'Iris-versicolor' 'Iris-setosa' 'Iris-setosa' 'Iris-setosa'\n",
      " 'Iris-virginica' 'Iris-setosa' 'Iris-versicolor' 'Iris-virginica'\n",
      " 'Iris-virginica' 'Iris-setosa' 'Iris-setosa' 'Iris-versicolor'\n",
      " 'Iris-setosa' 'Iris-virginica' 'Iris-versicolor' 'Iris-virginica'\n",
      " 'Iris-virginica' 'Iris-versicolor' 'Iris-virginica' 'Iris-virginica'\n",
      " 'Iris-versicolor' 'Iris-setosa' 'Iris-versicolor' 'Iris-setosa'\n",
      " 'Iris-versicolor' 'Iris-versicolor' 'Iris-setosa' 'Iris-versicolor'\n",
      " 'Iris-setosa' 'Iris-setosa' 'Iris-virginica' 'Iris-virginica'\n",
      " 'Iris-virginica' 'Iris-setosa' 'Iris-setosa' 'Iris-versicolor'\n",
      " 'Iris-setosa' 'Iris-virginica' 'Iris-setosa' 'Iris-virginica'\n",
      " 'Iris-virginica' 'Iris-setosa' 'Iris-virginica' 'Iris-setosa'\n",
      " 'Iris-versicolor' 'Iris-setosa' 'Iris-versicolor' 'Iris-versicolor'\n",
      " 'Iris-setosa' 'Iris-setosa' 'Iris-versicolor' 'Iris-setosa'\n",
      " 'Iris-versicolor' 'Iris-versicolor' 'Iris-setosa' 'Iris-versicolor'\n",
      " 'Iris-versicolor' 'Iris-versicolor' 'Iris-versicolor' 'Iris-virginica'\n",
      " 'Iris-setosa' 'Iris-setosa' 'Iris-virginica' 'Iris-versicolor'\n",
      " 'Iris-virginica' 'Iris-versicolor' 'Iris-virginica' 'Iris-virginica'\n",
      " 'Iris-versicolor' 'Iris-virginica' 'Iris-setosa']\n"
     ]
    }
   ],
   "source": [
    "print(\"Corresponding labels (dependent variables):\")\n",
    "print(Y_train)"
   ]
  },
  {
   "cell_type": "markdown",
   "metadata": {},
   "source": [
    "## 4. Building models and models evaluation technique\n",
    "\n"
   ]
  },
  {
   "cell_type": "markdown",
   "metadata": {},
   "source": [
    "### Build Models\n",
    "\n",
    "\n",
    "Let’s test 6 different algorithms (models):\n",
    "\n",
    "- Logistic Regression (LR)\n",
    "- Linear Discriminant Analysis (LDA)\n",
    "- K-Nearest Neighbors (KNN).\n",
    "- Classification and Regression Trees (CART).\n",
    "- Gaussian Naive Bayes (NB).\n",
    "- Support Vector Machines (SVM).\n",
    "\n",
    "This is a good mixture of simple linear (LR and LDA), nonlinear (KNN, CART, NB and SVM) algorithms."
   ]
  },
  {
   "cell_type": "code",
   "execution_count": 28,
   "metadata": {},
   "outputs": [
    {
     "data": {
      "text/plain": [
       "[('LR', LogisticRegression(multi_class='ovr', solver='liblinear')),\n",
       " ('LDA', LinearDiscriminantAnalysis()),\n",
       " ('KNN', KNeighborsClassifier()),\n",
       " ('CART', DecisionTreeClassifier()),\n",
       " ('NB', GaussianNB()),\n",
       " ('SVM', SVC(gamma='auto'))]"
      ]
     },
     "execution_count": 28,
     "metadata": {},
     "output_type": "execute_result"
    }
   ],
   "source": [
    "models = []\n",
    "models.append(('LR', LogisticRegression(solver='liblinear', multi_class='ovr')))\n",
    "models.append(('LDA', LinearDiscriminantAnalysis()))\n",
    "models.append(('KNN', KNeighborsClassifier()))\n",
    "models.append(('CART', DecisionTreeClassifier()))\n",
    "models.append(('NB', GaussianNB()))\n",
    "models.append(('SVM', SVC(gamma='auto')))\n",
    "models\n",
    "\n"
   ]
  },
  {
   "cell_type": "markdown",
   "metadata": {},
   "source": [
    "### Evaluation technique\n",
    "\n",
    "Due to a limited amount of data we will use k-fold cross-validation technique of evaluating models.\n",
    "Hold-out method is a better choice when huge amount of data is available.\n",
    "\n",
    "We will use stratified 10-fold cross validation to estimate model accuracy.\n",
    "\n",
    "This will split our dataset into 10 parts, train on 9 and test on 1 and repeat for all combinations of train-test splits.\n",
    "\n",
    "Stratified means that each fold or split of the dataset will aim to have the same distribution of example by class as exist in the whole training dataset."
   ]
  },
  {
   "cell_type": "markdown",
   "metadata": {},
   "source": [
    "#### Random seed\n",
    "\n",
    "We set the random seed via the random_state argument to a fixed number to ensure that each algorithm is evaluated on the same splits of the training dataset.\n",
    "\n",
    "We are using the metric of ‘accuracy‘ to evaluate models."
   ]
  },
  {
   "cell_type": "code",
   "execution_count": 29,
   "metadata": {},
   "outputs": [
    {
     "name": "stdout",
     "output_type": "stream",
     "text": [
      "LR: 0.941667 (0.065085)\n",
      "LDA: 0.975000 (0.038188)\n",
      "KNN: 0.958333 (0.041667)\n",
      "CART: 0.950000 (0.040825)\n",
      "NB: 0.950000 (0.055277)\n",
      "SVM: 0.983333 (0.033333)\n"
     ]
    }
   ],
   "source": [
    "results = []\n",
    "names = []\n",
    "for name, model in models:\n",
    "\tkfold = StratifiedKFold(n_splits=10, random_state=1, shuffle=True)\n",
    "\tcv_results = cross_val_score(model, X_train, Y_train, cv=kfold, scoring='accuracy')\n",
    "\tresults.append(cv_results)\n",
    "\tnames.append(name)\n",
    "\tprint('%s: %f (%f)' % (name, cv_results.mean(), cv_results.std()))\n"
   ]
  },
  {
   "cell_type": "markdown",
   "metadata": {},
   "source": [
    "## 5. Select the best model and improve its Accuracy with Algorithm Tuning \n",
    "\n",
    "We now have 6 models and accuracy estimations for each. We need to compare the models to each other and select the most accurate.\n",
    "\n",
    "In this case, we can see that it looks like Support Vector Machines (SVM) has the largest estimated accuracy score at about 0.98 or 98%.\n",
    "\n",
    "We can also create a plot of the model evaluation results and compare the spread and the mean accuracy of each model. There is a population of accuracy measures for each algorithm because each algorithm was evaluated 10 times (via 10 fold-cross validation).\n",
    "\n",
    "A useful way to compare the samples of results for each algorithm is to create a box and whisker plot for each distribution and compare the distributions."
   ]
  },
  {
   "cell_type": "code",
   "execution_count": 30,
   "metadata": {},
   "outputs": [
    {
     "data": {
      "image/png": "[encoded data removed]",
      "text/plain": [
       "<Figure size 432x288 with 1 Axes>"
      ]
     },
     "metadata": {
      "needs_background": "light"
     },
     "output_type": "display_data"
    }
   ],
   "source": [
    "plt.boxplot(results, labels=names)\n",
    "plt.title('Algorithm Comparison')\n",
    "plt.show()"
   ]
  },
  {
   "cell_type": "markdown",
   "metadata": {},
   "source": [
    "Next we will plot a nice barplot with aim to visualize models comparison using seaborn library."
   ]
  },
  {
   "cell_type": "code",
   "execution_count": 43,
   "metadata": {},
   "outputs": [
    {
     "name": "stderr",
     "output_type": "stream",
     "text": [
      "C:\\Anaconda\\envs\\ml\\lib\\site-packages\\seaborn\\_decorators.py:36: FutureWarning: Pass the following variables as keyword args: x, y. From version 0.12, the only valid positional argument will be `data`, and passing other arguments without an explicit keyword will result in an error or misinterpretation.\n",
      "  warnings.warn(\n"
     ]
    },
    {
     "data": {
      "image/png": "[encoded data removed]",
      "text/plain": [
       "<Figure size 432x288 with 1 Axes>"
      ]
     },
     "metadata": {
      "needs_background": "light"
     },
     "output_type": "display_data"
    }
   ],
   "source": [
    "cv_means = [] # cross validation mean value\n",
    "cv_std = [] # cross validation standard deviation\n",
    "\n",
    "for cv_result in results:\n",
    "    cv_means.append(cv_result.mean())\n",
    "    cv_std.append(cv_result.std())\n",
    "    \n",
    "\n",
    "cv_frame = pd.DataFrame(\n",
    "    {\n",
    "        \"CrossValMeans\":cv_means,\n",
    "        \"CrossValErrors\": cv_std,\n",
    "        \"Algorithms\": names\n",
    "    })\n",
    "\n",
    "cv_plot = sns.barplot(\"CrossValMeans\",\"Algorithms\", data = cv_frame,\n",
    "                palette=\"husl\", orient = \"h\", **{'xerr':cv_std})\n",
    "\n",
    "cv_plot.set_xlabel(\"Mean Accuracy\")\n",
    "cv_plot = cv_plot.set_title(\"Scores\")"
   ]
  },
  {
   "cell_type": "markdown",
   "metadata": {},
   "source": [
    "### Algorithm Tuning\n",
    "\n",
    "Lets try to tune the KNN model with using of a grid search method."
   ]
  },
  {
   "cell_type": "code",
   "execution_count": 44,
   "metadata": {},
   "outputs": [
    {
     "name": "stdout",
     "output_type": "stream",
     "text": [
      "Fitting 5 folds for each of 16 candidates, totalling 80 fits\n",
      "Best accuracy: 0.9666666666666668 was obtained with parameters: {'n_neighbors': 7, 'weights': 'uniform'}\n"
     ]
    }
   ],
   "source": [
    "from sklearn.model_selection import GridSearchCV\n",
    "\n",
    "\n",
    "knn_model = KNeighborsClassifier()\n",
    "\n",
    "# parameters that we will try to tune\n",
    "params_knn = {'n_neighbors': range(2, 10),\n",
    "                'weights': ('uniform', 'distance', ), },\n",
    "\n",
    "param_search = GridSearchCV( estimator=knn_model, param_grid=params_knn,\n",
    "                verbose=1)\n",
    "                \n",
    "param_search.fit(X_train, Y_train)\n",
    "\n",
    "best_score = param_search.best_score_\n",
    "best_params = param_search.best_params_\n",
    "\n",
    "print(f'Best accuracy: {best_score} was obtained with parameters: {best_params}')\n"
   ]
  },
  {
   "cell_type": "markdown",
   "metadata": {},
   "source": [
    "As we can see we were able to improve the model accuracy from from 0.956 to 0.966.\n",
    "\n",
    "We could also perform this procedure for all models. In order to prepare parameters for tuning you may read about models implementation in scikit-learn documentation. For example here for [KNeighborsClassifier]('https://scikit-learn.org/stable/modules/generated/sklearn.neighbors.KNeighborsClassifier.html).\n"
   ]
  },
  {
   "cell_type": "markdown",
   "metadata": {},
   "source": [
    "## 6. Make and evaluate predictions\n",
    "\n",
    "We can fit the model on the entire training dataset and make predictions on the validation dataset."
   ]
  },
  {
   "cell_type": "code",
   "execution_count": 33,
   "metadata": {},
   "outputs": [],
   "source": [
    "final_model = KNeighborsClassifier(**best_params) \n",
    "final_model.fit(X_train, Y_train)\n",
    "final_predictions = final_model.predict(X_validation)\n",
    "#final_model.classes_\n"
   ]
  },
  {
   "cell_type": "markdown",
   "metadata": {},
   "source": [
    "### Make predictions on a single sample"
   ]
  },
  {
   "cell_type": "code",
   "execution_count": 34,
   "metadata": {},
   "outputs": [
    {
     "name": "stdout",
     "output_type": "stream",
     "text": [
      "Iris-setosa sample with featues:         \n",
      "\tsepal length: 5.0         \n",
      "\tsepal width: 3.6         \n",
      "\tpepal length: 1.4         \n",
      "\tpepal width: 0.2\n",
      "\n",
      "correctly classified as Iris-setosa\n"
     ]
    }
   ],
   "source": [
    "# element from dataset, e.g. 17\n",
    "n = 17\n",
    "\n",
    "\n",
    "# if you work with pandas DataFrame...\n",
    "if isinstance(X_train, pd.core.frame.DataFrame):\n",
    "    # single row containing features: 'sepal-length', 'sepal-width', 'petal-length', 'petal-width'\n",
    "    x_example = X_train.iloc[n].values.reshape(1, -1)  \n",
    "    y_true = np.array([Y_train.iloc[n]], dtype=object) # corresponding label (class) in this case: 'Iris-setosa'\n",
    "# or with numpy array...\n",
    "else:\n",
    "    # single row containing features: 'sepal-length', 'sepal-width', 'petal-length', 'petal-width'\n",
    "    x_example = X_train[n].reshape(1, -1)  \n",
    "    y_true = np.array([Y_train[n]], dtype=object) # corresponding label (class) in this case: 'Iris-setosa'\n",
    "\n",
    "y_predicted = final_model.predict(x_example)\n",
    "\n",
    "\n",
    "\n",
    "print(f'{y_true[0]} sample with featues: \\\n",
    "        \\n\\tsepal length: {x_example[0][0]} \\\n",
    "        \\n\\tsepal width: {x_example[0][1]} \\\n",
    "        \\n\\tpepal length: {x_example[0][2]} \\\n",
    "        \\n\\tpepal width: {x_example[0][3]}\\n')\n",
    "if y_true==y_predicted[0]:\n",
    "    print(f'correctly classified as {y_predicted[0]}')\n",
    "else: \n",
    "    print(f'inorrectly classified as {y_predicted[0]}')\n"
   ]
  },
  {
   "cell_type": "markdown",
   "metadata": {},
   "source": [
    "You may also try to test on data that are from outside of dataset (custom features collection).\n"
   ]
  },
  {
   "cell_type": "code",
   "execution_count": 35,
   "metadata": {},
   "outputs": [
    {
     "data": {
      "text/plain": [
       "array(['Iris-virginica'], dtype='<U15')"
      ]
     },
     "execution_count": 35,
     "metadata": {},
     "output_type": "execute_result"
    }
   ],
   "source": [
    "custom_example = np.array([2.7, 7.0, 8.1, 4.3]).reshape(1, -1)\n",
    "c_predicted = final_model.predict(custom_example)\n",
    "\n",
    "c_predicted"
   ]
  },
  {
   "cell_type": "markdown",
   "metadata": {},
   "source": [
    "### Probability predictions\n",
    "\n",
    "Another type of prediction you may wish to make is the probability of the data instance belonging to each class.\n",
    "\n",
    "This is called a probability prediction where given a new instance, the model returns the probability for each outcome class as a value between 0 and 1."
   ]
  },
  {
   "cell_type": "code",
   "execution_count": 36,
   "metadata": {},
   "outputs": [
    {
     "name": "stdout",
     "output_type": "stream",
     "text": [
      "Iris-setosa sample with featues:         \n",
      " \tsepal length: 4.8         \n",
      "\tsepal width: 3.4         \n",
      "\tpepal length: 1.6         \n",
      "\tpepal width: 0.2\n",
      "\n",
      "classified as:\n",
      "\tIris-setosa with probability: 1.0             \n",
      "\tIris-versicolor with probability: 0.0             \n",
      "\tIris-virginica with probability: 0.0\n"
     ]
    }
   ],
   "source": [
    "# element from dataset, e.g. 17\n",
    "n = 30\n",
    "\n",
    "\n",
    "# if you work with pandas DataFrame...\n",
    "if isinstance(X_train, pd.core.frame.DataFrame):\n",
    "    # single row containing features: 'sepal-length', 'sepal-width', 'petal-length', 'petal-width'\n",
    "    x_example = X_train.iloc[n].values.reshape(1, -1)  \n",
    "    y_true = np.array([Y_train.iloc[n]], dtype=object) # corresponding label (class) in this case: 'Iris-setosa'\n",
    "# or with numpy array...\n",
    "else:\n",
    "    # single row containing features: 'sepal-length', 'sepal-width', 'petal-length', 'petal-width'\n",
    "    x_example = X_train[n].reshape(1, -1)  \n",
    "    y_true = np.array([Y_train[n]], dtype=object) # corresponding label (class) in this case: 'Iris-setosa'\n",
    "\n",
    "\n",
    "y_predicted = final_model.predict_proba(x_example)\n",
    "\n",
    "\n",
    "\n",
    "print(f'{y_true[0]} sample with featues: \\\n",
    "        \\n \\tsepal length: {x_example[0][0]} \\\n",
    "        \\n\\tsepal width: {x_example[0][1]} \\\n",
    "        \\n\\tpepal length: {x_example[0][2]} \\\n",
    "        \\n\\tpepal width: {x_example[0][3]}\\n')\n",
    "print(f'classified as:\\n\\t{final_model.classes_[0]} with probability: {y_predicted[0][0]} \\\n",
    "            \\n\\t{final_model.classes_[1]} with probability: {y_predicted[0][1]} \\\n",
    "            \\n\\t{final_model.classes_[2]} with probability: {y_predicted[0][2]}')"
   ]
  },
  {
   "cell_type": "code",
   "execution_count": 37,
   "metadata": {},
   "outputs": [
    {
     "name": "stdout",
     "output_type": "stream",
     "text": [
      "Sample with featues:     \n",
      "\tsepal length: 2.9     \n",
      "\tsepal width: 100.0     \n",
      "\tpepal length: 8.1     \n",
      "\tpepal width: 4.3\n",
      "\n",
      "classified as:\n",
      "\tIris-setosa with probability: 0.7142857142857143     \n",
      "\tIris-versicolor with probability: 0.0     \n",
      "\tIris-virginica with probability: 0.2857142857142857\n"
     ]
    }
   ],
   "source": [
    "custom_example = np.array([2.9, 100.0, 8.1, 4.3]).reshape(1, -1)\n",
    "c_predicted = final_model.predict_proba(custom_example)\n",
    "\n",
    "print(f'Sample with featues: \\\n",
    "    \\n\\tsepal length: {custom_example[0][0]} \\\n",
    "    \\n\\tsepal width: {custom_example[0][1]} \\\n",
    "    \\n\\tpepal length: {custom_example[0][2]} \\\n",
    "    \\n\\tpepal width: {custom_example[0][3]}\\n')\n",
    "print(f'classified as:\\n\\t{final_model.classes_[0]} with probability: {c_predicted[0][0]} \\\n",
    "    \\n\\t{final_model.classes_[1]} with probability: {c_predicted[0][1]} \\\n",
    "    \\n\\t{final_model.classes_[2]} with probability: {c_predicted[0][2]}')"
   ]
  },
  {
   "cell_type": "markdown",
   "metadata": {},
   "source": [
    "### Evaluate predictions\n",
    "\n",
    "Now we want to get an idea of the accuracy of the model **on our validation set**.\n",
    "\n",
    "This will give us an independent final check on the accuracy of the model. \n",
    "\n",
    "We can evaluate the predictions by comparing them to the expected results in the validation set, then calculate classification accuracy, as well as a confusion matrix and a classification report.\n"
   ]
  },
  {
   "cell_type": "code",
   "execution_count": 38,
   "metadata": {},
   "outputs": [
    {
     "name": "stdout",
     "output_type": "stream",
     "text": [
      "0.9666666666666667\n",
      "[[11  0  0]\n",
      " [ 0 12  1]\n",
      " [ 0  0  6]]\n",
      "                 precision    recall  f1-score   support\n",
      "\n",
      "    Iris-setosa       1.00      1.00      1.00        11\n",
      "Iris-versicolor       1.00      0.92      0.96        13\n",
      " Iris-virginica       0.86      1.00      0.92         6\n",
      "\n",
      "       accuracy                           0.97        30\n",
      "      macro avg       0.95      0.97      0.96        30\n",
      "   weighted avg       0.97      0.97      0.97        30\n",
      "\n"
     ]
    }
   ],
   "source": [
    "print(accuracy_score(Y_validation, final_predictions))\n",
    "print(confusion_matrix(Y_validation, final_predictions))\n",
    "print(classification_report(Y_validation, final_predictions))"
   ]
  },
  {
   "cell_type": "markdown",
   "metadata": {},
   "source": [
    "The confusion matrix provides an indication of the errors made.\n",
    "\n",
    "Finally, the classification report provides a breakdown of each class by precision, recall, f1-score and support showing excellent results (granted the validation dataset was small).\n",
    "\n",
    "Finally we can use plot the cofusion matrix with nice visualisation:"
   ]
  },
  {
   "cell_type": "code",
   "execution_count": 39,
   "metadata": {},
   "outputs": [
    {
     "name": "stdout",
     "output_type": "stream",
     "text": [
      "Confusion matrix, without normalization\n",
      "[[11  0  0]\n",
      " [ 0 12  1]\n",
      " [ 0  0  6]]\n",
      "Normalized confusion matrix\n",
      "[[1.         0.         0.        ]\n",
      " [0.         0.92307692 0.07692308]\n",
      " [0.         0.         1.        ]]\n"
     ]
    },
    {
     "data": {
      "image/png": "[encoded data removed]",
      "text/plain": [
       "<Figure size 432x288 with 2 Axes>"
      ]
     },
     "metadata": {
      "needs_background": "light"
     },
     "output_type": "display_data"
    },
    {
     "data": {
      "image/png": "[encoded data removed]",
      "text/plain": [
       "<Figure size 432x288 with 2 Axes>"
      ]
     },
     "metadata": {
      "needs_background": "light"
     },
     "output_type": "display_data"
    }
   ],
   "source": [
    "from sklearn.metrics import ConfusionMatrixDisplay\n",
    "\n",
    "# Plot confusion matrix\n",
    "titles_options = [\n",
    "    (\"Confusion matrix, without normalization\", None),\n",
    "    (\"Normalized confusion matrix\", \"true\"),\n",
    "]\n",
    "for title, normalize in titles_options:\n",
    "    disp = ConfusionMatrixDisplay.from_estimator(\n",
    "        final_model,\n",
    "        X_validation,\n",
    "        Y_validation,\n",
    "        display_labels=['Iris-setosa', 'Iris-versicolor', 'Iris-virginica'],\n",
    "        cmap=plt.cm.Blues,\n",
    "        normalize=normalize,\n",
    "    )\n",
    "    disp.ax_.set_title(title)\n",
    "\n",
    "    print(title)\n",
    "    print(disp.confusion_matrix)\n",
    "\n",
    "plt.show()"
   ]
  },
  {
   "cell_type": "markdown",
   "metadata": {},
   "source": [
    "## 7. Save your model\n",
    "\n",
    "You can save your model on your disc in order to use it in the future (instead od repeating whole data preparing, trainig, tuning process)."
   ]
  },
  {
   "cell_type": "code",
   "execution_count": 40,
   "metadata": {},
   "outputs": [],
   "source": [
    "import pickle\n",
    "\n",
    "# save the model to disk\n",
    "filename = 'finalized_model.sav'\n",
    "pickle.dump(final_model, open(filename, 'wb'))\n"
   ]
  },
  {
   "cell_type": "markdown",
   "metadata": {},
   "source": [
    "### Use your saved model"
   ]
  },
  {
   "cell_type": "code",
   "execution_count": 41,
   "metadata": {},
   "outputs": [
    {
     "name": "stdout",
     "output_type": "stream",
     "text": [
      "0.9666666666666667\n"
     ]
    }
   ],
   "source": [
    "# load the model from disk\n",
    "loaded_model = pickle.load(open(filename, 'rb'))\n",
    "result = loaded_model.score(X_validation, Y_validation)\n",
    "print(result)"
   ]
  },
  {
   "cell_type": "code",
   "execution_count": 42,
   "metadata": {},
   "outputs": [
    {
     "name": "stdout",
     "output_type": "stream",
     "text": [
      "Sample with featues:     \n",
      "\tsepal length: 42.9     \n",
      "\tsepal width: 100.0     \n",
      "\tpepal length: 13.1     \n",
      "\tpepal width: 0.3\n",
      "\n",
      "classified as:\n",
      "\tIris-setosa with probability: 0.14285714285714285     \n",
      "\tIris-versicolor with probability: 0.0     \n",
      "\tIris-virginica with probability: 0.8571428571428571\n"
     ]
    }
   ],
   "source": [
    "custom_example = np.array([42.9, 100.0, 13.1, 0.3]).reshape(1, -1)\n",
    "c_predicted = loaded_model.predict_proba(custom_example)\n",
    "\n",
    "print(f'Sample with featues: \\\n",
    "    \\n\\tsepal length: {custom_example[0][0]} \\\n",
    "    \\n\\tsepal width: {custom_example[0][1]} \\\n",
    "    \\n\\tpepal length: {custom_example[0][2]} \\\n",
    "    \\n\\tpepal width: {custom_example[0][3]}\\n')\n",
    "print(f'classified as:\\n\\t{final_model.classes_[0]} with probability: {c_predicted[0][0]} \\\n",
    "    \\n\\t{final_model.classes_[1]} with probability: {c_predicted[0][1]} \\\n",
    "    \\n\\t{final_model.classes_[2]} with probability: {c_predicted[0][2]}')"
   ]
  }
 ],
 "metadata": {
  "interpreter": {
   "hash": "e5850eac91a2827521610ccf5c79e7bfd6182e4ab8e286c9de1db8bcf02b2062"
  },
  "kernelspec": {
   "display_name": "Python 3.9.7 64-bit ('ml': conda)",
   "name": "python3"
  },
  "language_info": {
   "codemirror_mode": {
    "name": "ipython",
    "version": 3
   },
   "file_extension": ".py",
   "mimetype": "text/x-python",
   "name": "python",
   "nbconvert_exporter": "python",
   "pygments_lexer": "ipython3",
   "version": "3.9.11"
  },
  "orig_nbformat": 4
 },
 "nbformat": 4,
 "nbformat_minor": 2
}
